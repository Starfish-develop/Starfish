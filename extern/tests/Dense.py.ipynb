{
 "metadata": {
  "name": "",
  "signature": "sha256:ed1cac604138b19cb4c16b7fe3a245a77ce88b5683e448445fa5f3ac401a7c2d"
 },
 "nbformat": 3,
 "nbformat_minor": 0,
 "worksheets": [
  {
   "cells": [
    {
     "cell_type": "code",
     "collapsed": false,
     "input": [
      "import numpy as np\n",
      "from scipy.linalg import cho_factor, cho_solve, solve"
     ],
     "language": "python",
     "metadata": {},
     "outputs": [],
     "prompt_number": 1
    },
    {
     "cell_type": "code",
     "collapsed": false,
     "input": [
      "ncomp = 5\n",
      "npix = 2300"
     ],
     "language": "python",
     "metadata": {},
     "outputs": [],
     "prompt_number": 2
    },
    {
     "cell_type": "code",
     "collapsed": false,
     "input": [
      "pcomps = np.random.normal(size=(npix, ncomp))"
     ],
     "language": "python",
     "metadata": {},
     "outputs": [],
     "prompt_number": 3
    },
    {
     "cell_type": "code",
     "collapsed": false,
     "input": [
      "Cgp = np.eye(ncomp)\n",
      "Cdata = np.eye(npix)"
     ],
     "language": "python",
     "metadata": {},
     "outputs": [],
     "prompt_number": 4
    },
    {
     "cell_type": "code",
     "collapsed": false,
     "input": [
      "dar = pcomps.dot(Cgp.dot(pcomps.T))"
     ],
     "language": "python",
     "metadata": {},
     "outputs": [],
     "prompt_number": 5
    },
    {
     "cell_type": "code",
     "collapsed": false,
     "input": [
      "C = dar + Cdata"
     ],
     "language": "python",
     "metadata": {},
     "outputs": [],
     "prompt_number": 6
    },
    {
     "cell_type": "code",
     "collapsed": false,
     "input": [
      "ys = 0.01 * np.random.normal(size=(npix,))"
     ],
     "language": "python",
     "metadata": {},
     "outputs": [],
     "prompt_number": 7
    },
    {
     "cell_type": "code",
     "collapsed": false,
     "input": [
      "%%timeit \n",
      "factor, flag = cho_factor(C, check_finite=False, overwrite_a=True)\n",
      "np.dot(ys, cho_solve((factor, flag), ys, check_finite=False, overwrite_b=True))"
     ],
     "language": "python",
     "metadata": {},
     "outputs": [
      {
       "output_type": "stream",
       "stream": "stdout",
       "text": [
        "1 loops, best of 3: 2.31 s per loop\n"
       ]
      }
     ],
     "prompt_number": 8
    },
    {
     "cell_type": "code",
     "collapsed": false,
     "input": [
      "%%timeit\n",
      "np.dot(ys, solve(C, ys, sym_pos=True, overwrite_a=True, overwrite_b=True, check_finite=False))"
     ],
     "language": "python",
     "metadata": {},
     "outputs": [
      {
       "output_type": "stream",
       "stream": "stdout",
       "text": [
        "1 loops, best of 3: 2.24 s per loop\n"
       ]
      }
     ],
     "prompt_number": 11
    },
    {
     "cell_type": "code",
     "collapsed": false,
     "input": [
      "mat = np.arange(25)"
     ],
     "language": "python",
     "metadata": {},
     "outputs": [],
     "prompt_number": 12
    },
    {
     "cell_type": "code",
     "collapsed": false,
     "input": [
      "mat.shape = (5,5)"
     ],
     "language": "python",
     "metadata": {},
     "outputs": [],
     "prompt_number": 13
    },
    {
     "cell_type": "code",
     "collapsed": false,
     "input": [
      "flag = (mat > 7) * (mat < 15)"
     ],
     "language": "python",
     "metadata": {},
     "outputs": [],
     "prompt_number": 17
    },
    {
     "cell_type": "code",
     "collapsed": false,
     "input": [
      "for index in np.argwhere(flag):\n",
      "    print(index)"
     ],
     "language": "python",
     "metadata": {},
     "outputs": [
      {
       "output_type": "stream",
       "stream": "stdout",
       "text": [
        "[1 3]\n",
        "[1 4]\n",
        "[2 0]\n",
        "[2 1]\n",
        "[2 2]\n",
        "[2 3]\n",
        "[2 4]\n"
       ]
      }
     ],
     "prompt_number": 25
    },
    {
     "cell_type": "code",
     "collapsed": false,
     "input": [
      "mat"
     ],
     "language": "python",
     "metadata": {},
     "outputs": [
      {
       "metadata": {},
       "output_type": "pyout",
       "prompt_number": 19,
       "text": [
        "array([[ 0,  1,  2,  3,  4],\n",
        "       [ 5,  6,  7,  8,  9],\n",
        "       [10, 11, 12, 13, 14],\n",
        "       [15, 16, 17, 18, 19],\n",
        "       [20, 21, 22, 23, 24]])"
       ]
      }
     ],
     "prompt_number": 19
    },
    {
     "cell_type": "code",
     "collapsed": false,
     "input": [
      "wl = np.linspace(10, 40)"
     ],
     "language": "python",
     "metadata": {},
     "outputs": [],
     "prompt_number": 20
    },
    {
     "cell_type": "code",
     "collapsed": false,
     "input": [
      "rr = np.abs(wl[:, None] - wl[None, :])"
     ],
     "language": "python",
     "metadata": {},
     "outputs": [],
     "prompt_number": 27
    },
    {
     "cell_type": "code",
     "collapsed": false,
     "input": [
      "flag = (rr < 7)"
     ],
     "language": "python",
     "metadata": {},
     "outputs": [],
     "prompt_number": 28
    },
    {
     "cell_type": "code",
     "collapsed": false,
     "input": [
      "np.argwhere(flag)"
     ],
     "language": "python",
     "metadata": {},
     "outputs": [
      {
       "metadata": {},
       "output_type": "pyout",
       "prompt_number": 30,
       "text": [
        "array([[ 0,  0],\n",
        "       [ 0,  1],\n",
        "       [ 0,  2],\n",
        "       ..., \n",
        "       [49, 47],\n",
        "       [49, 48],\n",
        "       [49, 49]])"
       ]
      }
     ],
     "prompt_number": 30
    },
    {
     "cell_type": "code",
     "collapsed": false,
     "input": [
      "%load_ext cythonmagic"
     ],
     "language": "python",
     "metadata": {},
     "outputs": [],
     "prompt_number": 31
    },
    {
     "cell_type": "code",
     "collapsed": false,
     "input": [
      "%%cython\n",
      "\n",
      "cimport cython\n",
      "cimport numpy as np\n",
      "import numpy as np\n",
      "from Starfish import constants as C\n",
      "\n",
      "@cython.boundscheck(False)\n",
      "def get_dense_C(np.ndarray[np.double_t, ndim=1] wl, k_func, double max_r):\n",
      "    '''\n",
      "    Fill out the covariance matrix.\n",
      "    '''\n",
      "\n",
      "    cdef int N = len(wl)\n",
      "    cdef int i = 0\n",
      "    cdef int j = 0\n",
      "    cdef double cov = 0.0\n",
      "\n",
      "    #Find all the indices that are less than the radius\n",
      "    rr = np.abs(wl[:, None] - wl[None, :]) * C.c_kms/wl #Velocity space\n",
      "    flag = (rr < max_r)\n",
      "    indices = np.argwhere(flag)\n",
      "\n",
      "    #The matrix that we want to fill\n",
      "    mat = np.zeros((N,N))\n",
      "\n",
      "    #Loop over all the indices\n",
      "    for index in indices:\n",
      "        i,j = index\n",
      "        if j > i:\n",
      "            continue\n",
      "        else:\n",
      "            #Initilize [i,j] and [j,i]\n",
      "            cov = k_func(wl[i], wl[j])\n",
      "            mat[i,j] = cov\n",
      "            mat[j,i] = cov\n",
      "\n",
      "    return mat\n"
     ],
     "language": "python",
     "metadata": {},
     "outputs": [],
     "prompt_number": 43
    },
    {
     "cell_type": "code",
     "collapsed": false,
     "input": [
      "wl = np.linspace(5000, 5100, num=2000)"
     ],
     "language": "python",
     "metadata": {},
     "outputs": [],
     "prompt_number": 44
    },
    {
     "cell_type": "code",
     "collapsed": true,
     "input": [
      "k_func = lambda wl1,wl2 : np.exp(-(wl2 - wl1)**2)"
     ],
     "language": "python",
     "metadata": {},
     "outputs": [],
     "prompt_number": 45
    },
    {
     "cell_type": "code",
     "collapsed": false,
     "input": [
      "def k_func(wl1, wl2):\n",
      "    r2 = (wl2 - wl1)**2\n",
      "    if (wl2 > 5010) and(wl2 < 5020):\n",
      "        return 10. \n",
      "    else:\n",
      "        return np.exp(-(wl2 - wl1)**2)"
     ],
     "language": "python",
     "metadata": {},
     "outputs": [],
     "prompt_number": 48
    },
    {
     "cell_type": "code",
     "collapsed": false,
     "input": [
      "%timeit get_dense_C(wl, k_func, 50.)"
     ],
     "language": "python",
     "metadata": {},
     "outputs": [
      {
       "output_type": "stream",
       "stream": "stdout",
       "text": [
        "1 loops, best of 3: 379 ms per loop\n"
       ]
      }
     ],
     "prompt_number": 49
    },
    {
     "cell_type": "code",
     "collapsed": false,
     "input": [
      "import matplotlib.pyplot as plt"
     ],
     "language": "python",
     "metadata": {},
     "outputs": [],
     "prompt_number": 50
    },
    {
     "cell_type": "code",
     "collapsed": false,
     "input": [
      "plt.imshow(get_dense_C(wl, k_func, 50.))\n",
      "plt.show()"
     ],
     "language": "python",
     "metadata": {},
     "outputs": [],
     "prompt_number": 51
    },
    {
     "cell_type": "code",
     "collapsed": false,
     "input": [],
     "language": "python",
     "metadata": {},
     "outputs": []
    }
   ],
   "metadata": {}
  }
 ]
}