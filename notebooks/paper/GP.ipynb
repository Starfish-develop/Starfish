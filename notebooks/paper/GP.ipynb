{
 "cells": [
  {
   "cell_type": "markdown",
   "metadata": {},
   "source": [
    "Appendix plots for describing the Gaussian process model"
   ]
  },
  {
   "cell_type": "code",
   "execution_count": 1,
   "metadata": {
    "collapsed": false
   },
   "outputs": [],
   "source": [
    "from Starfish.emulator import Emulator, PCAGrid\n",
    "from Starfish.utils import saveall\n",
    "import numpy as np\n",
    "import matplotlib.pyplot as plt\n",
    "from mpl_toolkits.axes_grid1.inset_locator import zoomed_inset_axes\n",
    "from mpl_toolkits.axes_grid1.inset_locator import inset_axes\n",
    "from mpl_toolkits.axes_grid1.inset_locator import mark_inset\n",
    "from matplotlib.ticker import FormatStrFormatter as FSF\n",
    "from matplotlib.ticker import MaxNLocator\n",
    "from matplotlib.ticker import MultipleLocator\n",
    "\n",
    "from Starfish.config.grid_tools import HDF5Interface"
   ]
  },
  {
   "cell_type": "code",
   "execution_count": 2,
   "metadata": {
    "collapsed": false
   },
   "outputs": [],
   "source": [
    "em = Emulator.open(\"../../libraries/PHOENIX_SPEX_M_PCA.hdf5\") # All weights\n",
    "pca = em.PCAGrid"
   ]
  },
  {
   "cell_type": "code",
   "execution_count": 3,
   "metadata": {
    "collapsed": false
   },
   "outputs": [],
   "source": [
    "temps = np.unique(pca.gparams[:,0])\n",
    "#loggs = np.unique(pca.gparams[:,1])\n",
    "#Zs = np.unique(pca.gparams[:,2])\n",
    "#points = {\"temp\":temps, \"logg\":loggs, \"Z\":Zs}"
   ]
  },
  {
   "cell_type": "code",
   "execution_count": 4,
   "metadata": {
    "collapsed": false
   },
   "outputs": [],
   "source": [
    "# temps use just 2800 - 3200\n",
    "logg = 5.0\n",
    "Z = 0.0"
   ]
  },
  {
   "cell_type": "code",
   "execution_count": 5,
   "metadata": {
    "collapsed": false
   },
   "outputs": [],
   "source": [
    "int_temps = np.linspace(temps[0], temps[-1], num=40)\n",
    "int_temps2 = np.linspace(3100, 3200, num=40)\n",
    "\n",
    "weight_index = 4\n",
    "weights = pca.w[weight_index]\n",
    "pcomp = pca.pcomps[weight_index]\n",
    "emw = em.WEs[weight_index] # The emulator for the first weight\n",
    "\n",
    "nsamp = 50"
   ]
  },
  {
   "cell_type": "code",
   "execution_count": 13,
   "metadata": {
    "collapsed": false
   },
   "outputs": [],
   "source": [
    "mu, var = emw(np.array([3150, logg, Z]))\n",
    "mu = mu[0]\n",
    "var = var[0][0]"
   ]
  },
  {
   "cell_type": "code",
   "execution_count": 15,
   "metadata": {
    "collapsed": false
   },
   "outputs": [
    {
     "name": "stdout",
     "output_type": "stream",
     "text": [
      "-2.19961725216\n"
     ]
    }
   ],
   "source": [
    "print(mu)"
   ]
  },
  {
   "cell_type": "code",
   "execution_count": 35,
   "metadata": {
    "collapsed": false
   },
   "outputs": [],
   "source": [
    "fig = plt.figure(figsize=(4, 3))\n",
    "ax = fig.add_subplot(111)\n",
    "\n",
    "# Load the grid-point weights\n",
    "ww = []\n",
    "for temp in temps:\n",
    "    pars = np.array([temp, logg, Z])\n",
    "    index = pca.get_index(pars)\n",
    "    ww.append(weights[index])\n",
    "    \n",
    "fparams = []\n",
    "for temp in int_temps:\n",
    "    fparams.append([temp, logg, Z])\n",
    "fparams = np.array(fparams)        \n",
    "\n",
    "wgps = []\n",
    "for k in range(nsamp):\n",
    "    wgps.append(emw.draw_weights(fparams))\n",
    "    \n",
    "for k in range(nsamp):    \n",
    "    ax.plot(int_temps, wgps[k] , \"b\", lw=0.1)\n",
    "    \n",
    "ax.plot(temps, ww, \"bo\")\n",
    "    \n",
    "ax.xaxis.set_major_formatter(FSF(\"%.0f\"))        \n",
    "ax.xaxis.set_major_locator(MultipleLocator(100))  \n",
    "\n",
    "ax.set_xlabel(r\"$T_\\textrm{eff}$\")\n",
    "ax.set_ylabel(r\"$w_5$\")\n",
    "        \n",
    "#        #l,b,w,h\n",
    "# rect = 0.6, 0.2, 0.25, 0.3\n",
    "\n",
    "# axins = fig.add_axes(rect)\n",
    "\n",
    "axins = inset_axes(ax, width=1.5, height=1.5, loc=4)\n",
    "\n",
    "# Finer temperature spacing for the inset\n",
    "fparams2 = []\n",
    "for temp in int_temps2:\n",
    "    fparams2.append([temp, logg, Z])\n",
    "fparams2 = np.array(fparams2)       \n",
    "\n",
    "for k in range(nsamp):    \n",
    "    axins.plot(int_temps2, emw.draw_weights(fparams2) , \"b\", lw=0.1)\n",
    "\n",
    "axins.axvline(3150, color=\"k\", ymin=0.2, ymax=0.8)    \n",
    "# sub region of the original image\n",
    "x1, x2, y1, y2 = 3140, 3160, mu-0.01, mu+0.01\n",
    "axins.set_xlim(x1, x2)\n",
    "axins.set_ylim(y1, y2)\n",
    "#ax.plot(3150, mu, \"o\")\n",
    "axins.plot(3150, mu, \"ko\")\n",
    "\n",
    "axins.xaxis.set_ticklabels([])\n",
    "axins.yaxis.set_ticklabels([])\n",
    "\n",
    "mark_inset(ax, axins, loc1=2, loc2=1, fc=\"none\", ec=\"0.6\")\n",
    "\n",
    "fig.subplots_adjust(left=0.14, right=0.86, bottom=0.15)\n",
    "\n",
    "saveall(fig, \"../../plots/GP_left\")\n",
    "\n",
    "plt.show()"
   ]
  },
  {
   "cell_type": "markdown",
   "metadata": {},
   "source": [
    "Now plot the probability distribution at 3150"
   ]
  },
  {
   "cell_type": "code",
   "execution_count": 27,
   "metadata": {
    "collapsed": false
   },
   "outputs": [],
   "source": [
    "def gauss(x):\n",
    "    return 1/np.sqrt(2. * np.pi * var) * np.exp(-0.5 * (x - mu)**2/var)"
   ]
  },
  {
   "cell_type": "code",
   "execution_count": 32,
   "metadata": {
    "collapsed": false
   },
   "outputs": [],
   "source": [
    "step = 0.1 * (y2 - y1)"
   ]
  },
  {
   "cell_type": "code",
   "execution_count": 33,
   "metadata": {
    "collapsed": false
   },
   "outputs": [],
   "source": [
    "xs = np.linspace(y1 + step, y2 - step, num=100)"
   ]
  },
  {
   "cell_type": "code",
   "execution_count": 34,
   "metadata": {
    "collapsed": false
   },
   "outputs": [],
   "source": [
    "fig = plt.figure(figsize=(3,3))\n",
    "ax = fig.add_subplot(111)\n",
    "\n",
    "ax.plot(xs, gauss(xs), \"k\")\n",
    "ax.set_xlim(xs[0], xs[-1])\n",
    "\n",
    "#ax.xaxis.set_major_formatter(FSF(\"%.0f\"))        \n",
    "ax.xaxis.set_major_locator(MultipleLocator(0.005))  \n",
    "ax.set_xlabel(r\"$w_5$\")\n",
    "ax.set_ylabel(r\"$p(w_5 |\\, \\theta_\\ast)$\")\n",
    "\n",
    "fig.subplots_adjust(left=0.18, right=0.82, bottom=0.15)\n",
    "\n",
    "saveall(fig, \"../../plots/GP_right\")\n",
    "\n",
    "plt.show()"
   ]
  },
  {
   "cell_type": "code",
   "execution_count": null,
   "metadata": {
    "collapsed": false
   },
   "outputs": [],
   "source": []
  }
 ],
 "metadata": {
  "kernelspec": {
   "display_name": "Python 3",
   "language": "python",
   "name": "python3"
  },
  "language_info": {
   "codemirror_mode": {
    "name": "ipython",
    "version": 3
   },
   "file_extension": ".py",
   "mimetype": "text/x-python",
   "name": "python",
   "nbconvert_exporter": "python",
   "pygments_lexer": "ipython3",
   "version": "3.4.3"
  }
 },
 "nbformat": 4,
 "nbformat_minor": 0
}
