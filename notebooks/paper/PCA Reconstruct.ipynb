{
 "metadata": {
  "name": "",
  "signature": "sha256:8914b158e59f6022c8c87ffc86e6ffd4026d8c5d49ddc3fb8777ed7a26625da8"
 },
 "nbformat": 3,
 "nbformat_minor": 0,
 "worksheets": [
  {
   "cells": [
    {
     "cell_type": "markdown",
     "metadata": {},
     "source": [
      "Figure to show the reconstruction of a spectrum from it's eigenspectra basis, for Gl51"
     ]
    },
    {
     "cell_type": "code",
     "collapsed": false,
     "input": [
      "from Starfish.emulator import PCAGrid\n",
      "from Starfish.config.grid_tools import HDF5Interface\n",
      "import matplotlib.pyplot as plt\n",
      "import numpy as np\n",
      "from matplotlib.ticker import FormatStrFormatter as FSF\n",
      "from matplotlib.ticker import MaxNLocator\n",
      "from matplotlib.ticker import MultipleLocator\n",
      "from Starfish.utils import saveall"
     ],
     "language": "python",
     "metadata": {},
     "outputs": [],
     "prompt_number": 1
    },
    {
     "cell_type": "code",
     "collapsed": false,
     "input": [
      "pca = PCAGrid.open(\"../../libraries/PHOENIX_SPEX_M_PCA.hdf5\")\n",
      "interface = HDF5Interface(\"../../libraries/PHOENIX_SPEX_M.hdf5\")\n",
      "wl = pca.wl"
     ],
     "language": "python",
     "metadata": {},
     "outputs": [],
     "prompt_number": 2
    },
    {
     "cell_type": "code",
     "collapsed": false,
     "input": [
      "ind = (wl[0] <= interface.wl) & (interface.wl <= wl[-1])"
     ],
     "language": "python",
     "metadata": {},
     "outputs": [],
     "prompt_number": 3
    },
    {
     "cell_type": "code",
     "collapsed": false,
     "input": [
      "rfluxes = np.array([flux[ind] for flux in interface.fluxes])\n",
      "fluxes = np.array([flux[ind] for flux in interface.fluxes])\n",
      "\n",
      "#Normalize all of the fluxes to an average value of 1\n",
      "#In order to remove interesting correlations\n",
      "flux_avg = np.average(fluxes, axis=1)[np.newaxis].T\n",
      "\n",
      "fluxes = fluxes/flux_avg\n",
      "rfluxes = rfluxes/flux_avg\n",
      "\n",
      "#Subtract the mean from all of the fluxes.\n",
      "flux_mean = np.average(fluxes, axis=0)\n",
      "fluxes -= flux_mean\n",
      "\n",
      "#\"Whiten\" each spectrum such that the variance for each wavelength is 1\n",
      "flux_std = np.std(fluxes, axis=0)\n",
      "fluxes /= flux_std"
     ],
     "language": "python",
     "metadata": {},
     "outputs": [],
     "prompt_number": 4
    },
    {
     "cell_type": "code",
     "collapsed": false,
     "input": [
      "interface.list_grid_points[187]"
     ],
     "language": "python",
     "metadata": {},
     "outputs": [
      {
       "metadata": {},
       "output_type": "pyout",
       "prompt_number": 5,
       "text": [
        "{'logg': 5.0, 'Z': 0.0, 'alpha': 0.0, 'temp': 3000}"
       ]
      }
     ],
     "prompt_number": 5
    },
    {
     "cell_type": "code",
     "collapsed": false,
     "input": [
      "pca.gparams[37]"
     ],
     "language": "python",
     "metadata": {},
     "outputs": [
      {
       "metadata": {},
       "output_type": "pyout",
       "prompt_number": 6,
       "text": [
        "array([ 3000.,     5.,     0.])"
       ]
      }
     ],
     "prompt_number": 6
    },
    {
     "cell_type": "code",
     "collapsed": false,
     "input": [
      "#h_spec = interface.load_flux({\"temp\":3000, \"logg\":5.0, \"Z\":0.0, \"alpha\":0.0})[ind]"
     ],
     "language": "python",
     "metadata": {},
     "outputs": [],
     "prompt_number": 70
    },
    {
     "cell_type": "code",
     "collapsed": false,
     "input": [
      "h_spec = rfluxes[187]"
     ],
     "language": "python",
     "metadata": {},
     "outputs": [],
     "prompt_number": 7
    },
    {
     "cell_type": "code",
     "collapsed": true,
     "input": [
      "std_spec = fluxes[187]"
     ],
     "language": "python",
     "metadata": {},
     "outputs": [],
     "prompt_number": 8
    },
    {
     "cell_type": "code",
     "collapsed": false,
     "input": [
      "raw_spec = fluxes[187] * flux_std + flux_mean"
     ],
     "language": "python",
     "metadata": {},
     "outputs": [],
     "prompt_number": 9
    },
    {
     "cell_type": "markdown",
     "metadata": {},
     "source": [
      "Project the `std_spec` onto the principal components to determine the weights."
     ]
    },
    {
     "cell_type": "code",
     "collapsed": false,
     "input": [
      "ww = pca.pcomps.dot(std_spec)"
     ],
     "language": "python",
     "metadata": {},
     "outputs": [],
     "prompt_number": 10
    },
    {
     "cell_type": "code",
     "collapsed": false,
     "input": [
      "ww"
     ],
     "language": "python",
     "metadata": {},
     "outputs": [
      {
       "metadata": {},
       "output_type": "pyout",
       "prompt_number": 11,
       "text": [
        "array([-27.89909803, -10.62579203,  -0.66197484,  -3.63912344,  -2.35353456])"
       ]
      }
     ],
     "prompt_number": 11
    },
    {
     "cell_type": "code",
     "collapsed": true,
     "input": [
      "recon_spec = pca.reconstruct(ww)"
     ],
     "language": "python",
     "metadata": {},
     "outputs": [],
     "prompt_number": 13
    },
    {
     "cell_type": "code",
     "collapsed": false,
     "input": [
      "fig, ax = plt.subplots(nrows=2, figsize=(7,4.3), sharex=True)\n",
      "\n",
      "wlm = wl * 1e-4 #convert to microns\n",
      "\n",
      "w_list = [r\"w_{}\".format(j) for j in range(1,6)]\n",
      "xi_list = [r\"$\\xi_{}$\".format(j) for j in range(1,6)]\n",
      "\n",
      "ax[0].plot(wlm, pca.flux_mean + 0.9, \"0.5\")\n",
      "ax[0].plot(wlm, pca.flux_std + 1.5, \"0.5\")\n",
      "\n",
      "ax[0].annotate(r\"$\\xi_\\mu$\", (2.02, 2.15))\n",
      "ax[0].annotate(r\"$\\xi_\\sigma$\", (2.02, 1.6))\n",
      "\n",
      "ax[0].set_ylabel(r\"$\\propto f_\\lambda$ + offset\")\n",
      "\n",
      "for i, pcomp in enumerate(pca.pcomps):\n",
      "    offset = (1.2 - i*0.25)\n",
      "    ax[0].plot(wlm, pcomp + offset, \"k\")\n",
      "    ax[0].annotate(r\"${} = {:0.1f}$\".format(w_list[i], ww[i]), (2.035, offset + 0.05), color=\"k\", size=8)\n",
      "    ax[0].annotate(xi_list[i], (2.02, offset + 0.05), color=\"k\", size=9)\n",
      "\n",
      "#ax[0].set_ylim(0.0, 2.15)\n",
      "    \n",
      "ax[1].plot(wlm, h_spec + 0.15, \"b\")\n",
      "ax[1].plot(wlm, recon_spec, \"g\")\n",
      "ax[1].annotate(\"synthetic\", (2.02, 0.9), color=\"b\", size=9)\n",
      "ax[1].annotate(\"PCA reconstructed\", (2.02, 0.8), color=\"g\", size=9)\n",
      "#ax[1].xaxis.set_major_formatter(FSF(\"%.1f\"))\n",
      "ax[1].set_xlabel(r\"$\\lambda$ [$\\mu$m]\")\n",
      "ax[1].set_ylabel(r\"$\\propto f_\\lambda$ + offset\")\n",
      "\n",
      "#Plots the residual spectrum\n",
      "#ax[1].plot(wl, (h_spec - recon_spec) * 10)\n",
      "fig.subplots_adjust(hspace=0.15, left=0.1, right=0.9, bottom=0.15, top=0.93)\n",
      "ax[-1].set_xlim(wlm[0], wlm[-1])\n",
      "saveall(fig, \"../../plots/pca_reconstruct\")\n",
      "#plt.show()"
     ],
     "language": "python",
     "metadata": {},
     "outputs": [],
     "prompt_number": 35
    },
    {
     "cell_type": "code",
     "collapsed": false,
     "input": [],
     "language": "python",
     "metadata": {},
     "outputs": []
    }
   ],
   "metadata": {}
  }
 ]
}