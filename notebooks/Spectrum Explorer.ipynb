{
 "cells": [
  {
   "cell_type": "markdown",
   "metadata": {},
   "source": [
    "#Spectrum Explorer\n",
    "\n",
    "Designed to visualize and explore fits to the data"
   ]
  },
  {
   "cell_type": "code",
   "execution_count": 1,
   "metadata": {
    "collapsed": false
   },
   "outputs": [],
   "source": [
    "%load_ext autoreload\n",
    "%autoreload 2"
   ]
  },
  {
   "cell_type": "code",
   "execution_count": 1,
   "metadata": {
    "collapsed": false
   },
   "outputs": [
    {
     "name": "stdout",
     "output_type": "stream",
     "text": [
      "Using matplotlib backend: Qt4Agg\n"
     ]
    },
    {
     "name": "stderr",
     "output_type": "stream",
     "text": [
      ":0: FutureWarning: IPython widgets are experimental and may change in the future.\n"
     ]
    }
   ],
   "source": [
    "%matplotlib\n",
    "import matplotlib.pyplot as plt\n",
    "import numpy as np\n",
    "from IPython.html import widgets # Widget definitions\n",
    "from IPython.display import display, clear_output, HTML # Used to display widgets in the notebook\n",
    "from IPython.html.widgets import interact, interactive, fixed"
   ]
  },
  {
   "cell_type": "code",
   "execution_count": 2,
   "metadata": {
    "collapsed": false
   },
   "outputs": [],
   "source": [
    "import Starfish\n",
    "import Starfish.config.grid_tools\n",
    "from Starfish.samplers import StateSampler\n",
    "from Starfish.spectrum import DataSpectrum, Mask, ChebyshevSpectrum\n",
    "from Starfish.emulator import Emulator\n",
    "import Starfish.constants as C\n",
    "from Starfish.covariance import get_dense_C, make_k_func, make_k_func_region\n",
    "from Starfish.model import ThetaParam, PhiParam\n",
    "\n",
    "from scipy.special import j1\n",
    "from scipy.interpolate import InterpolatedUnivariateSpline\n",
    "import numpy as np\n",
    "\n",
    "#myDataSpectrum = DataSpectrum.open(\"../data/WASP14/WASP14-2010-03-29.hdf5\", orders=np.array([22]))\n",
    "myDataSpectrum = DataSpectrum.open(\"../data/WASP14/WASP14-2009-06-14.hdf5\", orders=np.array([22]))\n",
    "\n",
    "#mask = np.load(\"WASP14_24.mask.npy\")\n",
    "#myDataSpectrum.add_mask(np.atleast_2d(mask))\n",
    "#myDataSpectrum = DataSpectrum.open(\"../data/LkCa15/LkCa15-2013-10-12.hdf5\", orders=np.array([32]))\n",
    "# myDataSpectrum = DataSpectrum.open(\"../data/Gl51/Gl51.hdf5\")\n",
    "\n",
    "myInstrument = TRES()\n",
    "# myInstrument = SPEX()\n",
    "\n",
    "myHDF5Interface = HDF5Interface(\"../libraries/PHOENIX_TRES_F.hdf5\")\n",
    "#myHDF5Interface = HDF5Interface(\"../libraries/Kurucz_TRES.hdf5\")\n",
    "#myHDF5Interface = HDF5Interface(\"../libraries/Kurucz_master.hdf5\")"
   ]
  },
  {
   "cell_type": "code",
   "execution_count": 13,
   "metadata": {
    "collapsed": false
   },
   "outputs": [
    {
     "name": "stdout",
     "output_type": "stream",
     "text": [
      "Determine Chunk Log: Wl is 8192\n",
      "Creating OrderModel 0\n",
      "Creating OrderModel 1\n",
      "Creating OrderModel 2\n",
      "Deallocating Covariance Matrix\n",
      "Deallocating GlobalCovarianceMatrix\n",
      "Deallocating Common\n",
      "Deallocating Covariance Matrix\n",
      "Deallocating GlobalCovarianceMatrix\n",
      "Deallocating Common\n",
      "Deallocating Covariance Matrix\n",
      "Deallocating GlobalCovarianceMatrix\n",
      "Deallocating Common\n"
     ]
    }
   ],
   "source": [
    "#Load a model using the JSON file\n",
    "myModel = Model.from_json(\"WASP2_21_22_23_model_final.json\", myDataSpectrum, myInstrument, myHDF5Interface)\n",
    "#myModel.evaluate()"
   ]
  },
  {
   "cell_type": "code",
   "execution_count": 3,
   "metadata": {
    "collapsed": false
   },
   "outputs": [
    {
     "name": "stderr",
     "output_type": "stream",
     "text": [
      "DEBUG:GlobalCovarianceMatrix:Initialized GlobalCovarianceMatrix\n",
      "DEBUG:InterpCovarianceMatrix:Initialized InterpCovarianceMatrix\n",
      "DEBUG:CovarianceMatrix:updating factorization\n",
      "DEBUG:CovarianceMatrix:Adding interp_matrix and GCM\n",
      "DEBUG:CovarianceMatrix:shifting self.L_last to point to self.L\n",
      "DEBUG:CovarianceMatrix:updating logdet\n"
     ]
    },
    {
     "name": "stdout",
     "output_type": "stream",
     "text": [
      "Determine Chunk Log: Wl is 8192\n",
      "Creating OrderModel 0\n"
     ]
    }
   ],
   "source": [
    "#Or, instantiate and tweak parameters\n",
    "myModel = Model(myDataSpectrum, myInstrument, myHDF5Interface, stellar_tuple=(\"temp\", \"logg\", \"Z\", \"vsini\", \"vz\", \"logOmega\"), \n",
    "                cheb_tuple=(\"logc0\",\"c1\", \"c2\", \"c3\"), cov_tuple=(\"sigAmp\", \"logAmp\", \"l\"), region_tuple=(\"loga\", \"mu\", \"sigma\"), \n",
    "                max_v=20, debug=True)"
   ]
  },
  {
   "cell_type": "code",
   "execution_count": 4,
   "metadata": {
    "collapsed": false
   },
   "outputs": [
    {
     "name": "stderr",
     "output_type": "stream",
     "text": [
      "DEBUG:CovarianceMatrix:updating interp errors\n",
      "DEBUG:InterpCovarianceMatrix:Updating InterpCovarianceMatrix\n",
      "DEBUG:InterpCovarianceMatrix:shifting self.A_last to point to self.A\n",
      "DEBUG:CovarianceMatrix:updating factorization\n",
      "DEBUG:CovarianceMatrix:freeing old A\n",
      "DEBUG:CovarianceMatrix:Adding interp_matrix and GCM\n",
      "DEBUG:CovarianceMatrix:shifting self.L_last to point to self.L\n",
      "DEBUG:CovarianceMatrix:updating logdet\n",
      "DEBUG:Model:evaluating model <StellarSpectra.model.Model object at 0x7ff8a489c0b8>\n",
      "DEBUG:CovarianceMatrix:evaluating covariance matrix\n",
      "DEBUG:CovarianceMatrix:evaluating chi2\n"
     ]
    },
    {
     "name": "stdout",
     "output_type": "stream",
     "text": [
      "67938.8747227\n"
     ]
    }
   ],
   "source": [
    "#myOrderModel.update_Cov({\"sigAmp\": 1, \"logAmp\":-14 , \"l\":10.})\n",
    "#First pass at actually plotting the model\n",
    "#params = {\"temp\":6000, \"logg\":4.0, \"Z\":-0.3, \"vsini\":4, \"vz\":-5, \"logOmega\":-19.6}\n",
    "#params = {\"temp\":6315, \"logg\":3.92, \"Z\":-0.3, \"vsini\":4, \"vz\":-5, \"logOmega\":-12.72}\n",
    "#params = {'temp': 6313.276253398848, 'vz': -4.5886794506100905, 'logOmega': -19.659, \n",
    "#          'Z': -0.45755240763502216, 'vsini': 5.1871494360273905, 'logg': 3.9089865093046496}\n",
    "\n",
    "params = {'vz': -4.8456827988388413, 'logOmega': -19.658942686778765, 'vsini': 5.0328046854058668, \n",
    "          'temp': 6220.0106396310739, 'logg': 4.29, 'Z': -0.35001081006631218}\n",
    "#params = {\"temp\":6315, \"logg\":3.92, \"Z\":-0.3, \"vsini\":4, \"vz\":-4.4, \"logOmega\":-12.96}\n",
    "#params = {\"temp\":4500, \"logg\":4.0, \"Z\":-0.1, \"vsini\":10, \"vz\":15, \"logOmega\":-19.}\n",
    "# params = {\"temp\":3000, \"logg\":4.0, \"Z\":-0.1, \"vsini\":10, \"vz\":0, \"logOmega\":-19.}\n",
    "myModel.update_Model(params)\n",
    "print(myModel.evaluate())\n",
    "\n",
    "#myOrderModel.update_Cheb({\"c1\":0.0, \"c2\":0.0, \"c3\":0.0})\n",
    "\n",
    "#cov = myModel.OrderModels[0].get_Cov()"
   ]
  },
  {
   "cell_type": "code",
   "execution_count": 5,
   "metadata": {
    "collapsed": false
   },
   "outputs": [
    {
     "name": "stdout",
     "output_type": "stream",
     "text": [
      "75252.2266811\n"
     ]
    }
   ],
   "source": [
    "#params = {'logOmega': -19.69045147013749, 'temp': 6219.4026633831281, 'vz': -4.864716315534733, 'logg': 4.29, \n",
    "# 'Z': -0.25012131204369881, 'vsini': 4.994423918348339}\n",
    "#params = {'logOmega': -19.659045147013749, 'temp': 6219.4026633831281, 'vz': -4.864716315534733, 'logg': 4.29, \n",
    "# 'Z': -0.3509729219906163, 'vsini': 4.994423918348339}\n",
    "params = {'vz': -4.8456827988388413, 'logOmega': -19.658942686778765, 'vsini': 5.0328046854058668, 'temp': 6220.0106396310739, \n",
    " 'logg': 4.29, 'Z': -0.35001081006631218}\n",
    "myModel.update_Model(params)\n",
    "print(myModel.evaluate())\n",
    "\n",
    "#Strangely, Z is totally the value that changes this. Why? This is super-precise inference on Z, to the 4th digit. WTF?"
   ]
  },
  {
   "cell_type": "code",
   "execution_count": 63,
   "metadata": {
    "collapsed": false
   },
   "outputs": [
    {
     "name": "stdout",
     "output_type": "stream",
     "text": [
      "67938.87472268744\n"
     ]
    }
   ],
   "source": [
    "myOrderModel = myModel.OrderModels[0]\n",
    "#myOrderModel.update_Cheb({'c3': 0.0022745611258502803, 'c2': -0.024660521505542141, \n",
    "#                          'logc0': -0.020399928159079816, 'c1': -0.05817214397082078})\n",
    "myOrderModel.update_Cheb({'c3': 0.00, 'c2': 0.0, \n",
    "                          'logc0': 0.0, 'c1': -0.0})\n",
    "print(myOrderModel.evaluate())\n",
    "#myOrderModel = myModel.OrderModels[1]\n",
    "model_flux = myOrderModel.get_spectrum()"
   ]
  },
  {
   "cell_type": "code",
   "execution_count": 10,
   "metadata": {
    "collapsed": false
   },
   "outputs": [],
   "source": [
    "spec = myModel.get_data()\n",
    "wl = spec.wls[0]\n",
    "fl = spec.fls[0]\n",
    "mask = spec.masks[0]\n",
    "#wl = spec.wls[1]\n",
    "#fl = spec.fls[1]\n",
    "#mask = spec.masks[1]\n",
    "\n",
    "fig, ax = plt.subplots(nrows=2, figsize=(11,8), sharex=True)\n",
    "ax[0].plot(wl, fl, \"b\")\n",
    "l_model, = ax[0].plot(wl, model_flux, \"r\")\n",
    "ax[0].set_ylabel(\"Data and Model\")\n",
    "l_resid, = ax[1].plot(wl, fl - model_flux, \"b\")\n",
    "ax[1].set_xlabel(r\"$\\lambda$\\AA\")\n",
    "ax[1].set_ylabel(\"Residuals\")\n",
    "\n",
    "#good = [5142.8, 5150.7, 5151.8, 5169.1, 5170.7, 5172.3, 5183.2, 5183.8, 5184.2, 5187.8, 5188.8, 5197.4, 5198.6, 5217.7, 5235.3]\n",
    "#bad = [5145., 5167.0, 5171.5, 5178.7, 5194.9, 5202.3, 5226.5, 5232.5, 5234.6]\n",
    "\n",
    "#Plot the axvline on the lines\n",
    "#for line in good:\n",
    "#    ax[1].axvline(line, color=\"0.5\")\n",
    "    \n",
    "#for line in bad:\n",
    "#    ax[1].axvline(line, color=\"r\")\n",
    "\n",
    "\n",
    "\n",
    "#cov = myModel.OrderModels[0].get_Cov().todense()\n",
    "\n",
    "#fig2 = plt.figure()\n",
    "#ax2 = fig2.add_subplot(111)\n",
    "#im = ax2.imshow(cov, origin='upper', interpolation='none')\n",
    "\n",
    "plt.show()"
   ]
  },
  {
   "cell_type": "code",
   "execution_count": 9,
   "metadata": {
    "collapsed": false
   },
   "outputs": [],
   "source": [
    "def update_model_plot(**kwargs):\n",
    "    '''Take the kwargs, update the model and residuals'''\n",
    "    \n",
    "    #Update the model spectrum\n",
    "    myModel.update_Model(kwargs)\n",
    "    model_flux = myOrderModel.get_spectrum()\n",
    "    l_model.set_ydata(model_flux)\n",
    "    \n",
    "    #Update the residuals\n",
    "    residuals = fl - model_flux\n",
    "    l_resid.set_ydata(residuals)\n",
    "    \n",
    "    #Find ymax and ymin and rescale\n",
    "    ax[0].set_ylim(np.min([fl, model_flux]), np.max([fl, model_flux]))\n",
    "    ax[1].set_ylim(np.min(fl - model_flux), np.max(fl - model_flux))\n",
    "    \n",
    "    #Redraw the plot\n",
    "    fig.canvas.draw_idle()\n",
    "    \n",
    "    #Calculate and print the lnprob\n",
    "    print(myOrderModel.evaluate())\n",
    "    "
   ]
  },
  {
   "cell_type": "code",
   "execution_count": 11,
   "metadata": {
    "collapsed": false
   },
   "outputs": [],
   "source": [
    "np.save(\"WASPfl.npy\", myOrderModel.get_spectrum())\n",
    "np.save(\"WASP_resid.npy\", fl - model_flux)    "
   ]
  },
  {
   "cell_type": "code",
   "execution_count": 8,
   "metadata": {
    "collapsed": false
   },
   "outputs": [],
   "source": [
    "def update_Cheb_plot(**kw):\n",
    "    '''Take the kwargs, update the model and residuals'''\n",
    "    \n",
    "    #Update the Chebyshev polynomial\n",
    "    myOrderModel.update_Cheb(kw)\n",
    "    \n",
    "    model_flux = myOrderModel.get_spectrum()\n",
    "    l_model.set_ydata(model_flux)\n",
    "    \n",
    "    #Update the residuals\n",
    "    l_resid.set_ydata(fl - model_flux)\n",
    "    \n",
    "    #Find ymax and ymin and rescale\n",
    "    ax[0].set_ylim(np.min([fl, model_flux]), np.max([fl, model_flux]))\n",
    "    ax[1].set_ylim(np.min(fl - model_flux), np.max(fl - model_flux))\n",
    "    \n",
    "    #Redraw the plot\n",
    "    fig.canvas.draw_idle()\n",
    "    \n",
    "    #Calculate and print the lnprob\n",
    "    #print(myModel.evaluate())\n",
    "    "
   ]
  },
  {
   "cell_type": "code",
   "execution_count": 8,
   "metadata": {
    "collapsed": false
   },
   "outputs": [],
   "source": [
    "def update_Cov_plot(**kwargs):\n",
    "    '''Take the kwargs, update the model and residuals'''\n",
    "    \n",
    "    #Update the covariance matrix\n",
    "    myModel.OrderModels[0].update_Cov(kwargs)\n",
    "    cov = myModel.OrderModels[0].get_Cov().todense()\n",
    "    \n",
    "    \n",
    "    #Replot the covariance matrix\n",
    "    im.set_array(cov)\n",
    "    \n",
    "    #Redraw the plot\n",
    "    fig2.canvas.draw_idle()\n",
    "    \n",
    "    #Calculate and print the lnprob\n",
    "    print(myModel.evaluate())\n",
    "    "
   ]
  },
  {
   "cell_type": "code",
   "execution_count": 11,
   "metadata": {
    "collapsed": false
   },
   "outputs": [
    {
     "name": "stdout",
     "output_type": "stream",
     "text": [
      "74614.55674281382\n"
     ]
    }
   ],
   "source": [
    "i = interact(update_model_plot,\n",
    "         temp=(5500,6500, 10),\n",
    "         logg=(2.5,5.0, 0.1),\n",
    "         Z=(-1, 0.5, 0.1),\n",
    "         #alpha=(0.0, 0.4, 0.05),\n",
    "         vsini=(3, 8., 0.5),\n",
    "         vz=(-10,0, 0.1),\n",
    "         #Av=(0.0,1.0, 0.05),\n",
    "         logOmega=(-13.,-12., 0.01),\n",
    "         #logOmega=(-20.4,-19.0, 0.01),\n",
    "         )"
   ]
  },
  {
   "cell_type": "code",
   "execution_count": 10,
   "metadata": {
    "collapsed": false
   },
   "outputs": [
    {
     "name": "stdout",
     "output_type": "stream",
     "text": [
      "params are  {'c1': 0.11, 'c2': -0.2, 'c3': -6.938893903907228e-18}\n"
     ]
    }
   ],
   "source": [
    "i = interact(update_Cheb_plot,\n",
    "         c1=(-0.2, 0.2, 0.01),\n",
    "         c2=(-0.2, 0.2, 0.01),\n",
    "         c3=(-0.2, 0.2, 0.01),\n",
    "         )"
   ]
  },
  {
   "cell_type": "code",
   "execution_count": 14,
   "metadata": {
    "collapsed": false
   },
   "outputs": [
    {
     "name": "stdout",
     "output_type": "stream",
     "text": [
      "74024.8847862\n"
     ]
    }
   ],
   "source": [
    "i = interact(update_Cov_plot,\n",
    "         sigAmp=(.5,1.5, 0.1),\n",
    "         logAmp=(-15,-13, 0.2),\n",
    "         l=(1, 50, 1),\n",
    "         )"
   ]
  },
  {
   "cell_type": "markdown",
   "metadata": {},
   "source": [
    "Good starting guesses for WASP-14:\n",
    "temp: 6100\n",
    "logg: 4.0\n",
    "Z: -0.5\n",
    "vsini: 6\n",
    "vz: 13.7\n",
    "log_Omega: -19.7\n",
    "alpha: 0.2"
   ]
  }
 ],
 "metadata": {
  "kernelspec": {
   "display_name": "Python 3",
   "language": "python",
   "name": "python3"
  },
  "language_info": {
   "codemirror_mode": {
    "name": "ipython",
    "version": 3
   },
   "file_extension": ".py",
   "mimetype": "text/x-python",
   "name": "python",
   "nbconvert_exporter": "python",
   "pygments_lexer": "ipython3",
   "version": "3.4.3"
  }
 },
 "nbformat": 4,
 "nbformat_minor": 0
}
