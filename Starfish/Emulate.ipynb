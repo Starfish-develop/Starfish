{
 "metadata": {
  "name": "",
  "signature": "sha256:a74706a5bd54fa75009e18f3fbb6a23270c3dec6efa0f1dff52ea34e11ea13a5"
 },
 "nbformat": 3,
 "nbformat_minor": 0,
 "worksheets": [
  {
   "cells": [
    {
     "cell_type": "code",
     "collapsed": false,
     "input": [
      "from Starfish import emulator\n",
      "import numpy as np\n",
      "import matplotlib.pyplot as plt\n",
      "from matplotlib.ticker import FormatStrFormatter as FSF\n",
      "from matplotlib.ticker import MaxNLocator\n",
      "from matplotlib.ticker import MultipleLocator"
     ],
     "language": "python",
     "metadata": {},
     "outputs": [
      {
       "output_type": "stream",
       "stream": "stdout",
       "text": [
        "Using 112 spectra with Npix = 2067\n",
        "Shape of PCA components (112, 2067)"
       ]
      },
      {
       "output_type": "stream",
       "stream": "stdout",
       "text": [
        "\n",
        "Keeping only the first 5 components\n",
        "Test spectrum is None\n",
        "(112, 2067)\n",
        "(2067,)\n",
        "a_Pprime 115473.0"
       ]
      },
      {
       "output_type": "stream",
       "stream": "stdout",
       "text": [
        "\n",
        "b_Pprime 31.07255043493458\n",
        "(112, 2067)\n",
        "(2067,)\n"
       ]
      }
     ],
     "prompt_number": 1
    },
    {
     "cell_type": "code",
     "collapsed": false,
     "input": [
      "m = emulator.m\n",
      "ind = emulator.ind\n",
      "wl = emulator.grid.wl[ind]\n",
      "temps = np.unique(emulator.gparams[:,0])\n",
      "loggs = np.unique(emulator.gparams[:,1])\n",
      "Zs = np.unique(emulator.gparams[:,2])\n",
      "points = {\"temp\":temps, \"logg\":loggs, \"Z\":Zs}"
     ],
     "language": "python",
     "metadata": {},
     "outputs": [],
     "prompt_number": 2
    },
    {
     "cell_type": "code",
     "collapsed": false,
     "input": [
      "w = emulator.get_w()\n",
      "w0 = w[:112]\n",
      "w1 = w[112:224]\n",
      "w2 = w[224:336]\n",
      "w3 = w[336:448]\n",
      "w4 = w[448:560]\n",
      "ws = w.reshape(5, -1)"
     ],
     "language": "python",
     "metadata": {},
     "outputs": [
      {
       "output_type": "stream",
       "stream": "stdout",
       "text": [
        "(112, 2067)\n",
        "(2067,)\n"
       ]
      }
     ],
     "prompt_number": 3
    },
    {
     "cell_type": "code",
     "collapsed": false,
     "input": [
      "samples_list = [np.load(\"samples_w0.npy\"), np.load(\"samples_w1.npy\"), np.load(\"samples_w2.npy\"), \n",
      "                np.load(\"samples_w3.npy\"), np.load(\"samples_w4.npy\")]"
     ],
     "language": "python",
     "metadata": {},
     "outputs": [],
     "prompt_number": 8
    },
    {
     "cell_type": "code",
     "collapsed": false,
     "input": [
      "son = emulator.SonOfEmulator(emulator.pcomps, ws, samples_list)"
     ],
     "language": "python",
     "metadata": {},
     "outputs": [],
     "prompt_number": 9
    },
    {
     "cell_type": "code",
     "collapsed": false,
     "input": [
      "son.params = emulator.test_params"
     ],
     "language": "python",
     "metadata": {},
     "outputs": [],
     "prompt_number": 10
    },
    {
     "cell_type": "code",
     "collapsed": false,
     "input": [
      "son.params = np.array([3000, 5.0, 0.1])"
     ],
     "language": "python",
     "metadata": {},
     "outputs": [],
     "prompt_number": 11
    },
    {
     "cell_type": "code",
     "collapsed": false,
     "input": [
      "%timeit son.params = np.array([3000, 5.0, 0.0]);son()"
     ],
     "language": "python",
     "metadata": {},
     "outputs": [
      {
       "output_type": "stream",
       "stream": "stderr",
       "text": [
        "/home/ian/Grad/Research/Disks/Starfish/Starfish/emulator.py:479: DeprecationWarning: using a non-integer number instead of an integer will result in an error in the future\n",
        "  return np.random.multivariate_normal(self.mu, self.sig)\n",
        "/home/ian/Grad/Research/Disks/Starfish/Starfish/emulator.py:479: DeprecationWarning: using a non-integer number instead of an integer will result in an error in the future\n",
        "  return np.random.multivariate_normal(self.mu, self.sig)\n",
        "/home/ian/Grad/Research/Disks/Starfish/Starfish/emulator.py:479: DeprecationWarning: using a non-integer number instead of an integer will result in an error in the future\n",
        "  return np.random.multivariate_normal(self.mu, self.sig)\n",
        "/home/ian/Grad/Research/Disks/Starfish/Starfish/emulator.py:479: DeprecationWarning: using a non-integer number instead of an integer will result in an error in the future\n",
        "  return np.random.multivariate_normal(self.mu, self.sig)\n",
        "/home/ian/Grad/Research/Disks/Starfish/Starfish/emulator.py:479: DeprecationWarning: using a non-integer number instead of an integer will result in an error in the future\n",
        "  return np.random.multivariate_normal(self.mu, self.sig)\n"
       ]
      },
      {
       "output_type": "stream",
       "stream": "stderr",
       "text": [
        "/home/ian/Grad/Research/Disks/Starfish/Starfish/emulator.py:479: DeprecationWarning: using a non-integer number instead of an integer will result in an error in the future\n",
        "  return np.random.multivariate_normal(self.mu, self.sig)\n",
        "/home/ian/Grad/Research/Disks/Starfish/Starfish/emulator.py:479: DeprecationWarning: using a non-integer number instead of an integer will result in an error in the future\n",
        "  return np.random.multivariate_normal(self.mu, self.sig)\n",
        "/home/ian/Grad/Research/Disks/Starfish/Starfish/emulator.py:479: DeprecationWarning: using a non-integer number instead of an integer will result in an error in the future\n",
        "  return np.random.multivariate_normal(self.mu, self.sig)\n",
        "/home/ian/Grad/Research/Disks/Starfish/Starfish/emulator.py:479: DeprecationWarning: using a non-integer number instead of an integer will result in an error in the future\n",
        "  return np.random.multivariate_normal(self.mu, self.sig)\n"
       ]
      },
      {
       "output_type": "stream",
       "stream": "stderr",
       "text": [
        "/home/ian/Grad/Research/Disks/Starfish/Starfish/emulator.py:479: DeprecationWarning: using a non-integer number instead of an integer will result in an error in the future\n",
        "  return np.random.multivariate_normal(self.mu, self.sig)\n",
        "/home/ian/Grad/Research/Disks/Starfish/Starfish/emulator.py:479: DeprecationWarning: using a non-integer number instead of an integer will result in an error in the future\n",
        "  return np.random.multivariate_normal(self.mu, self.sig)\n",
        "/home/ian/Grad/Research/Disks/Starfish/Starfish/emulator.py:479: DeprecationWarning: using a non-integer number instead of an integer will result in an error in the future\n",
        "  return np.random.multivariate_normal(self.mu, self.sig)\n",
        "/home/ian/Grad/Research/Disks/Starfish/Starfish/emulator.py:479: DeprecationWarning: using a non-integer number instead of an integer will result in an error in the future\n",
        "  return np.random.multivariate_normal(self.mu, self.sig)\n"
       ]
      },
      {
       "output_type": "stream",
       "stream": "stderr",
       "text": [
        "/home/ian/Grad/Research/Disks/Starfish/Starfish/emulator.py:479: DeprecationWarning: using a non-integer number instead of an integer will result in an error in the future\n",
        "  return np.random.multivariate_normal(self.mu, self.sig)\n",
        "/home/ian/Grad/Research/Disks/Starfish/Starfish/emulator.py:479: DeprecationWarning: using a non-integer number instead of an integer will result in an error in the future\n",
        "  return np.random.multivariate_normal(self.mu, self.sig)\n",
        "/home/ian/Grad/Research/Disks/Starfish/Starfish/emulator.py:479: DeprecationWarning: using a non-integer number instead of an integer will result in an error in the future\n",
        "  return np.random.multivariate_normal(self.mu, self.sig)\n",
        "/home/ian/Grad/Research/Disks/Starfish/Starfish/emulator.py:479: DeprecationWarning: using a non-integer number instead of an integer will result in an error in the future\n",
        "  return np.random.multivariate_normal(self.mu, self.sig)\n",
        "/home/ian/Grad/Research/Disks/Starfish/Starfish/emulator.py:479: DeprecationWarning: using a non-integer number instead of an integer will result in an error in the future\n",
        "  return np.random.multivariate_normal(self.mu, self.sig)\n"
       ]
      },
      {
       "output_type": "stream",
       "stream": "stderr",
       "text": [
        "/home/ian/Grad/Research/Disks/Starfish/Starfish/emulator.py:479: DeprecationWarning: using a non-integer number instead of an integer will result in an error in the future\n",
        "  return np.random.multivariate_normal(self.mu, self.sig)\n",
        "/home/ian/Grad/Research/Disks/Starfish/Starfish/emulator.py:479: DeprecationWarning: using a non-integer number instead of an integer will result in an error in the future\n",
        "  return np.random.multivariate_normal(self.mu, self.sig)\n",
        "/home/ian/Grad/Research/Disks/Starfish/Starfish/emulator.py:479: DeprecationWarning: using a non-integer number instead of an integer will result in an error in the future\n",
        "  return np.random.multivariate_normal(self.mu, self.sig)\n",
        "/home/ian/Grad/Research/Disks/Starfish/Starfish/emulator.py:479: DeprecationWarning: using a non-integer number instead of an integer will result in an error in the future\n",
        "  return np.random.multivariate_normal(self.mu, self.sig)\n",
        "/home/ian/Grad/Research/Disks/Starfish/Starfish/emulator.py:479: DeprecationWarning: using a non-integer number instead of an integer will result in an error in the future\n",
        "  return np.random.multivariate_normal(self.mu, self.sig)\n"
       ]
      },
      {
       "output_type": "stream",
       "stream": "stderr",
       "text": [
        "/home/ian/Grad/Research/Disks/Starfish/Starfish/emulator.py:479: DeprecationWarning: using a non-integer number instead of an integer will result in an error in the future\n",
        "  return np.random.multivariate_normal(self.mu, self.sig)\n",
        "/home/ian/Grad/Research/Disks/Starfish/Starfish/emulator.py:479: DeprecationWarning: using a non-integer number instead of an integer will result in an error in the future\n",
        "  return np.random.multivariate_normal(self.mu, self.sig)\n",
        "/home/ian/Grad/Research/Disks/Starfish/Starfish/emulator.py:479: DeprecationWarning: using a non-integer number instead of an integer will result in an error in the future\n",
        "  return np.random.multivariate_normal(self.mu, self.sig)\n",
        "/home/ian/Grad/Research/Disks/Starfish/Starfish/emulator.py:479: DeprecationWarning: using a non-integer number instead of an integer will result in an error in the future\n",
        "  return np.random.multivariate_normal(self.mu, self.sig)\n",
        "/home/ian/Grad/Research/Disks/Starfish/Starfish/emulator.py:479: DeprecationWarning: using a non-integer number instead of an integer will result in an error in the future\n",
        "  return np.random.multivariate_normal(self.mu, self.sig)\n"
       ]
      },
      {
       "output_type": "stream",
       "stream": "stderr",
       "text": [
        "/home/ian/Grad/Research/Disks/Starfish/Starfish/emulator.py:479: DeprecationWarning: using a non-integer number instead of an integer will result in an error in the future\n",
        "  return np.random.multivariate_normal(self.mu, self.sig)\n",
        "/home/ian/Grad/Research/Disks/Starfish/Starfish/emulator.py:479: DeprecationWarning: using a non-integer number instead of an integer will result in an error in the future\n",
        "  return np.random.multivariate_normal(self.mu, self.sig)\n",
        "/home/ian/Grad/Research/Disks/Starfish/Starfish/emulator.py:479: DeprecationWarning: using a non-integer number instead of an integer will result in an error in the future\n",
        "  return np.random.multivariate_normal(self.mu, self.sig)\n",
        "/home/ian/Grad/Research/Disks/Starfish/Starfish/emulator.py:479: DeprecationWarning: using a non-integer number instead of an integer will result in an error in the future\n",
        "  return np.random.multivariate_normal(self.mu, self.sig)\n",
        "/home/ian/Grad/Research/Disks/Starfish/Starfish/emulator.py:479: DeprecationWarning: using a non-integer number instead of an integer will result in an error in the future\n",
        "  return np.random.multivariate_normal(self.mu, self.sig)\n"
       ]
      },
      {
       "output_type": "stream",
       "stream": "stderr",
       "text": [
        "/home/ian/Grad/Research/Disks/Starfish/Starfish/emulator.py:479: DeprecationWarning: using a non-integer number instead of an integer will result in an error in the future\n",
        "  return np.random.multivariate_normal(self.mu, self.sig)\n",
        "/home/ian/Grad/Research/Disks/Starfish/Starfish/emulator.py:479: DeprecationWarning: using a non-integer number instead of an integer will result in an error in the future\n",
        "  return np.random.multivariate_normal(self.mu, self.sig)\n",
        "/home/ian/Grad/Research/Disks/Starfish/Starfish/emulator.py:479: DeprecationWarning: using a non-integer number instead of an integer will result in an error in the future\n",
        "  return np.random.multivariate_normal(self.mu, self.sig)\n",
        "/home/ian/Grad/Research/Disks/Starfish/Starfish/emulator.py:479: DeprecationWarning: using a non-integer number instead of an integer will result in an error in the future\n",
        "  return np.random.multivariate_normal(self.mu, self.sig)\n",
        "/home/ian/Grad/Research/Disks/Starfish/Starfish/emulator.py:479: DeprecationWarning: using a non-integer number instead of an integer will result in an error in the future\n",
        "  return np.random.multivariate_normal(self.mu, self.sig)\n"
       ]
      },
      {
       "output_type": "stream",
       "stream": "stderr",
       "text": [
        "/home/ian/Grad/Research/Disks/Starfish/Starfish/emulator.py:479: DeprecationWarning: using a non-integer number instead of an integer will result in an error in the future\n",
        "  return np.random.multivariate_normal(self.mu, self.sig)\n",
        "/home/ian/Grad/Research/Disks/Starfish/Starfish/emulator.py:479: DeprecationWarning: using a non-integer number instead of an integer will result in an error in the future\n",
        "  return np.random.multivariate_normal(self.mu, self.sig)\n",
        "/home/ian/Grad/Research/Disks/Starfish/Starfish/emulator.py:479: DeprecationWarning: using a non-integer number instead of an integer will result in an error in the future\n",
        "  return np.random.multivariate_normal(self.mu, self.sig)\n",
        "/home/ian/Grad/Research/Disks/Starfish/Starfish/emulator.py:479: DeprecationWarning: using a non-integer number instead of an integer will result in an error in the future\n",
        "  return np.random.multivariate_normal(self.mu, self.sig)\n"
       ]
      },
      {
       "output_type": "stream",
       "stream": "stderr",
       "text": [
        "/home/ian/Grad/Research/Disks/Starfish/Starfish/emulator.py:479: DeprecationWarning: using a non-integer number instead of an integer will result in an error in the future\n",
        "  return np.random.multivariate_normal(self.mu, self.sig)\n",
        "/home/ian/Grad/Research/Disks/Starfish/Starfish/emulator.py:479: DeprecationWarning: using a non-integer number instead of an integer will result in an error in the future\n",
        "  return np.random.multivariate_normal(self.mu, self.sig)\n",
        "/home/ian/Grad/Research/Disks/Starfish/Starfish/emulator.py:479: DeprecationWarning: using a non-integer number instead of an integer will result in an error in the future\n",
        "  return np.random.multivariate_normal(self.mu, self.sig)\n",
        "/home/ian/Grad/Research/Disks/Starfish/Starfish/emulator.py:479: DeprecationWarning: using a non-integer number instead of an integer will result in an error in the future\n",
        "  return np.random.multivariate_normal(self.mu, self.sig)\n"
       ]
      },
      {
       "output_type": "stream",
       "stream": "stderr",
       "text": [
        "/home/ian/Grad/Research/Disks/Starfish/Starfish/emulator.py:479: DeprecationWarning: using a non-integer number instead of an integer will result in an error in the future\n",
        "  return np.random.multivariate_normal(self.mu, self.sig)\n",
        "/home/ian/Grad/Research/Disks/Starfish/Starfish/emulator.py:479: DeprecationWarning: using a non-integer number instead of an integer will result in an error in the future\n",
        "  return np.random.multivariate_normal(self.mu, self.sig)\n",
        "/home/ian/Grad/Research/Disks/Starfish/Starfish/emulator.py:479: DeprecationWarning: using a non-integer number instead of an integer will result in an error in the future\n",
        "  return np.random.multivariate_normal(self.mu, self.sig)\n",
        "/home/ian/Grad/Research/Disks/Starfish/Starfish/emulator.py:479: DeprecationWarning: using a non-integer number instead of an integer will result in an error in the future\n",
        "  return np.random.multivariate_normal(self.mu, self.sig)\n",
        "/home/ian/Grad/Research/Disks/Starfish/Starfish/emulator.py:479: DeprecationWarning: using a non-integer number instead of an integer will result in an error in the future\n",
        "  return np.random.multivariate_normal(self.mu, self.sig)\n"
       ]
      },
      {
       "output_type": "stream",
       "stream": "stderr",
       "text": [
        "/home/ian/Grad/Research/Disks/Starfish/Starfish/emulator.py:479: DeprecationWarning: using a non-integer number instead of an integer will result in an error in the future\n",
        "  return np.random.multivariate_normal(self.mu, self.sig)\n",
        "/home/ian/Grad/Research/Disks/Starfish/Starfish/emulator.py:479: DeprecationWarning: using a non-integer number instead of an integer will result in an error in the future\n",
        "  return np.random.multivariate_normal(self.mu, self.sig)\n",
        "/home/ian/Grad/Research/Disks/Starfish/Starfish/emulator.py:479: DeprecationWarning: using a non-integer number instead of an integer will result in an error in the future\n",
        "  return np.random.multivariate_normal(self.mu, self.sig)\n",
        "/home/ian/Grad/Research/Disks/Starfish/Starfish/emulator.py:479: DeprecationWarning: using a non-integer number instead of an integer will result in an error in the future\n",
        "  return np.random.multivariate_normal(self.mu, self.sig)\n",
        "/home/ian/Grad/Research/Disks/Starfish/Starfish/emulator.py:479: DeprecationWarning: using a non-integer number instead of an integer will result in an error in the future\n",
        "  return np.random.multivariate_normal(self.mu, self.sig)\n"
       ]
      },
      {
       "output_type": "stream",
       "stream": "stderr",
       "text": [
        "/home/ian/Grad/Research/Disks/Starfish/Starfish/emulator.py:479: DeprecationWarning: using a non-integer number instead of an integer will result in an error in the future\n",
        "  return np.random.multivariate_normal(self.mu, self.sig)\n",
        "/home/ian/Grad/Research/Disks/Starfish/Starfish/emulator.py:479: DeprecationWarning: using a non-integer number instead of an integer will result in an error in the future\n",
        "  return np.random.multivariate_normal(self.mu, self.sig)\n",
        "/home/ian/Grad/Research/Disks/Starfish/Starfish/emulator.py:479: DeprecationWarning: using a non-integer number instead of an integer will result in an error in the future\n",
        "  return np.random.multivariate_normal(self.mu, self.sig)\n",
        "/home/ian/Grad/Research/Disks/Starfish/Starfish/emulator.py:479: DeprecationWarning: using a non-integer number instead of an integer will result in an error in the future\n",
        "  return np.random.multivariate_normal(self.mu, self.sig)\n",
        "/home/ian/Grad/Research/Disks/Starfish/Starfish/emulator.py:479: DeprecationWarning: using a non-integer number instead of an integer will result in an error in the future\n",
        "  return np.random.multivariate_normal(self.mu, self.sig)\n"
       ]
      },
      {
       "output_type": "stream",
       "stream": "stderr",
       "text": [
        "/home/ian/Grad/Research/Disks/Starfish/Starfish/emulator.py:479: DeprecationWarning: using a non-integer number instead of an integer will result in an error in the future\n",
        "  return np.random.multivariate_normal(self.mu, self.sig)\n",
        "/home/ian/Grad/Research/Disks/Starfish/Starfish/emulator.py:479: DeprecationWarning: using a non-integer number instead of an integer will result in an error in the future\n",
        "  return np.random.multivariate_normal(self.mu, self.sig)\n",
        "/home/ian/Grad/Research/Disks/Starfish/Starfish/emulator.py:479: DeprecationWarning: using a non-integer number instead of an integer will result in an error in the future\n",
        "  return np.random.multivariate_normal(self.mu, self.sig)\n",
        "/home/ian/Grad/Research/Disks/Starfish/Starfish/emulator.py:479: DeprecationWarning: using a non-integer number instead of an integer will result in an error in the future\n",
        "  return np.random.multivariate_normal(self.mu, self.sig)\n",
        "/home/ian/Grad/Research/Disks/Starfish/Starfish/emulator.py:479: DeprecationWarning: using a non-integer number instead of an integer will result in an error in the future\n",
        "  return np.random.multivariate_normal(self.mu, self.sig)\n"
       ]
      },
      {
       "output_type": "stream",
       "stream": "stderr",
       "text": [
        "/home/ian/Grad/Research/Disks/Starfish/Starfish/emulator.py:479: DeprecationWarning: using a non-integer number instead of an integer will result in an error in the future\n",
        "  return np.random.multivariate_normal(self.mu, self.sig)\n",
        "/home/ian/Grad/Research/Disks/Starfish/Starfish/emulator.py:479: DeprecationWarning: using a non-integer number instead of an integer will result in an error in the future\n",
        "  return np.random.multivariate_normal(self.mu, self.sig)\n",
        "/home/ian/Grad/Research/Disks/Starfish/Starfish/emulator.py:479: DeprecationWarning: using a non-integer number instead of an integer will result in an error in the future\n",
        "  return np.random.multivariate_normal(self.mu, self.sig)\n",
        "/home/ian/Grad/Research/Disks/Starfish/Starfish/emulator.py:479: DeprecationWarning: using a non-integer number instead of an integer will result in an error in the future\n",
        "  return np.random.multivariate_normal(self.mu, self.sig)\n",
        "/home/ian/Grad/Research/Disks/Starfish/Starfish/emulator.py:479: DeprecationWarning: using a non-integer number instead of an integer will result in an error in the future\n",
        "  return np.random.multivariate_normal(self.mu, self.sig)\n"
       ]
      },
      {
       "output_type": "stream",
       "stream": "stderr",
       "text": [
        "/home/ian/Grad/Research/Disks/Starfish/Starfish/emulator.py:479: DeprecationWarning: using a non-integer number instead of an integer will result in an error in the future\n",
        "  return np.random.multivariate_normal(self.mu, self.sig)\n",
        "/home/ian/Grad/Research/Disks/Starfish/Starfish/emulator.py:479: DeprecationWarning: using a non-integer number instead of an integer will result in an error in the future\n",
        "  return np.random.multivariate_normal(self.mu, self.sig)\n",
        "/home/ian/Grad/Research/Disks/Starfish/Starfish/emulator.py:479: DeprecationWarning: using a non-integer number instead of an integer will result in an error in the future\n",
        "  return np.random.multivariate_normal(self.mu, self.sig)\n",
        "/home/ian/Grad/Research/Disks/Starfish/Starfish/emulator.py:479: DeprecationWarning: using a non-integer number instead of an integer will result in an error in the future\n",
        "  return np.random.multivariate_normal(self.mu, self.sig)\n",
        "/home/ian/Grad/Research/Disks/Starfish/Starfish/emulator.py:479: DeprecationWarning: using a non-integer number instead of an integer will result in an error in the future\n",
        "  return np.random.multivariate_normal(self.mu, self.sig)\n"
       ]
      },
      {
       "output_type": "stream",
       "stream": "stderr",
       "text": [
        "/home/ian/Grad/Research/Disks/Starfish/Starfish/emulator.py:479: DeprecationWarning: using a non-integer number instead of an integer will result in an error in the future\n",
        "  return np.random.multivariate_normal(self.mu, self.sig)\n",
        "/home/ian/Grad/Research/Disks/Starfish/Starfish/emulator.py:479: DeprecationWarning: using a non-integer number instead of an integer will result in an error in the future\n",
        "  return np.random.multivariate_normal(self.mu, self.sig)\n",
        "/home/ian/Grad/Research/Disks/Starfish/Starfish/emulator.py:479: DeprecationWarning: using a non-integer number instead of an integer will result in an error in the future\n",
        "  return np.random.multivariate_normal(self.mu, self.sig)\n",
        "/home/ian/Grad/Research/Disks/Starfish/Starfish/emulator.py:479: DeprecationWarning: using a non-integer number instead of an integer will result in an error in the future\n",
        "  return np.random.multivariate_normal(self.mu, self.sig)\n",
        "/home/ian/Grad/Research/Disks/Starfish/Starfish/emulator.py:479: DeprecationWarning: using a non-integer number instead of an integer will result in an error in the future\n",
        "  return np.random.multivariate_normal(self.mu, self.sig)\n"
       ]
      },
      {
       "output_type": "stream",
       "stream": "stderr",
       "text": [
        "/home/ian/Grad/Research/Disks/Starfish/Starfish/emulator.py:479: DeprecationWarning: using a non-integer number instead of an integer will result in an error in the future\n",
        "  return np.random.multivariate_normal(self.mu, self.sig)\n",
        "/home/ian/Grad/Research/Disks/Starfish/Starfish/emulator.py:479: DeprecationWarning: using a non-integer number instead of an integer will result in an error in the future\n",
        "  return np.random.multivariate_normal(self.mu, self.sig)\n",
        "/home/ian/Grad/Research/Disks/Starfish/Starfish/emulator.py:479: DeprecationWarning: using a non-integer number instead of an integer will result in an error in the future\n",
        "  return np.random.multivariate_normal(self.mu, self.sig)\n",
        "/home/ian/Grad/Research/Disks/Starfish/Starfish/emulator.py:479: DeprecationWarning: using a non-integer number instead of an integer will result in an error in the future\n",
        "  return np.random.multivariate_normal(self.mu, self.sig)\n",
        "/home/ian/Grad/Research/Disks/Starfish/Starfish/emulator.py:479: DeprecationWarning: using a non-integer number instead of an integer will result in an error in the future\n",
        "  return np.random.multivariate_normal(self.mu, self.sig)\n"
       ]
      },
      {
       "output_type": "stream",
       "stream": "stderr",
       "text": [
        "/home/ian/Grad/Research/Disks/Starfish/Starfish/emulator.py:479: DeprecationWarning: using a non-integer number instead of an integer will result in an error in the future\n",
        "  return np.random.multivariate_normal(self.mu, self.sig)\n",
        "/home/ian/Grad/Research/Disks/Starfish/Starfish/emulator.py:479: DeprecationWarning: using a non-integer number instead of an integer will result in an error in the future\n",
        "  return np.random.multivariate_normal(self.mu, self.sig)\n",
        "/home/ian/Grad/Research/Disks/Starfish/Starfish/emulator.py:479: DeprecationWarning: using a non-integer number instead of an integer will result in an error in the future\n",
        "  return np.random.multivariate_normal(self.mu, self.sig)\n",
        "/home/ian/Grad/Research/Disks/Starfish/Starfish/emulator.py:479: DeprecationWarning: using a non-integer number instead of an integer will result in an error in the future\n",
        "  return np.random.multivariate_normal(self.mu, self.sig)\n",
        "/home/ian/Grad/Research/Disks/Starfish/Starfish/emulator.py:479: DeprecationWarning: using a non-integer number instead of an integer will result in an error in the future\n",
        "  return np.random.multivariate_normal(self.mu, self.sig)\n"
       ]
      },
      {
       "output_type": "stream",
       "stream": "stderr",
       "text": [
        "/home/ian/Grad/Research/Disks/Starfish/Starfish/emulator.py:479: DeprecationWarning: using a non-integer number instead of an integer will result in an error in the future\n",
        "  return np.random.multivariate_normal(self.mu, self.sig)\n",
        "/home/ian/Grad/Research/Disks/Starfish/Starfish/emulator.py:479: DeprecationWarning: using a non-integer number instead of an integer will result in an error in the future\n",
        "  return np.random.multivariate_normal(self.mu, self.sig)\n",
        "/home/ian/Grad/Research/Disks/Starfish/Starfish/emulator.py:479: DeprecationWarning: using a non-integer number instead of an integer will result in an error in the future\n",
        "  return np.random.multivariate_normal(self.mu, self.sig)\n",
        "/home/ian/Grad/Research/Disks/Starfish/Starfish/emulator.py:479: DeprecationWarning: using a non-integer number instead of an integer will result in an error in the future\n",
        "  return np.random.multivariate_normal(self.mu, self.sig)\n",
        "/home/ian/Grad/Research/Disks/Starfish/Starfish/emulator.py:479: DeprecationWarning: using a non-integer number instead of an integer will result in an error in the future\n",
        "  return np.random.multivariate_normal(self.mu, self.sig)\n"
       ]
      },
      {
       "output_type": "stream",
       "stream": "stderr",
       "text": [
        "/home/ian/Grad/Research/Disks/Starfish/Starfish/emulator.py:479: DeprecationWarning: using a non-integer number instead of an integer will result in an error in the future\n",
        "  return np.random.multivariate_normal(self.mu, self.sig)\n",
        "/home/ian/Grad/Research/Disks/Starfish/Starfish/emulator.py:479: DeprecationWarning: using a non-integer number instead of an integer will result in an error in the future\n",
        "  return np.random.multivariate_normal(self.mu, self.sig)\n",
        "/home/ian/Grad/Research/Disks/Starfish/Starfish/emulator.py:479: DeprecationWarning: using a non-integer number instead of an integer will result in an error in the future\n",
        "  return np.random.multivariate_normal(self.mu, self.sig)\n",
        "/home/ian/Grad/Research/Disks/Starfish/Starfish/emulator.py:479: DeprecationWarning: using a non-integer number instead of an integer will result in an error in the future\n",
        "  return np.random.multivariate_normal(self.mu, self.sig)\n",
        "/home/ian/Grad/Research/Disks/Starfish/Starfish/emulator.py:479: DeprecationWarning: using a non-integer number instead of an integer will result in an error in the future\n",
        "  return np.random.multivariate_normal(self.mu, self.sig)\n"
       ]
      },
      {
       "output_type": "stream",
       "stream": "stderr",
       "text": [
        "/home/ian/Grad/Research/Disks/Starfish/Starfish/emulator.py:479: DeprecationWarning: using a non-integer number instead of an integer will result in an error in the future\n",
        "  return np.random.multivariate_normal(self.mu, self.sig)\n",
        "/home/ian/Grad/Research/Disks/Starfish/Starfish/emulator.py:479: DeprecationWarning: using a non-integer number instead of an integer will result in an error in the future\n",
        "  return np.random.multivariate_normal(self.mu, self.sig)\n",
        "/home/ian/Grad/Research/Disks/Starfish/Starfish/emulator.py:479: DeprecationWarning: using a non-integer number instead of an integer will result in an error in the future\n",
        "  return np.random.multivariate_normal(self.mu, self.sig)\n",
        "/home/ian/Grad/Research/Disks/Starfish/Starfish/emulator.py:479: DeprecationWarning: using a non-integer number instead of an integer will result in an error in the future\n",
        "  return np.random.multivariate_normal(self.mu, self.sig)\n",
        "/home/ian/Grad/Research/Disks/Starfish/Starfish/emulator.py:479: DeprecationWarning: using a non-integer number instead of an integer will result in an error in the future\n",
        "  return np.random.multivariate_normal(self.mu, self.sig)\n"
       ]
      },
      {
       "output_type": "stream",
       "stream": "stderr",
       "text": [
        "/home/ian/Grad/Research/Disks/Starfish/Starfish/emulator.py:479: DeprecationWarning: using a non-integer number instead of an integer will result in an error in the future\n",
        "  return np.random.multivariate_normal(self.mu, self.sig)\n",
        "/home/ian/Grad/Research/Disks/Starfish/Starfish/emulator.py:479: DeprecationWarning: using a non-integer number instead of an integer will result in an error in the future\n",
        "  return np.random.multivariate_normal(self.mu, self.sig)\n",
        "/home/ian/Grad/Research/Disks/Starfish/Starfish/emulator.py:479: DeprecationWarning: using a non-integer number instead of an integer will result in an error in the future\n",
        "  return np.random.multivariate_normal(self.mu, self.sig)\n",
        "/home/ian/Grad/Research/Disks/Starfish/Starfish/emulator.py:479: DeprecationWarning: using a non-integer number instead of an integer will result in an error in the future\n",
        "  return np.random.multivariate_normal(self.mu, self.sig)\n",
        "/home/ian/Grad/Research/Disks/Starfish/Starfish/emulator.py:479: DeprecationWarning: using a non-integer number instead of an integer will result in an error in the future\n",
        "  return np.random.multivariate_normal(self.mu, self.sig)\n"
       ]
      },
      {
       "output_type": "stream",
       "stream": "stderr",
       "text": [
        "/home/ian/Grad/Research/Disks/Starfish/Starfish/emulator.py:479: DeprecationWarning: using a non-integer number instead of an integer will result in an error in the future\n",
        "  return np.random.multivariate_normal(self.mu, self.sig)\n",
        "/home/ian/Grad/Research/Disks/Starfish/Starfish/emulator.py:479: DeprecationWarning: using a non-integer number instead of an integer will result in an error in the future\n",
        "  return np.random.multivariate_normal(self.mu, self.sig)\n",
        "/home/ian/Grad/Research/Disks/Starfish/Starfish/emulator.py:479: DeprecationWarning: using a non-integer number instead of an integer will result in an error in the future\n",
        "  return np.random.multivariate_normal(self.mu, self.sig)\n",
        "/home/ian/Grad/Research/Disks/Starfish/Starfish/emulator.py:479: DeprecationWarning: using a non-integer number instead of an integer will result in an error in the future\n",
        "  return np.random.multivariate_normal(self.mu, self.sig)\n",
        "/home/ian/Grad/Research/Disks/Starfish/Starfish/emulator.py:479: DeprecationWarning: using a non-integer number instead of an integer will result in an error in the future\n",
        "  return np.random.multivariate_normal(self.mu, self.sig)\n"
       ]
      },
      {
       "output_type": "stream",
       "stream": "stderr",
       "text": [
        "/home/ian/Grad/Research/Disks/Starfish/Starfish/emulator.py:479: DeprecationWarning: using a non-integer number instead of an integer will result in an error in the future\n",
        "  return np.random.multivariate_normal(self.mu, self.sig)\n",
        "/home/ian/Grad/Research/Disks/Starfish/Starfish/emulator.py:479: DeprecationWarning: using a non-integer number instead of an integer will result in an error in the future\n",
        "  return np.random.multivariate_normal(self.mu, self.sig)\n",
        "/home/ian/Grad/Research/Disks/Starfish/Starfish/emulator.py:479: DeprecationWarning: using a non-integer number instead of an integer will result in an error in the future\n",
        "  return np.random.multivariate_normal(self.mu, self.sig)\n",
        "/home/ian/Grad/Research/Disks/Starfish/Starfish/emulator.py:479: DeprecationWarning: using a non-integer number instead of an integer will result in an error in the future\n",
        "  return np.random.multivariate_normal(self.mu, self.sig)\n",
        "/home/ian/Grad/Research/Disks/Starfish/Starfish/emulator.py:479: DeprecationWarning: using a non-integer number instead of an integer will result in an error in the future\n",
        "  return np.random.multivariate_normal(self.mu, self.sig)\n"
       ]
      },
      {
       "output_type": "stream",
       "stream": "stderr",
       "text": [
        "/home/ian/Grad/Research/Disks/Starfish/Starfish/emulator.py:479: DeprecationWarning: using a non-integer number instead of an integer will result in an error in the future\n",
        "  return np.random.multivariate_normal(self.mu, self.sig)\n",
        "/home/ian/Grad/Research/Disks/Starfish/Starfish/emulator.py:479: DeprecationWarning: using a non-integer number instead of an integer will result in an error in the future\n",
        "  return np.random.multivariate_normal(self.mu, self.sig)\n",
        "/home/ian/Grad/Research/Disks/Starfish/Starfish/emulator.py:479: DeprecationWarning: using a non-integer number instead of an integer will result in an error in the future\n",
        "  return np.random.multivariate_normal(self.mu, self.sig)\n",
        "/home/ian/Grad/Research/Disks/Starfish/Starfish/emulator.py:479: DeprecationWarning: using a non-integer number instead of an integer will result in an error in the future\n",
        "  return np.random.multivariate_normal(self.mu, self.sig)\n",
        "/home/ian/Grad/Research/Disks/Starfish/Starfish/emulator.py:479: DeprecationWarning: using a non-integer number instead of an integer will result in an error in the future\n",
        "  return np.random.multivariate_normal(self.mu, self.sig)\n"
       ]
      },
      {
       "output_type": "stream",
       "stream": "stderr",
       "text": [
        "/home/ian/Grad/Research/Disks/Starfish/Starfish/emulator.py:479: DeprecationWarning: using a non-integer number instead of an integer will result in an error in the future\n",
        "  return np.random.multivariate_normal(self.mu, self.sig)\n",
        "/home/ian/Grad/Research/Disks/Starfish/Starfish/emulator.py:479: DeprecationWarning: using a non-integer number instead of an integer will result in an error in the future\n",
        "  return np.random.multivariate_normal(self.mu, self.sig)\n",
        "/home/ian/Grad/Research/Disks/Starfish/Starfish/emulator.py:479: DeprecationWarning: using a non-integer number instead of an integer will result in an error in the future\n",
        "  return np.random.multivariate_normal(self.mu, self.sig)\n",
        "/home/ian/Grad/Research/Disks/Starfish/Starfish/emulator.py:479: DeprecationWarning: using a non-integer number instead of an integer will result in an error in the future\n",
        "  return np.random.multivariate_normal(self.mu, self.sig)\n",
        "/home/ian/Grad/Research/Disks/Starfish/Starfish/emulator.py:479: DeprecationWarning: using a non-integer number instead of an integer will result in an error in the future\n",
        "  return np.random.multivariate_normal(self.mu, self.sig)\n"
       ]
      },
      {
       "output_type": "stream",
       "stream": "stderr",
       "text": [
        "/home/ian/Grad/Research/Disks/Starfish/Starfish/emulator.py:479: DeprecationWarning: using a non-integer number instead of an integer will result in an error in the future\n",
        "  return np.random.multivariate_normal(self.mu, self.sig)\n",
        "/home/ian/Grad/Research/Disks/Starfish/Starfish/emulator.py:479: DeprecationWarning: using a non-integer number instead of an integer will result in an error in the future\n",
        "  return np.random.multivariate_normal(self.mu, self.sig)\n",
        "/home/ian/Grad/Research/Disks/Starfish/Starfish/emulator.py:479: DeprecationWarning: using a non-integer number instead of an integer will result in an error in the future\n",
        "  return np.random.multivariate_normal(self.mu, self.sig)\n",
        "/home/ian/Grad/Research/Disks/Starfish/Starfish/emulator.py:479: DeprecationWarning: using a non-integer number instead of an integer will result in an error in the future\n",
        "  return np.random.multivariate_normal(self.mu, self.sig)\n",
        "/home/ian/Grad/Research/Disks/Starfish/Starfish/emulator.py:479: DeprecationWarning: using a non-integer number instead of an integer will result in an error in the future\n",
        "  return np.random.multivariate_normal(self.mu, self.sig)\n"
       ]
      },
      {
       "output_type": "stream",
       "stream": "stderr",
       "text": [
        "/home/ian/Grad/Research/Disks/Starfish/Starfish/emulator.py:479: DeprecationWarning: using a non-integer number instead of an integer will result in an error in the future\n",
        "  return np.random.multivariate_normal(self.mu, self.sig)\n",
        "/home/ian/Grad/Research/Disks/Starfish/Starfish/emulator.py:479: DeprecationWarning: using a non-integer number instead of an integer will result in an error in the future\n",
        "  return np.random.multivariate_normal(self.mu, self.sig)\n",
        "/home/ian/Grad/Research/Disks/Starfish/Starfish/emulator.py:479: DeprecationWarning: using a non-integer number instead of an integer will result in an error in the future\n",
        "  return np.random.multivariate_normal(self.mu, self.sig)\n",
        "/home/ian/Grad/Research/Disks/Starfish/Starfish/emulator.py:479: DeprecationWarning: using a non-integer number instead of an integer will result in an error in the future\n",
        "  return np.random.multivariate_normal(self.mu, self.sig)\n",
        "/home/ian/Grad/Research/Disks/Starfish/Starfish/emulator.py:479: DeprecationWarning: using a non-integer number instead of an integer will result in an error in the future\n",
        "  return np.random.multivariate_normal(self.mu, self.sig)\n"
       ]
      },
      {
       "output_type": "stream",
       "stream": "stderr",
       "text": [
        "/home/ian/Grad/Research/Disks/Starfish/Starfish/emulator.py:479: DeprecationWarning: using a non-integer number instead of an integer will result in an error in the future\n",
        "  return np.random.multivariate_normal(self.mu, self.sig)\n",
        "/home/ian/Grad/Research/Disks/Starfish/Starfish/emulator.py:479: DeprecationWarning: using a non-integer number instead of an integer will result in an error in the future\n",
        "  return np.random.multivariate_normal(self.mu, self.sig)\n",
        "/home/ian/Grad/Research/Disks/Starfish/Starfish/emulator.py:479: DeprecationWarning: using a non-integer number instead of an integer will result in an error in the future\n",
        "  return np.random.multivariate_normal(self.mu, self.sig)\n",
        "/home/ian/Grad/Research/Disks/Starfish/Starfish/emulator.py:479: DeprecationWarning: using a non-integer number instead of an integer will result in an error in the future\n",
        "  return np.random.multivariate_normal(self.mu, self.sig)\n",
        "/home/ian/Grad/Research/Disks/Starfish/Starfish/emulator.py:479: DeprecationWarning: using a non-integer number instead of an integer will result in an error in the future\n",
        "  return np.random.multivariate_normal(self.mu, self.sig)\n"
       ]
      },
      {
       "output_type": "stream",
       "stream": "stderr",
       "text": [
        "/home/ian/Grad/Research/Disks/Starfish/Starfish/emulator.py:479: DeprecationWarning: using a non-integer number instead of an integer will result in an error in the future\n",
        "  return np.random.multivariate_normal(self.mu, self.sig)\n",
        "/home/ian/Grad/Research/Disks/Starfish/Starfish/emulator.py:479: DeprecationWarning: using a non-integer number instead of an integer will result in an error in the future\n",
        "  return np.random.multivariate_normal(self.mu, self.sig)\n",
        "/home/ian/Grad/Research/Disks/Starfish/Starfish/emulator.py:479: DeprecationWarning: using a non-integer number instead of an integer will result in an error in the future\n",
        "  return np.random.multivariate_normal(self.mu, self.sig)\n",
        "/home/ian/Grad/Research/Disks/Starfish/Starfish/emulator.py:479: DeprecationWarning: using a non-integer number instead of an integer will result in an error in the future\n",
        "  return np.random.multivariate_normal(self.mu, self.sig)\n",
        "/home/ian/Grad/Research/Disks/Starfish/Starfish/emulator.py:479: DeprecationWarning: using a non-integer number instead of an integer will result in an error in the future\n",
        "  return np.random.multivariate_normal(self.mu, self.sig)\n"
       ]
      },
      {
       "output_type": "stream",
       "stream": "stderr",
       "text": [
        "/home/ian/Grad/Research/Disks/Starfish/Starfish/emulator.py:479: DeprecationWarning: using a non-integer number instead of an integer will result in an error in the future\n",
        "  return np.random.multivariate_normal(self.mu, self.sig)\n",
        "/home/ian/Grad/Research/Disks/Starfish/Starfish/emulator.py:479: DeprecationWarning: using a non-integer number instead of an integer will result in an error in the future\n",
        "  return np.random.multivariate_normal(self.mu, self.sig)\n",
        "/home/ian/Grad/Research/Disks/Starfish/Starfish/emulator.py:479: DeprecationWarning: using a non-integer number instead of an integer will result in an error in the future\n",
        "  return np.random.multivariate_normal(self.mu, self.sig)\n"
       ]
      },
      {
       "output_type": "stream",
       "stream": "stderr",
       "text": [
        "/home/ian/Grad/Research/Disks/Starfish/Starfish/emulator.py:479: DeprecationWarning: using a non-integer number instead of an integer will result in an error in the future\n",
        "  return np.random.multivariate_normal(self.mu, self.sig)\n",
        "/home/ian/Grad/Research/Disks/Starfish/Starfish/emulator.py:479: DeprecationWarning: using a non-integer number instead of an integer will result in an error in the future\n",
        "  return np.random.multivariate_normal(self.mu, self.sig)\n",
        "/home/ian/Grad/Research/Disks/Starfish/Starfish/emulator.py:479: DeprecationWarning: using a non-integer number instead of an integer will result in an error in the future\n",
        "  return np.random.multivariate_normal(self.mu, self.sig)\n",
        "/home/ian/Grad/Research/Disks/Starfish/Starfish/emulator.py:479: DeprecationWarning: using a non-integer number instead of an integer will result in an error in the future\n",
        "  return np.random.multivariate_normal(self.mu, self.sig)\n",
        "/home/ian/Grad/Research/Disks/Starfish/Starfish/emulator.py:479: DeprecationWarning: using a non-integer number instead of an integer will result in an error in the future\n",
        "  return np.random.multivariate_normal(self.mu, self.sig)\n"
       ]
      },
      {
       "output_type": "stream",
       "stream": "stderr",
       "text": [
        "/home/ian/Grad/Research/Disks/Starfish/Starfish/emulator.py:479: DeprecationWarning: using a non-integer number instead of an integer will result in an error in the future\n",
        "  return np.random.multivariate_normal(self.mu, self.sig)\n",
        "/home/ian/Grad/Research/Disks/Starfish/Starfish/emulator.py:479: DeprecationWarning: using a non-integer number instead of an integer will result in an error in the future\n",
        "  return np.random.multivariate_normal(self.mu, self.sig)\n",
        "/home/ian/Grad/Research/Disks/Starfish/Starfish/emulator.py:479: DeprecationWarning: using a non-integer number instead of an integer will result in an error in the future\n",
        "  return np.random.multivariate_normal(self.mu, self.sig)\n",
        "/home/ian/Grad/Research/Disks/Starfish/Starfish/emulator.py:479: DeprecationWarning: using a non-integer number instead of an integer will result in an error in the future\n",
        "  return np.random.multivariate_normal(self.mu, self.sig)\n",
        "/home/ian/Grad/Research/Disks/Starfish/Starfish/emulator.py:479: DeprecationWarning: using a non-integer number instead of an integer will result in an error in the future\n",
        "  return np.random.multivariate_normal(self.mu, self.sig)\n"
       ]
      },
      {
       "output_type": "stream",
       "stream": "stderr",
       "text": [
        "/home/ian/Grad/Research/Disks/Starfish/Starfish/emulator.py:479: DeprecationWarning: using a non-integer number instead of an integer will result in an error in the future\n",
        "  return np.random.multivariate_normal(self.mu, self.sig)\n",
        "/home/ian/Grad/Research/Disks/Starfish/Starfish/emulator.py:479: DeprecationWarning: using a non-integer number instead of an integer will result in an error in the future\n",
        "  return np.random.multivariate_normal(self.mu, self.sig)\n",
        "/home/ian/Grad/Research/Disks/Starfish/Starfish/emulator.py:479: DeprecationWarning: using a non-integer number instead of an integer will result in an error in the future\n",
        "  return np.random.multivariate_normal(self.mu, self.sig)\n",
        "/home/ian/Grad/Research/Disks/Starfish/Starfish/emulator.py:479: DeprecationWarning: using a non-integer number instead of an integer will result in an error in the future\n",
        "  return np.random.multivariate_normal(self.mu, self.sig)\n",
        "/home/ian/Grad/Research/Disks/Starfish/Starfish/emulator.py:479: DeprecationWarning: using a non-integer number instead of an integer will result in an error in the future\n",
        "  return np.random.multivariate_normal(self.mu, self.sig)\n"
       ]
      },
      {
       "output_type": "stream",
       "stream": "stderr",
       "text": [
        "/home/ian/Grad/Research/Disks/Starfish/Starfish/emulator.py:479: DeprecationWarning: using a non-integer number instead of an integer will result in an error in the future\n",
        "  return np.random.multivariate_normal(self.mu, self.sig)\n",
        "/home/ian/Grad/Research/Disks/Starfish/Starfish/emulator.py:479: DeprecationWarning: using a non-integer number instead of an integer will result in an error in the future\n",
        "  return np.random.multivariate_normal(self.mu, self.sig)\n",
        "/home/ian/Grad/Research/Disks/Starfish/Starfish/emulator.py:479: DeprecationWarning: using a non-integer number instead of an integer will result in an error in the future\n",
        "  return np.random.multivariate_normal(self.mu, self.sig)\n",
        "/home/ian/Grad/Research/Disks/Starfish/Starfish/emulator.py:479: DeprecationWarning: using a non-integer number instead of an integer will result in an error in the future\n",
        "  return np.random.multivariate_normal(self.mu, self.sig)\n",
        "/home/ian/Grad/Research/Disks/Starfish/Starfish/emulator.py:479: DeprecationWarning: using a non-integer number instead of an integer will result in an error in the future\n",
        "  return np.random.multivariate_normal(self.mu, self.sig)\n"
       ]
      },
      {
       "output_type": "stream",
       "stream": "stderr",
       "text": [
        "/home/ian/Grad/Research/Disks/Starfish/Starfish/emulator.py:479: DeprecationWarning: using a non-integer number instead of an integer will result in an error in the future\n",
        "  return np.random.multivariate_normal(self.mu, self.sig)\n",
        "/home/ian/Grad/Research/Disks/Starfish/Starfish/emulator.py:479: DeprecationWarning: using a non-integer number instead of an integer will result in an error in the future\n",
        "  return np.random.multivariate_normal(self.mu, self.sig)\n",
        "/home/ian/Grad/Research/Disks/Starfish/Starfish/emulator.py:479: DeprecationWarning: using a non-integer number instead of an integer will result in an error in the future\n",
        "  return np.random.multivariate_normal(self.mu, self.sig)\n",
        "/home/ian/Grad/Research/Disks/Starfish/Starfish/emulator.py:479: DeprecationWarning: using a non-integer number instead of an integer will result in an error in the future\n",
        "  return np.random.multivariate_normal(self.mu, self.sig)\n",
        "/home/ian/Grad/Research/Disks/Starfish/Starfish/emulator.py:479: DeprecationWarning: using a non-integer number instead of an integer will result in an error in the future\n",
        "  return np.random.multivariate_normal(self.mu, self.sig)\n"
       ]
      },
      {
       "output_type": "stream",
       "stream": "stderr",
       "text": [
        "/home/ian/Grad/Research/Disks/Starfish/Starfish/emulator.py:479: DeprecationWarning: using a non-integer number instead of an integer will result in an error in the future\n",
        "  return np.random.multivariate_normal(self.mu, self.sig)\n",
        "/home/ian/Grad/Research/Disks/Starfish/Starfish/emulator.py:479: DeprecationWarning: using a non-integer number instead of an integer will result in an error in the future\n",
        "  return np.random.multivariate_normal(self.mu, self.sig)\n",
        "/home/ian/Grad/Research/Disks/Starfish/Starfish/emulator.py:479: DeprecationWarning: using a non-integer number instead of an integer will result in an error in the future\n",
        "  return np.random.multivariate_normal(self.mu, self.sig)\n",
        "/home/ian/Grad/Research/Disks/Starfish/Starfish/emulator.py:479: DeprecationWarning: using a non-integer number instead of an integer will result in an error in the future\n",
        "  return np.random.multivariate_normal(self.mu, self.sig)\n"
       ]
      },
      {
       "output_type": "stream",
       "stream": "stderr",
       "text": [
        "/home/ian/Grad/Research/Disks/Starfish/Starfish/emulator.py:479: DeprecationWarning: using a non-integer number instead of an integer will result in an error in the future\n",
        "  return np.random.multivariate_normal(self.mu, self.sig)\n",
        "/home/ian/Grad/Research/Disks/Starfish/Starfish/emulator.py:479: DeprecationWarning: using a non-integer number instead of an integer will result in an error in the future\n",
        "  return np.random.multivariate_normal(self.mu, self.sig)\n",
        "/home/ian/Grad/Research/Disks/Starfish/Starfish/emulator.py:479: DeprecationWarning: using a non-integer number instead of an integer will result in an error in the future\n",
        "  return np.random.multivariate_normal(self.mu, self.sig)\n",
        "/home/ian/Grad/Research/Disks/Starfish/Starfish/emulator.py:479: DeprecationWarning: using a non-integer number instead of an integer will result in an error in the future\n",
        "  return np.random.multivariate_normal(self.mu, self.sig)\n",
        "/home/ian/Grad/Research/Disks/Starfish/Starfish/emulator.py:479: DeprecationWarning: using a non-integer number instead of an integer will result in an error in the future\n",
        "  return np.random.multivariate_normal(self.mu, self.sig)\n"
       ]
      },
      {
       "output_type": "stream",
       "stream": "stderr",
       "text": [
        "/home/ian/Grad/Research/Disks/Starfish/Starfish/emulator.py:479: DeprecationWarning: using a non-integer number instead of an integer will result in an error in the future\n",
        "  return np.random.multivariate_normal(self.mu, self.sig)\n",
        "/home/ian/Grad/Research/Disks/Starfish/Starfish/emulator.py:479: DeprecationWarning: using a non-integer number instead of an integer will result in an error in the future\n",
        "  return np.random.multivariate_normal(self.mu, self.sig)\n",
        "/home/ian/Grad/Research/Disks/Starfish/Starfish/emulator.py:479: DeprecationWarning: using a non-integer number instead of an integer will result in an error in the future\n",
        "  return np.random.multivariate_normal(self.mu, self.sig)\n",
        "/home/ian/Grad/Research/Disks/Starfish/Starfish/emulator.py:479: DeprecationWarning: using a non-integer number instead of an integer will result in an error in the future\n",
        "  return np.random.multivariate_normal(self.mu, self.sig)\n"
       ]
      },
      {
       "output_type": "stream",
       "stream": "stderr",
       "text": [
        "/home/ian/Grad/Research/Disks/Starfish/Starfish/emulator.py:479: DeprecationWarning: using a non-integer number instead of an integer will result in an error in the future\n",
        "  return np.random.multivariate_normal(self.mu, self.sig)\n",
        "/home/ian/Grad/Research/Disks/Starfish/Starfish/emulator.py:479: DeprecationWarning: using a non-integer number instead of an integer will result in an error in the future\n",
        "  return np.random.multivariate_normal(self.mu, self.sig)\n",
        "/home/ian/Grad/Research/Disks/Starfish/Starfish/emulator.py:479: DeprecationWarning: using a non-integer number instead of an integer will result in an error in the future\n",
        "  return np.random.multivariate_normal(self.mu, self.sig)\n",
        "/home/ian/Grad/Research/Disks/Starfish/Starfish/emulator.py:479: DeprecationWarning: using a non-integer number instead of an integer will result in an error in the future\n",
        "  return np.random.multivariate_normal(self.mu, self.sig)\n",
        "/home/ian/Grad/Research/Disks/Starfish/Starfish/emulator.py:479: DeprecationWarning: using a non-integer number instead of an integer will result in an error in the future\n",
        "  return np.random.multivariate_normal(self.mu, self.sig)\n"
       ]
      },
      {
       "output_type": "stream",
       "stream": "stderr",
       "text": [
        "/home/ian/Grad/Research/Disks/Starfish/Starfish/emulator.py:479: DeprecationWarning: using a non-integer number instead of an integer will result in an error in the future\n",
        "  return np.random.multivariate_normal(self.mu, self.sig)\n",
        "/home/ian/Grad/Research/Disks/Starfish/Starfish/emulator.py:479: DeprecationWarning: using a non-integer number instead of an integer will result in an error in the future\n",
        "  return np.random.multivariate_normal(self.mu, self.sig)\n",
        "/home/ian/Grad/Research/Disks/Starfish/Starfish/emulator.py:479: DeprecationWarning: using a non-integer number instead of an integer will result in an error in the future\n",
        "  return np.random.multivariate_normal(self.mu, self.sig)\n",
        "/home/ian/Grad/Research/Disks/Starfish/Starfish/emulator.py:479: DeprecationWarning: using a non-integer number instead of an integer will result in an error in the future\n",
        "  return np.random.multivariate_normal(self.mu, self.sig)\n"
       ]
      },
      {
       "output_type": "stream",
       "stream": "stdout",
       "text": [
        "10 loops, best of 3: 83 ms per loop\n"
       ]
      },
      {
       "output_type": "stream",
       "stream": "stderr",
       "text": [
        "/home/ian/Grad/Research/Disks/Starfish/Starfish/emulator.py:479: DeprecationWarning: using a non-integer number instead of an integer will result in an error in the future\n",
        "  return np.random.multivariate_normal(self.mu, self.sig)\n",
        "/home/ian/Grad/Research/Disks/Starfish/Starfish/emulator.py:479: DeprecationWarning: using a non-integer number instead of an integer will result in an error in the future\n",
        "  return np.random.multivariate_normal(self.mu, self.sig)\n",
        "/home/ian/Grad/Research/Disks/Starfish/Starfish/emulator.py:479: DeprecationWarning: using a non-integer number instead of an integer will result in an error in the future\n",
        "  return np.random.multivariate_normal(self.mu, self.sig)\n",
        "/home/ian/Grad/Research/Disks/Starfish/Starfish/emulator.py:479: DeprecationWarning: using a non-integer number instead of an integer will result in an error in the future\n",
        "  return np.random.multivariate_normal(self.mu, self.sig)\n"
       ]
      }
     ],
     "prompt_number": 28
    },
    {
     "cell_type": "code",
     "collapsed": false,
     "input": [
      "recons = [son() for i in range(10)]"
     ],
     "language": "python",
     "metadata": {},
     "outputs": [
      {
       "output_type": "stream",
       "stream": "stderr",
       "text": [
        "/home/ian/Grad/Research/Disks/Starfish/Starfish/emulator.py:480: DeprecationWarning: using a non-integer number instead of an integer will result in an error in the future\n",
        "  return np.random.multivariate_normal(self.mu, self.sig)\n",
        "/home/ian/Grad/Research/Disks/Starfish/Starfish/emulator.py:480: DeprecationWarning: using a non-integer number instead of an integer will result in an error in the future\n",
        "  return np.random.multivariate_normal(self.mu, self.sig)\n",
        "/home/ian/Grad/Research/Disks/Starfish/Starfish/emulator.py:480: DeprecationWarning: using a non-integer number instead of an integer will result in an error in the future\n",
        "  return np.random.multivariate_normal(self.mu, self.sig)\n",
        "/home/ian/Grad/Research/Disks/Starfish/Starfish/emulator.py:480: DeprecationWarning: using a non-integer number instead of an integer will result in an error in the future\n",
        "  return np.random.multivariate_normal(self.mu, self.sig)\n"
       ]
      },
      {
       "output_type": "stream",
       "stream": "stderr",
       "text": [
        "/home/ian/Grad/Research/Disks/Starfish/Starfish/emulator.py:480: DeprecationWarning: using a non-integer number instead of an integer will result in an error in the future\n",
        "  return np.random.multivariate_normal(self.mu, self.sig)\n",
        "/home/ian/Grad/Research/Disks/Starfish/Starfish/emulator.py:480: DeprecationWarning: using a non-integer number instead of an integer will result in an error in the future\n",
        "  return np.random.multivariate_normal(self.mu, self.sig)\n",
        "/home/ian/Grad/Research/Disks/Starfish/Starfish/emulator.py:480: DeprecationWarning: using a non-integer number instead of an integer will result in an error in the future\n",
        "  return np.random.multivariate_normal(self.mu, self.sig)\n",
        "/home/ian/Grad/Research/Disks/Starfish/Starfish/emulator.py:480: DeprecationWarning: using a non-integer number instead of an integer will result in an error in the future\n",
        "  return np.random.multivariate_normal(self.mu, self.sig)\n"
       ]
      },
      {
       "output_type": "stream",
       "stream": "stderr",
       "text": [
        "/home/ian/Grad/Research/Disks/Starfish/Starfish/emulator.py:480: DeprecationWarning: using a non-integer number instead of an integer will result in an error in the future\n",
        "  return np.random.multivariate_normal(self.mu, self.sig)\n",
        "/home/ian/Grad/Research/Disks/Starfish/Starfish/emulator.py:480: DeprecationWarning: using a non-integer number instead of an integer will result in an error in the future\n",
        "  return np.random.multivariate_normal(self.mu, self.sig)\n",
        "/home/ian/Grad/Research/Disks/Starfish/Starfish/emulator.py:480: DeprecationWarning: using a non-integer number instead of an integer will result in an error in the future\n",
        "  return np.random.multivariate_normal(self.mu, self.sig)\n",
        "/home/ian/Grad/Research/Disks/Starfish/Starfish/emulator.py:480: DeprecationWarning: using a non-integer number instead of an integer will result in an error in the future\n",
        "  return np.random.multivariate_normal(self.mu, self.sig)\n"
       ]
      },
      {
       "output_type": "stream",
       "stream": "stderr",
       "text": [
        "/home/ian/Grad/Research/Disks/Starfish/Starfish/emulator.py:480: DeprecationWarning: using a non-integer number instead of an integer will result in an error in the future\n",
        "  return np.random.multivariate_normal(self.mu, self.sig)\n",
        "/home/ian/Grad/Research/Disks/Starfish/Starfish/emulator.py:480: DeprecationWarning: using a non-integer number instead of an integer will result in an error in the future\n",
        "  return np.random.multivariate_normal(self.mu, self.sig)\n",
        "/home/ian/Grad/Research/Disks/Starfish/Starfish/emulator.py:480: DeprecationWarning: using a non-integer number instead of an integer will result in an error in the future\n",
        "  return np.random.multivariate_normal(self.mu, self.sig)\n",
        "/home/ian/Grad/Research/Disks/Starfish/Starfish/emulator.py:480: DeprecationWarning: using a non-integer number instead of an integer will result in an error in the future\n",
        "  return np.random.multivariate_normal(self.mu, self.sig)\n"
       ]
      },
      {
       "output_type": "stream",
       "stream": "stderr",
       "text": [
        "/home/ian/Grad/Research/Disks/Starfish/Starfish/emulator.py:480: DeprecationWarning: using a non-integer number instead of an integer will result in an error in the future\n",
        "  return np.random.multivariate_normal(self.mu, self.sig)\n",
        "/home/ian/Grad/Research/Disks/Starfish/Starfish/emulator.py:480: DeprecationWarning: using a non-integer number instead of an integer will result in an error in the future\n",
        "  return np.random.multivariate_normal(self.mu, self.sig)\n",
        "/home/ian/Grad/Research/Disks/Starfish/Starfish/emulator.py:480: DeprecationWarning: using a non-integer number instead of an integer will result in an error in the future\n",
        "  return np.random.multivariate_normal(self.mu, self.sig)\n",
        "/home/ian/Grad/Research/Disks/Starfish/Starfish/emulator.py:480: DeprecationWarning: using a non-integer number instead of an integer will result in an error in the future\n",
        "  return np.random.multivariate_normal(self.mu, self.sig)\n"
       ]
      },
      {
       "output_type": "stream",
       "stream": "stderr",
       "text": [
        "/home/ian/Grad/Research/Disks/Starfish/Starfish/emulator.py:480: DeprecationWarning: using a non-integer number instead of an integer will result in an error in the future\n",
        "  return np.random.multivariate_normal(self.mu, self.sig)\n",
        "/home/ian/Grad/Research/Disks/Starfish/Starfish/emulator.py:480: DeprecationWarning: using a non-integer number instead of an integer will result in an error in the future\n",
        "  return np.random.multivariate_normal(self.mu, self.sig)\n",
        "/home/ian/Grad/Research/Disks/Starfish/Starfish/emulator.py:480: DeprecationWarning: using a non-integer number instead of an integer will result in an error in the future\n",
        "  return np.random.multivariate_normal(self.mu, self.sig)\n",
        "/home/ian/Grad/Research/Disks/Starfish/Starfish/emulator.py:480: DeprecationWarning: using a non-integer number instead of an integer will result in an error in the future\n",
        "  return np.random.multivariate_normal(self.mu, self.sig)\n"
       ]
      },
      {
       "output_type": "stream",
       "stream": "stderr",
       "text": [
        "/home/ian/Grad/Research/Disks/Starfish/Starfish/emulator.py:480: DeprecationWarning: using a non-integer number instead of an integer will result in an error in the future\n",
        "  return np.random.multivariate_normal(self.mu, self.sig)\n",
        "/home/ian/Grad/Research/Disks/Starfish/Starfish/emulator.py:480: DeprecationWarning: using a non-integer number instead of an integer will result in an error in the future\n",
        "  return np.random.multivariate_normal(self.mu, self.sig)\n",
        "/home/ian/Grad/Research/Disks/Starfish/Starfish/emulator.py:480: DeprecationWarning: using a non-integer number instead of an integer will result in an error in the future\n",
        "  return np.random.multivariate_normal(self.mu, self.sig)\n",
        "/home/ian/Grad/Research/Disks/Starfish/Starfish/emulator.py:480: DeprecationWarning: using a non-integer number instead of an integer will result in an error in the future\n",
        "  return np.random.multivariate_normal(self.mu, self.sig)\n"
       ]
      },
      {
       "output_type": "stream",
       "stream": "stderr",
       "text": [
        "/home/ian/Grad/Research/Disks/Starfish/Starfish/emulator.py:480: DeprecationWarning: using a non-integer number instead of an integer will result in an error in the future\n",
        "  return np.random.multivariate_normal(self.mu, self.sig)\n",
        "/home/ian/Grad/Research/Disks/Starfish/Starfish/emulator.py:480: DeprecationWarning: using a non-integer number instead of an integer will result in an error in the future\n",
        "  return np.random.multivariate_normal(self.mu, self.sig)\n",
        "/home/ian/Grad/Research/Disks/Starfish/Starfish/emulator.py:480: DeprecationWarning: using a non-integer number instead of an integer will result in an error in the future\n",
        "  return np.random.multivariate_normal(self.mu, self.sig)\n",
        "/home/ian/Grad/Research/Disks/Starfish/Starfish/emulator.py:480: DeprecationWarning: using a non-integer number instead of an integer will result in an error in the future\n",
        "  return np.random.multivariate_normal(self.mu, self.sig)\n"
       ]
      },
      {
       "output_type": "stream",
       "stream": "stderr",
       "text": [
        "/home/ian/Grad/Research/Disks/Starfish/Starfish/emulator.py:480: DeprecationWarning: using a non-integer number instead of an integer will result in an error in the future\n",
        "  return np.random.multivariate_normal(self.mu, self.sig)\n",
        "/home/ian/Grad/Research/Disks/Starfish/Starfish/emulator.py:480: DeprecationWarning: using a non-integer number instead of an integer will result in an error in the future\n",
        "  return np.random.multivariate_normal(self.mu, self.sig)\n",
        "/home/ian/Grad/Research/Disks/Starfish/Starfish/emulator.py:480: DeprecationWarning: using a non-integer number instead of an integer will result in an error in the future\n",
        "  return np.random.multivariate_normal(self.mu, self.sig)\n",
        "/home/ian/Grad/Research/Disks/Starfish/Starfish/emulator.py:480: DeprecationWarning: using a non-integer number instead of an integer will result in an error in the future\n",
        "  return np.random.multivariate_normal(self.mu, self.sig)\n"
       ]
      },
      {
       "output_type": "stream",
       "stream": "stderr",
       "text": [
        "/home/ian/Grad/Research/Disks/Starfish/Starfish/emulator.py:480: DeprecationWarning: using a non-integer number instead of an integer will result in an error in the future\n",
        "  return np.random.multivariate_normal(self.mu, self.sig)\n",
        "/home/ian/Grad/Research/Disks/Starfish/Starfish/emulator.py:480: DeprecationWarning: using a non-integer number instead of an integer will result in an error in the future\n",
        "  return np.random.multivariate_normal(self.mu, self.sig)\n",
        "/home/ian/Grad/Research/Disks/Starfish/Starfish/emulator.py:480: DeprecationWarning: using a non-integer number instead of an integer will result in an error in the future\n",
        "  return np.random.multivariate_normal(self.mu, self.sig)\n",
        "/home/ian/Grad/Research/Disks/Starfish/Starfish/emulator.py:480: DeprecationWarning: using a non-integer number instead of an integer will result in an error in the future\n",
        "  return np.random.multivariate_normal(self.mu, self.sig)\n"
       ]
      },
      {
       "output_type": "stream",
       "stream": "stderr",
       "text": [
        "/home/ian/Grad/Research/Disks/Starfish/Starfish/emulator.py:480: DeprecationWarning: using a non-integer number instead of an integer will result in an error in the future\n",
        "  return np.random.multivariate_normal(self.mu, self.sig)\n",
        "/home/ian/Grad/Research/Disks/Starfish/Starfish/emulator.py:480: DeprecationWarning: using a non-integer number instead of an integer will result in an error in the future\n",
        "  return np.random.multivariate_normal(self.mu, self.sig)\n",
        "/home/ian/Grad/Research/Disks/Starfish/Starfish/emulator.py:480: DeprecationWarning: using a non-integer number instead of an integer will result in an error in the future\n",
        "  return np.random.multivariate_normal(self.mu, self.sig)\n",
        "/home/ian/Grad/Research/Disks/Starfish/Starfish/emulator.py:480: DeprecationWarning: using a non-integer number instead of an integer will result in an error in the future\n",
        "  return np.random.multivariate_normal(self.mu, self.sig)\n"
       ]
      },
      {
       "output_type": "stream",
       "stream": "stderr",
       "text": [
        "/home/ian/Grad/Research/Disks/Starfish/Starfish/emulator.py:480: DeprecationWarning: using a non-integer number instead of an integer will result in an error in the future\n",
        "  return np.random.multivariate_normal(self.mu, self.sig)\n",
        "/home/ian/Grad/Research/Disks/Starfish/Starfish/emulator.py:480: DeprecationWarning: using a non-integer number instead of an integer will result in an error in the future\n",
        "  return np.random.multivariate_normal(self.mu, self.sig)\n",
        "/home/ian/Grad/Research/Disks/Starfish/Starfish/emulator.py:480: DeprecationWarning: using a non-integer number instead of an integer will result in an error in the future\n",
        "  return np.random.multivariate_normal(self.mu, self.sig)\n",
        "/home/ian/Grad/Research/Disks/Starfish/Starfish/emulator.py:480: DeprecationWarning: using a non-integer number instead of an integer will result in an error in the future\n",
        "  return np.random.multivariate_normal(self.mu, self.sig)\n"
       ]
      },
      {
       "output_type": "stream",
       "stream": "stderr",
       "text": [
        "/home/ian/Grad/Research/Disks/Starfish/Starfish/emulator.py:480: DeprecationWarning: using a non-integer number instead of an integer will result in an error in the future\n",
        "  return np.random.multivariate_normal(self.mu, self.sig)\n",
        "/home/ian/Grad/Research/Disks/Starfish/Starfish/emulator.py:480: DeprecationWarning: using a non-integer number instead of an integer will result in an error in the future\n",
        "  return np.random.multivariate_normal(self.mu, self.sig)\n"
       ]
      }
     ],
     "prompt_number": 12
    },
    {
     "cell_type": "code",
     "collapsed": false,
     "input": [
      "fig = plt.figure(figsize=(8, 5))\n",
      "ax = fig.add_subplot(111)\n",
      "for recon in recons:\n",
      "    ax.plot(wl*1e-4, recon, lw=0.2, color=\"k\")\n",
      "    \n",
      "ax.xaxis.set_major_formatter(FSF(\"%.1f\"))\n",
      "ax.set_xlabel(r\"$\\lambda [\\mu {\\rm m}]$\")\n",
      "ax.set_ylabel(r\"$\\propto f_\\lambda$\")\n",
      "    \n",
      "ax.set_xlim(2.15, 2.3)\n",
      "ax.set_ylim(1.1e6, 1.6e6)\n",
      "    #plt.plot(wl, emulator.test_spectrum)\n",
      "fig.savefig(\"../plots/emulator/Gl51.png\")\n",
      "plt.show()"
     ],
     "language": "python",
     "metadata": {},
     "outputs": [
      {
       "output_type": "stream",
       "stream": "stderr",
       "text": [
        "/usr/lib/python3.4/site-packages/matplotlib/texmanager.py:575: DeprecationWarning: npy_PyFile_Dup is deprecated, use npy_PyFile_Dup2\n",
        "  X = read_png(os.path.join(self.texcache, pngfile))\n",
        "/usr/lib/python3.4/site-packages/matplotlib/texmanager.py:575: DeprecationWarning: npy_PyFile_Dup is deprecated, use npy_PyFile_Dup2\n",
        "  X = read_png(os.path.join(self.texcache, pngfile))\n"
       ]
      },
      {
       "output_type": "stream",
       "stream": "stderr",
       "text": [
        "/usr/lib/python3.4/site-packages/matplotlib/texmanager.py:575: DeprecationWarning: npy_PyFile_Dup is deprecated, use npy_PyFile_Dup2\n",
        "  X = read_png(os.path.join(self.texcache, pngfile))\n",
        "/usr/lib/python3.4/site-packages/matplotlib/texmanager.py:575: DeprecationWarning: npy_PyFile_Dup is deprecated, use npy_PyFile_Dup2\n",
        "  X = read_png(os.path.join(self.texcache, pngfile))\n",
        "/usr/lib/python3.4/site-packages/matplotlib/texmanager.py:575: DeprecationWarning: npy_PyFile_Dup is deprecated, use npy_PyFile_Dup2\n",
        "  X = read_png(os.path.join(self.texcache, pngfile))\n"
       ]
      },
      {
       "output_type": "stream",
       "stream": "stderr",
       "text": [
        "/usr/lib/python3.4/site-packages/matplotlib/texmanager.py:575: DeprecationWarning: npy_PyFile_Dup is deprecated, use npy_PyFile_Dup2\n",
        "  X = read_png(os.path.join(self.texcache, pngfile))\n",
        "/usr/lib/python3.4/site-packages/matplotlib/texmanager.py:575: DeprecationWarning: npy_PyFile_Dup is deprecated, use npy_PyFile_Dup2\n",
        "  X = read_png(os.path.join(self.texcache, pngfile))\n",
        "/usr/lib/python3.4/site-packages/matplotlib/texmanager.py:575: DeprecationWarning: npy_PyFile_Dup is deprecated, use npy_PyFile_Dup2\n",
        "  X = read_png(os.path.join(self.texcache, pngfile))\n",
        "/usr/lib/python3.4/site-packages/matplotlib/texmanager.py:575: DeprecationWarning: npy_PyFile_Dup is deprecated, use npy_PyFile_Dup2\n",
        "  X = read_png(os.path.join(self.texcache, pngfile))\n",
        "/usr/lib/python3.4/site-packages/matplotlib/texmanager.py:575: DeprecationWarning: npy_PyFile_Dup is deprecated, use npy_PyFile_Dup2\n",
        "  X = read_png(os.path.join(self.texcache, pngfile))\n",
        "/usr/lib/python3.4/site-packages/matplotlib/texmanager.py:575: DeprecationWarning: npy_PyFile_Dup is deprecated, use npy_PyFile_Dup2\n",
        "  X = read_png(os.path.join(self.texcache, pngfile))\n"
       ]
      },
      {
       "output_type": "stream",
       "stream": "stderr",
       "text": [
        "/usr/lib/python3.4/site-packages/matplotlib/backends/backend_agg.py:517: DeprecationWarning: npy_PyFile_Dup is deprecated, use npy_PyFile_Dup2\n",
        "  filename_or_obj, self.figure.dpi)\n"
       ]
      }
     ],
     "prompt_number": 19
    },
    {
     "cell_type": "markdown",
     "metadata": {},
     "source": [
      "## Weight 1 GP parameters\n",
      "\n",
      "For now, let's fix logg = 5, Z = 0.0 and go with weights."
     ]
    },
    {
     "cell_type": "code",
     "collapsed": false,
     "input": [
      "int_temps = np.linspace(temps[0], temps[-1], num=40)\n",
      "int_loggs = np.linspace(loggs[0], loggs[-1], num=40)\n",
      "int_Zs = np.linspace(Zs[0], Zs[-1], num=40)\n",
      "EMw = emulator.WeightEmulator(np.array([1.52, 200, 0.75, 0.6]), w0)\n",
      "m = emulator.m"
     ],
     "language": "python",
     "metadata": {},
     "outputs": [],
     "prompt_number": 4
    },
    {
     "cell_type": "code",
     "collapsed": false,
     "input": [
      "EMw.emulator_params = np.array([1.52, 200, 0.75, 0.6])\n",
      "logg = 5.0\n",
      "Z = 0.0\n",
      "ww = []\n",
      "for temp in temps:\n",
      "    pars = np.array([temp, logg, Z])\n",
      "    index = emulator.get_index(pars)\n",
      "    ww.append(w1[index])\n",
      "    \n",
      "print(ww)    \n",
      "plt.plot(temps, ww, \"k\")\n",
      "plt.plot(temps, ww, \"bo\")\n",
      "\n",
      "int_temps = np.linspace(temps[0], temps[-1], num=100)\n",
      "\n",
      "fparams = []\n",
      "for temp in int_temps:\n",
      "    fparams.append([temp, logg, Z])\n",
      "fparams = np.array(fparams)        \n",
      "\n",
      "for k in range(5):\n",
      "    plt.plot(int_temps, EMw1(fparams), \"b\", lw=0.5)\n",
      "plt.show()"
     ],
     "language": "python",
     "metadata": {},
     "outputs": []
    },
    {
     "cell_type": "code",
     "collapsed": false,
     "input": [
      "#Load a random sample from the posteirior\n",
      "samples = np.load(\"samples_w0.npy\")\n",
      "indexes = np.arange(len(samples))"
     ],
     "language": "python",
     "metadata": {},
     "outputs": [],
     "prompt_number": 5
    },
    {
     "cell_type": "code",
     "collapsed": true,
     "input": [
      "def explore(w_index):\n",
      "    \n",
      "    start = w_index * m\n",
      "    end = (w_index + 1) * m\n",
      "    weights = w[start:end]\n",
      "    \n",
      "    pcomp = emulator.pcomps[w_index]\n",
      "    \n",
      "    nsamp = 5\n",
      "    \n",
      "    figt, axt = plt.subplots(nrows=4, ncols=4, figsize=(12,12), sharex=True, sharey=True)\n",
      "\n",
      "    for i in range(4):\n",
      "        for j in range(4):\n",
      "            logg = loggs[i]\n",
      "            Z = Zs[j]\n",
      "            ww = []\n",
      "            for temp in temps:\n",
      "                pars = np.array([temp, logg, Z])\n",
      "                index = emulator.get_index(pars)\n",
      "                ww.append(weights[index]) #np.sum(emulator.fluxes[index] * pcomp))\n",
      "            axt[i,j].plot(temps, ww, \"k\")\n",
      "            axt[i,j].plot(temps, ww, \"bo\")\n",
      "            axt[i,j].annotate(r\"$\\log g = {:.1f}$\".format(logg), (0.1, 0.90), xycoords=\"axes fraction\", ha=\"left\", color=\"k\", size=9)\n",
      "            axt[i,j].annotate(r\"$Z = {:.1f}$\".format(Z), (0.1, 0.8), xycoords=\"axes fraction\", ha=\"left\", color=\"k\", size=9)      \n",
      "            \n",
      "            fparams = []\n",
      "            for temp in int_temps:\n",
      "                fparams.append([temp, logg, Z])\n",
      "            fparams = np.array(fparams)        \n",
      "            \n",
      "            for k in range(nsamp):\n",
      "                EMw.emulator_params = samples[np.random.choice(indexes)]\n",
      "                axt[i,j].plot(int_temps, EMw(fparams), \"b\", lw=0.5)                \n",
      "\n",
      "    axt[-1, -1].xaxis.set_major_formatter(FSF(\"%.0f\"))        \n",
      "    axt[-1, -1].xaxis.set_major_locator(MultipleLocator(200))        \n",
      "    \n",
      "    \n",
      "    figl, axl = plt.subplots(nrows=4, ncols=7, figsize=(18,12), sharex=True, sharey=True)\n",
      "\n",
      "    for i in range(4):\n",
      "        for j in range(7):\n",
      "            Z = Zs[i]\n",
      "            temp = temps[j]\n",
      "            ww = []\n",
      "            for logg in loggs:\n",
      "                pars = np.array([temp, logg, Z])\n",
      "                index = emulator.get_index(pars)\n",
      "                ww.append(weights[index]) #np.sum(emulator.fluxes[index] * pcomp))\n",
      "            axl[i,j].plot(loggs, ww, \"k\")\n",
      "            axl[i,j].plot(loggs, ww, \"bo\")\n",
      "            axl[i,j].annotate(r\"$T_{\\rm eff}$\" + \"$= {:.0f}$\".format(temp), (0.1, 0.90), xycoords=\"axes fraction\", ha=\"left\", color=\"k\", size=9)\n",
      "            axl[i,j].annotate(r\"$Z = {:.1f}$\".format(Z), (0.1, 0.8), xycoords=\"axes fraction\", ha=\"left\", color=\"k\", size=9)      \n",
      "            \n",
      "            fparams = []\n",
      "            for logg in int_loggs:\n",
      "                fparams.append([temp, logg, Z])\n",
      "            fparams = np.array(fparams)        \n",
      "            \n",
      "            for k in range(nsamp):\n",
      "                EMw.emulator_params = samples[np.random.choice(indexes)]\n",
      "                axl[i,j].plot(int_loggs, EMw(fparams), \"b\", lw=0.5)\n",
      "            \n",
      "    axl[-1, -1].xaxis.set_major_formatter(FSF(\"%.1f\"))        \n",
      "    axl[-1, -1].xaxis.set_major_locator(MultipleLocator(0.5))    \n",
      "    \n",
      "    figz, axz = plt.subplots(nrows=4, ncols=7, figsize=(18,12), sharex=True, sharey=True)\n",
      "\n",
      "    for i in range(4):\n",
      "        for j in range(7):\n",
      "            logg = loggs[i]\n",
      "            temp = temps[j]\n",
      "            ww = []\n",
      "            for Z in Zs:\n",
      "                pars = np.array([temp, logg, Z])\n",
      "                index = emulator.get_index(pars)\n",
      "                ww.append(weights[index]) #np.sum(emulator.fluxes[index] * pcomp))\n",
      "            axz[i,j].plot(Zs, ww, \"k\")\n",
      "            axz[i,j].plot(Zs, ww, \"bo\")\n",
      "            axz[i,j].annotate(r\"$\\log g = {:.1f}$\".format(logg), (0.1, 0.90), xycoords=\"axes fraction\", ha=\"left\", color=\"k\", size=9)\n",
      "            axz[i,j].annotate(r\"$T_{\\rm eff}$\" + \"$ = {:.0f}$\".format(temp), (0.1, 0.8), xycoords=\"axes fraction\", ha=\"left\", color=\"k\", size=9)      \n",
      "            \n",
      "            fparams = []\n",
      "            for Z in int_Zs:\n",
      "                fparams.append([temp, logg, Z])\n",
      "            fparams = np.array(fparams)        \n",
      "            \n",
      "            for k in range(nsamp):\n",
      "                EMw.emulator_params = samples[np.random.choice(indexes)]\n",
      "                axz[i,j].plot(int_Zs, EMw(fparams), \"b\", lw=0.5)\n",
      "\n",
      "    axz[-1, -1].xaxis.set_major_formatter(FSF(\"%.1f\"))        \n",
      "    axz[-1, -1].xaxis.set_major_locator(MultipleLocator(0.5))  \n",
      "    \n",
      "    plt.show()"
     ],
     "language": "python",
     "metadata": {},
     "outputs": [],
     "prompt_number": 6
    },
    {
     "cell_type": "code",
     "collapsed": true,
     "input": [
      "explore(0);"
     ],
     "language": "python",
     "metadata": {},
     "outputs": [
      {
       "output_type": "stream",
       "stream": "stderr",
       "text": [
        "/home/ian/Grad/Research/Disks/Starfish/Starfish/emulator.py:480: DeprecationWarning: using a non-integer number instead of an integer will result in an error in the future\n",
        "  return np.random.multivariate_normal(self.mu, self.sig)\n",
        "/home/ian/Grad/Research/Disks/Starfish/Starfish/emulator.py:480: DeprecationWarning: using a non-integer number instead of an integer will result in an error in the future\n",
        "  return np.random.multivariate_normal(self.mu, self.sig)\n",
        "/home/ian/Grad/Research/Disks/Starfish/Starfish/emulator.py:480: DeprecationWarning: using a non-integer number instead of an integer will result in an error in the future\n",
        "  return np.random.multivariate_normal(self.mu, self.sig)\n"
       ]
      },
      {
       "output_type": "stream",
       "stream": "stderr",
       "text": [
        "/home/ian/Grad/Research/Disks/Starfish/Starfish/emulator.py:480: DeprecationWarning: using a non-integer number instead of an integer will result in an error in the future\n",
        "  return np.random.multivariate_normal(self.mu, self.sig)\n",
        "/home/ian/Grad/Research/Disks/Starfish/Starfish/emulator.py:480: DeprecationWarning: using a non-integer number instead of an integer will result in an error in the future\n",
        "  return np.random.multivariate_normal(self.mu, self.sig)\n",
        "/home/ian/Grad/Research/Disks/Starfish/Starfish/emulator.py:480: DeprecationWarning: using a non-integer number instead of an integer will result in an error in the future\n",
        "  return np.random.multivariate_normal(self.mu, self.sig)\n"
       ]
      },
      {
       "output_type": "stream",
       "stream": "stderr",
       "text": [
        "/home/ian/Grad/Research/Disks/Starfish/Starfish/emulator.py:480: DeprecationWarning: using a non-integer number instead of an integer will result in an error in the future\n",
        "  return np.random.multivariate_normal(self.mu, self.sig)\n",
        "/home/ian/Grad/Research/Disks/Starfish/Starfish/emulator.py:480: DeprecationWarning: using a non-integer number instead of an integer will result in an error in the future\n",
        "  return np.random.multivariate_normal(self.mu, self.sig)\n"
       ]
      },
      {
       "output_type": "stream",
       "stream": "stderr",
       "text": [
        "/home/ian/Grad/Research/Disks/Starfish/Starfish/emulator.py:480: DeprecationWarning: using a non-integer number instead of an integer will result in an error in the future\n",
        "  return np.random.multivariate_normal(self.mu, self.sig)\n",
        "/home/ian/Grad/Research/Disks/Starfish/Starfish/emulator.py:480: DeprecationWarning: using a non-integer number instead of an integer will result in an error in the future\n",
        "  return np.random.multivariate_normal(self.mu, self.sig)\n"
       ]
      },
      {
       "output_type": "stream",
       "stream": "stderr",
       "text": [
        "/home/ian/Grad/Research/Disks/Starfish/Starfish/emulator.py:480: DeprecationWarning: using a non-integer number instead of an integer will result in an error in the future\n",
        "  return np.random.multivariate_normal(self.mu, self.sig)\n",
        "/home/ian/Grad/Research/Disks/Starfish/Starfish/emulator.py:480: DeprecationWarning: using a non-integer number instead of an integer will result in an error in the future\n",
        "  return np.random.multivariate_normal(self.mu, self.sig)\n"
       ]
      },
      {
       "output_type": "stream",
       "stream": "stderr",
       "text": [
        "/home/ian/Grad/Research/Disks/Starfish/Starfish/emulator.py:480: DeprecationWarning: using a non-integer number instead of an integer will result in an error in the future\n",
        "  return np.random.multivariate_normal(self.mu, self.sig)\n",
        "/home/ian/Grad/Research/Disks/Starfish/Starfish/emulator.py:480: DeprecationWarning: using a non-integer number instead of an integer will result in an error in the future\n",
        "  return np.random.multivariate_normal(self.mu, self.sig)\n"
       ]
      },
      {
       "output_type": "stream",
       "stream": "stderr",
       "text": [
        "/home/ian/Grad/Research/Disks/Starfish/Starfish/emulator.py:480: DeprecationWarning: using a non-integer number instead of an integer will result in an error in the future\n",
        "  return np.random.multivariate_normal(self.mu, self.sig)\n",
        "/home/ian/Grad/Research/Disks/Starfish/Starfish/emulator.py:480: DeprecationWarning: using a non-integer number instead of an integer will result in an error in the future\n",
        "  return np.random.multivariate_normal(self.mu, self.sig)\n"
       ]
      },
      {
       "output_type": "stream",
       "stream": "stderr",
       "text": [
        "/home/ian/Grad/Research/Disks/Starfish/Starfish/emulator.py:480: DeprecationWarning: using a non-integer number instead of an integer will result in an error in the future\n",
        "  return np.random.multivariate_normal(self.mu, self.sig)\n",
        "/home/ian/Grad/Research/Disks/Starfish/Starfish/emulator.py:480: DeprecationWarning: using a non-integer number instead of an integer will result in an error in the future\n",
        "  return np.random.multivariate_normal(self.mu, self.sig)\n"
       ]
      },
      {
       "output_type": "stream",
       "stream": "stderr",
       "text": [
        "/home/ian/Grad/Research/Disks/Starfish/Starfish/emulator.py:480: DeprecationWarning: using a non-integer number instead of an integer will result in an error in the future\n",
        "  return np.random.multivariate_normal(self.mu, self.sig)\n",
        "/home/ian/Grad/Research/Disks/Starfish/Starfish/emulator.py:480: DeprecationWarning: using a non-integer number instead of an integer will result in an error in the future\n",
        "  return np.random.multivariate_normal(self.mu, self.sig)\n"
       ]
      },
      {
       "output_type": "stream",
       "stream": "stderr",
       "text": [
        "/home/ian/Grad/Research/Disks/Starfish/Starfish/emulator.py:480: DeprecationWarning: using a non-integer number instead of an integer will result in an error in the future\n",
        "  return np.random.multivariate_normal(self.mu, self.sig)\n",
        "/home/ian/Grad/Research/Disks/Starfish/Starfish/emulator.py:480: DeprecationWarning: using a non-integer number instead of an integer will result in an error in the future\n",
        "  return np.random.multivariate_normal(self.mu, self.sig)\n",
        "/home/ian/Grad/Research/Disks/Starfish/Starfish/emulator.py:480: DeprecationWarning: using a non-integer number instead of an integer will result in an error in the future\n",
        "  return np.random.multivariate_normal(self.mu, self.sig)\n"
       ]
      },
      {
       "output_type": "stream",
       "stream": "stderr",
       "text": [
        "/home/ian/Grad/Research/Disks/Starfish/Starfish/emulator.py:480: DeprecationWarning: using a non-integer number instead of an integer will result in an error in the future\n",
        "  return np.random.multivariate_normal(self.mu, self.sig)\n",
        "/home/ian/Grad/Research/Disks/Starfish/Starfish/emulator.py:480: DeprecationWarning: using a non-integer number instead of an integer will result in an error in the future\n",
        "  return np.random.multivariate_normal(self.mu, self.sig)\n",
        "/home/ian/Grad/Research/Disks/Starfish/Starfish/emulator.py:480: DeprecationWarning: using a non-integer number instead of an integer will result in an error in the future\n",
        "  return np.random.multivariate_normal(self.mu, self.sig)\n"
       ]
      },
      {
       "output_type": "stream",
       "stream": "stderr",
       "text": [
        "/home/ian/Grad/Research/Disks/Starfish/Starfish/emulator.py:480: DeprecationWarning: using a non-integer number instead of an integer will result in an error in the future\n",
        "  return np.random.multivariate_normal(self.mu, self.sig)\n",
        "/home/ian/Grad/Research/Disks/Starfish/Starfish/emulator.py:480: DeprecationWarning: using a non-integer number instead of an integer will result in an error in the future\n",
        "  return np.random.multivariate_normal(self.mu, self.sig)\n",
        "/home/ian/Grad/Research/Disks/Starfish/Starfish/emulator.py:480: DeprecationWarning: using a non-integer number instead of an integer will result in an error in the future\n",
        "  return np.random.multivariate_normal(self.mu, self.sig)\n"
       ]
      },
      {
       "output_type": "stream",
       "stream": "stderr",
       "text": [
        "/home/ian/Grad/Research/Disks/Starfish/Starfish/emulator.py:480: DeprecationWarning: using a non-integer number instead of an integer will result in an error in the future\n",
        "  return np.random.multivariate_normal(self.mu, self.sig)\n",
        "/home/ian/Grad/Research/Disks/Starfish/Starfish/emulator.py:480: DeprecationWarning: using a non-integer number instead of an integer will result in an error in the future\n",
        "  return np.random.multivariate_normal(self.mu, self.sig)\n"
       ]
      },
      {
       "output_type": "stream",
       "stream": "stderr",
       "text": [
        "/home/ian/Grad/Research/Disks/Starfish/Starfish/emulator.py:480: DeprecationWarning: using a non-integer number instead of an integer will result in an error in the future\n",
        "  return np.random.multivariate_normal(self.mu, self.sig)\n",
        "/home/ian/Grad/Research/Disks/Starfish/Starfish/emulator.py:480: DeprecationWarning: using a non-integer number instead of an integer will result in an error in the future\n",
        "  return np.random.multivariate_normal(self.mu, self.sig)\n",
        "/home/ian/Grad/Research/Disks/Starfish/Starfish/emulator.py:480: DeprecationWarning: using a non-integer number instead of an integer will result in an error in the future\n",
        "  return np.random.multivariate_normal(self.mu, self.sig)\n"
       ]
      },
      {
       "output_type": "stream",
       "stream": "stderr",
       "text": [
        "/home/ian/Grad/Research/Disks/Starfish/Starfish/emulator.py:480: DeprecationWarning: using a non-integer number instead of an integer will result in an error in the future\n",
        "  return np.random.multivariate_normal(self.mu, self.sig)\n",
        "/home/ian/Grad/Research/Disks/Starfish/Starfish/emulator.py:480: DeprecationWarning: using a non-integer number instead of an integer will result in an error in the future\n",
        "  return np.random.multivariate_normal(self.mu, self.sig)\n"
       ]
      },
      {
       "output_type": "stream",
       "stream": "stderr",
       "text": [
        "/home/ian/Grad/Research/Disks/Starfish/Starfish/emulator.py:480: DeprecationWarning: using a non-integer number instead of an integer will result in an error in the future\n",
        "  return np.random.multivariate_normal(self.mu, self.sig)\n",
        "/home/ian/Grad/Research/Disks/Starfish/Starfish/emulator.py:480: DeprecationWarning: using a non-integer number instead of an integer will result in an error in the future\n",
        "  return np.random.multivariate_normal(self.mu, self.sig)\n",
        "/home/ian/Grad/Research/Disks/Starfish/Starfish/emulator.py:480: DeprecationWarning: using a non-integer number instead of an integer will result in an error in the future\n",
        "  return np.random.multivariate_normal(self.mu, self.sig)\n"
       ]
      },
      {
       "output_type": "stream",
       "stream": "stderr",
       "text": [
        "/home/ian/Grad/Research/Disks/Starfish/Starfish/emulator.py:480: DeprecationWarning: using a non-integer number instead of an integer will result in an error in the future\n",
        "  return np.random.multivariate_normal(self.mu, self.sig)\n",
        "/home/ian/Grad/Research/Disks/Starfish/Starfish/emulator.py:480: DeprecationWarning: using a non-integer number instead of an integer will result in an error in the future\n",
        "  return np.random.multivariate_normal(self.mu, self.sig)\n"
       ]
      },
      {
       "output_type": "stream",
       "stream": "stderr",
       "text": [
        "/home/ian/Grad/Research/Disks/Starfish/Starfish/emulator.py:480: DeprecationWarning: using a non-integer number instead of an integer will result in an error in the future\n",
        "  return np.random.multivariate_normal(self.mu, self.sig)\n",
        "/home/ian/Grad/Research/Disks/Starfish/Starfish/emulator.py:480: DeprecationWarning: using a non-integer number instead of an integer will result in an error in the future\n",
        "  return np.random.multivariate_normal(self.mu, self.sig)\n",
        "/home/ian/Grad/Research/Disks/Starfish/Starfish/emulator.py:480: DeprecationWarning: using a non-integer number instead of an integer will result in an error in the future\n",
        "  return np.random.multivariate_normal(self.mu, self.sig)\n"
       ]
      },
      {
       "output_type": "stream",
       "stream": "stderr",
       "text": [
        "/home/ian/Grad/Research/Disks/Starfish/Starfish/emulator.py:480: DeprecationWarning: using a non-integer number instead of an integer will result in an error in the future\n",
        "  return np.random.multivariate_normal(self.mu, self.sig)\n",
        "/home/ian/Grad/Research/Disks/Starfish/Starfish/emulator.py:480: DeprecationWarning: using a non-integer number instead of an integer will result in an error in the future\n",
        "  return np.random.multivariate_normal(self.mu, self.sig)\n"
       ]
      },
      {
       "output_type": "stream",
       "stream": "stderr",
       "text": [
        "/home/ian/Grad/Research/Disks/Starfish/Starfish/emulator.py:480: DeprecationWarning: using a non-integer number instead of an integer will result in an error in the future\n",
        "  return np.random.multivariate_normal(self.mu, self.sig)\n",
        "/home/ian/Grad/Research/Disks/Starfish/Starfish/emulator.py:480: DeprecationWarning: using a non-integer number instead of an integer will result in an error in the future\n",
        "  return np.random.multivariate_normal(self.mu, self.sig)\n",
        "/home/ian/Grad/Research/Disks/Starfish/Starfish/emulator.py:480: DeprecationWarning: using a non-integer number instead of an integer will result in an error in the future\n",
        "  return np.random.multivariate_normal(self.mu, self.sig)\n"
       ]
      },
      {
       "output_type": "stream",
       "stream": "stderr",
       "text": [
        "/home/ian/Grad/Research/Disks/Starfish/Starfish/emulator.py:480: DeprecationWarning: using a non-integer number instead of an integer will result in an error in the future\n",
        "  return np.random.multivariate_normal(self.mu, self.sig)\n",
        "/home/ian/Grad/Research/Disks/Starfish/Starfish/emulator.py:480: DeprecationWarning: using a non-integer number instead of an integer will result in an error in the future\n",
        "  return np.random.multivariate_normal(self.mu, self.sig)\n"
       ]
      },
      {
       "output_type": "stream",
       "stream": "stderr",
       "text": [
        "/home/ian/Grad/Research/Disks/Starfish/Starfish/emulator.py:480: DeprecationWarning: using a non-integer number instead of an integer will result in an error in the future\n",
        "  return np.random.multivariate_normal(self.mu, self.sig)\n",
        "/home/ian/Grad/Research/Disks/Starfish/Starfish/emulator.py:480: DeprecationWarning: using a non-integer number instead of an integer will result in an error in the future\n",
        "  return np.random.multivariate_normal(self.mu, self.sig)\n",
        "/home/ian/Grad/Research/Disks/Starfish/Starfish/emulator.py:480: DeprecationWarning: using a non-integer number instead of an integer will result in an error in the future\n",
        "  return np.random.multivariate_normal(self.mu, self.sig)\n"
       ]
      },
      {
       "output_type": "stream",
       "stream": "stderr",
       "text": [
        "/home/ian/Grad/Research/Disks/Starfish/Starfish/emulator.py:480: DeprecationWarning: using a non-integer number instead of an integer will result in an error in the future\n",
        "  return np.random.multivariate_normal(self.mu, self.sig)\n",
        "/home/ian/Grad/Research/Disks/Starfish/Starfish/emulator.py:480: DeprecationWarning: using a non-integer number instead of an integer will result in an error in the future\n",
        "  return np.random.multivariate_normal(self.mu, self.sig)\n"
       ]
      },
      {
       "output_type": "stream",
       "stream": "stderr",
       "text": [
        "/home/ian/Grad/Research/Disks/Starfish/Starfish/emulator.py:480: DeprecationWarning: using a non-integer number instead of an integer will result in an error in the future\n",
        "  return np.random.multivariate_normal(self.mu, self.sig)\n",
        "/home/ian/Grad/Research/Disks/Starfish/Starfish/emulator.py:480: DeprecationWarning: using a non-integer number instead of an integer will result in an error in the future\n",
        "  return np.random.multivariate_normal(self.mu, self.sig)\n",
        "/home/ian/Grad/Research/Disks/Starfish/Starfish/emulator.py:480: DeprecationWarning: using a non-integer number instead of an integer will result in an error in the future\n",
        "  return np.random.multivariate_normal(self.mu, self.sig)\n"
       ]
      },
      {
       "output_type": "stream",
       "stream": "stderr",
       "text": [
        "/home/ian/Grad/Research/Disks/Starfish/Starfish/emulator.py:480: DeprecationWarning: using a non-integer number instead of an integer will result in an error in the future\n",
        "  return np.random.multivariate_normal(self.mu, self.sig)\n",
        "/home/ian/Grad/Research/Disks/Starfish/Starfish/emulator.py:480: DeprecationWarning: using a non-integer number instead of an integer will result in an error in the future\n",
        "  return np.random.multivariate_normal(self.mu, self.sig)\n"
       ]
      },
      {
       "output_type": "stream",
       "stream": "stderr",
       "text": [
        "/home/ian/Grad/Research/Disks/Starfish/Starfish/emulator.py:480: DeprecationWarning: using a non-integer number instead of an integer will result in an error in the future\n",
        "  return np.random.multivariate_normal(self.mu, self.sig)\n",
        "/home/ian/Grad/Research/Disks/Starfish/Starfish/emulator.py:480: DeprecationWarning: using a non-integer number instead of an integer will result in an error in the future\n",
        "  return np.random.multivariate_normal(self.mu, self.sig)\n"
       ]
      },
      {
       "output_type": "stream",
       "stream": "stderr",
       "text": [
        "/home/ian/Grad/Research/Disks/Starfish/Starfish/emulator.py:480: DeprecationWarning: using a non-integer number instead of an integer will result in an error in the future\n",
        "  return np.random.multivariate_normal(self.mu, self.sig)\n",
        "/home/ian/Grad/Research/Disks/Starfish/Starfish/emulator.py:480: DeprecationWarning: using a non-integer number instead of an integer will result in an error in the future\n",
        "  return np.random.multivariate_normal(self.mu, self.sig)\n",
        "/home/ian/Grad/Research/Disks/Starfish/Starfish/emulator.py:480: DeprecationWarning: using a non-integer number instead of an integer will result in an error in the future\n",
        "  return np.random.multivariate_normal(self.mu, self.sig)\n"
       ]
      },
      {
       "output_type": "stream",
       "stream": "stderr",
       "text": [
        "/home/ian/Grad/Research/Disks/Starfish/Starfish/emulator.py:480: DeprecationWarning: using a non-integer number instead of an integer will result in an error in the future\n",
        "  return np.random.multivariate_normal(self.mu, self.sig)\n",
        "/home/ian/Grad/Research/Disks/Starfish/Starfish/emulator.py:480: DeprecationWarning: using a non-integer number instead of an integer will result in an error in the future\n",
        "  return np.random.multivariate_normal(self.mu, self.sig)\n",
        "/home/ian/Grad/Research/Disks/Starfish/Starfish/emulator.py:480: DeprecationWarning: using a non-integer number instead of an integer will result in an error in the future\n",
        "  return np.random.multivariate_normal(self.mu, self.sig)\n"
       ]
      },
      {
       "output_type": "stream",
       "stream": "stderr",
       "text": [
        "/home/ian/Grad/Research/Disks/Starfish/Starfish/emulator.py:480: DeprecationWarning: using a non-integer number instead of an integer will result in an error in the future\n",
        "  return np.random.multivariate_normal(self.mu, self.sig)\n",
        "/home/ian/Grad/Research/Disks/Starfish/Starfish/emulator.py:480: DeprecationWarning: using a non-integer number instead of an integer will result in an error in the future\n",
        "  return np.random.multivariate_normal(self.mu, self.sig)\n"
       ]
      },
      {
       "output_type": "stream",
       "stream": "stderr",
       "text": [
        "/home/ian/Grad/Research/Disks/Starfish/Starfish/emulator.py:480: DeprecationWarning: using a non-integer number instead of an integer will result in an error in the future\n",
        "  return np.random.multivariate_normal(self.mu, self.sig)\n",
        "/home/ian/Grad/Research/Disks/Starfish/Starfish/emulator.py:480: DeprecationWarning: using a non-integer number instead of an integer will result in an error in the future\n",
        "  return np.random.multivariate_normal(self.mu, self.sig)\n",
        "/home/ian/Grad/Research/Disks/Starfish/Starfish/emulator.py:480: DeprecationWarning: using a non-integer number instead of an integer will result in an error in the future\n",
        "  return np.random.multivariate_normal(self.mu, self.sig)\n"
       ]
      },
      {
       "output_type": "stream",
       "stream": "stderr",
       "text": [
        "/home/ian/Grad/Research/Disks/Starfish/Starfish/emulator.py:480: DeprecationWarning: using a non-integer number instead of an integer will result in an error in the future\n",
        "  return np.random.multivariate_normal(self.mu, self.sig)\n",
        "/home/ian/Grad/Research/Disks/Starfish/Starfish/emulator.py:480: DeprecationWarning: using a non-integer number instead of an integer will result in an error in the future\n",
        "  return np.random.multivariate_normal(self.mu, self.sig)\n"
       ]
      },
      {
       "output_type": "stream",
       "stream": "stderr",
       "text": [
        "/home/ian/Grad/Research/Disks/Starfish/Starfish/emulator.py:480: DeprecationWarning: using a non-integer number instead of an integer will result in an error in the future\n",
        "  return np.random.multivariate_normal(self.mu, self.sig)\n",
        "/home/ian/Grad/Research/Disks/Starfish/Starfish/emulator.py:480: DeprecationWarning: using a non-integer number instead of an integer will result in an error in the future\n",
        "  return np.random.multivariate_normal(self.mu, self.sig)\n",
        "/home/ian/Grad/Research/Disks/Starfish/Starfish/emulator.py:480: DeprecationWarning: using a non-integer number instead of an integer will result in an error in the future\n",
        "  return np.random.multivariate_normal(self.mu, self.sig)\n"
       ]
      },
      {
       "output_type": "stream",
       "stream": "stderr",
       "text": [
        "/home/ian/Grad/Research/Disks/Starfish/Starfish/emulator.py:480: DeprecationWarning: using a non-integer number instead of an integer will result in an error in the future\n",
        "  return np.random.multivariate_normal(self.mu, self.sig)\n",
        "/home/ian/Grad/Research/Disks/Starfish/Starfish/emulator.py:480: DeprecationWarning: using a non-integer number instead of an integer will result in an error in the future\n",
        "  return np.random.multivariate_normal(self.mu, self.sig)\n"
       ]
      },
      {
       "output_type": "stream",
       "stream": "stderr",
       "text": [
        "/home/ian/Grad/Research/Disks/Starfish/Starfish/emulator.py:480: DeprecationWarning: using a non-integer number instead of an integer will result in an error in the future\n",
        "  return np.random.multivariate_normal(self.mu, self.sig)\n",
        "/home/ian/Grad/Research/Disks/Starfish/Starfish/emulator.py:480: DeprecationWarning: using a non-integer number instead of an integer will result in an error in the future\n",
        "  return np.random.multivariate_normal(self.mu, self.sig)\n",
        "/home/ian/Grad/Research/Disks/Starfish/Starfish/emulator.py:480: DeprecationWarning: using a non-integer number instead of an integer will result in an error in the future\n",
        "  return np.random.multivariate_normal(self.mu, self.sig)\n"
       ]
      },
      {
       "output_type": "stream",
       "stream": "stderr",
       "text": [
        "/home/ian/Grad/Research/Disks/Starfish/Starfish/emulator.py:480: DeprecationWarning: using a non-integer number instead of an integer will result in an error in the future\n",
        "  return np.random.multivariate_normal(self.mu, self.sig)\n",
        "/home/ian/Grad/Research/Disks/Starfish/Starfish/emulator.py:480: DeprecationWarning: using a non-integer number instead of an integer will result in an error in the future\n",
        "  return np.random.multivariate_normal(self.mu, self.sig)\n"
       ]
      },
      {
       "output_type": "stream",
       "stream": "stderr",
       "text": [
        "/home/ian/Grad/Research/Disks/Starfish/Starfish/emulator.py:480: DeprecationWarning: using a non-integer number instead of an integer will result in an error in the future\n",
        "  return np.random.multivariate_normal(self.mu, self.sig)\n",
        "/home/ian/Grad/Research/Disks/Starfish/Starfish/emulator.py:480: DeprecationWarning: using a non-integer number instead of an integer will result in an error in the future\n",
        "  return np.random.multivariate_normal(self.mu, self.sig)\n",
        "/home/ian/Grad/Research/Disks/Starfish/Starfish/emulator.py:480: DeprecationWarning: using a non-integer number instead of an integer will result in an error in the future\n",
        "  return np.random.multivariate_normal(self.mu, self.sig)\n"
       ]
      },
      {
       "output_type": "stream",
       "stream": "stderr",
       "text": [
        "/home/ian/Grad/Research/Disks/Starfish/Starfish/emulator.py:480: DeprecationWarning: using a non-integer number instead of an integer will result in an error in the future\n",
        "  return np.random.multivariate_normal(self.mu, self.sig)\n",
        "/home/ian/Grad/Research/Disks/Starfish/Starfish/emulator.py:480: DeprecationWarning: using a non-integer number instead of an integer will result in an error in the future\n",
        "  return np.random.multivariate_normal(self.mu, self.sig)\n"
       ]
      },
      {
       "output_type": "stream",
       "stream": "stderr",
       "text": [
        "/home/ian/Grad/Research/Disks/Starfish/Starfish/emulator.py:480: DeprecationWarning: using a non-integer number instead of an integer will result in an error in the future\n",
        "  return np.random.multivariate_normal(self.mu, self.sig)\n",
        "/home/ian/Grad/Research/Disks/Starfish/Starfish/emulator.py:480: DeprecationWarning: using a non-integer number instead of an integer will result in an error in the future\n",
        "  return np.random.multivariate_normal(self.mu, self.sig)\n"
       ]
      },
      {
       "output_type": "stream",
       "stream": "stderr",
       "text": [
        "/home/ian/Grad/Research/Disks/Starfish/Starfish/emulator.py:480: DeprecationWarning: using a non-integer number instead of an integer will result in an error in the future\n",
        "  return np.random.multivariate_normal(self.mu, self.sig)\n",
        "/home/ian/Grad/Research/Disks/Starfish/Starfish/emulator.py:480: DeprecationWarning: using a non-integer number instead of an integer will result in an error in the future\n",
        "  return np.random.multivariate_normal(self.mu, self.sig)\n"
       ]
      },
      {
       "output_type": "stream",
       "stream": "stderr",
       "text": [
        "/home/ian/Grad/Research/Disks/Starfish/Starfish/emulator.py:480: DeprecationWarning: using a non-integer number instead of an integer will result in an error in the future\n",
        "  return np.random.multivariate_normal(self.mu, self.sig)\n",
        "/home/ian/Grad/Research/Disks/Starfish/Starfish/emulator.py:480: DeprecationWarning: using a non-integer number instead of an integer will result in an error in the future\n",
        "  return np.random.multivariate_normal(self.mu, self.sig)\n"
       ]
      },
      {
       "output_type": "stream",
       "stream": "stderr",
       "text": [
        "/home/ian/Grad/Research/Disks/Starfish/Starfish/emulator.py:480: DeprecationWarning: using a non-integer number instead of an integer will result in an error in the future\n",
        "  return np.random.multivariate_normal(self.mu, self.sig)\n",
        "/home/ian/Grad/Research/Disks/Starfish/Starfish/emulator.py:480: DeprecationWarning: using a non-integer number instead of an integer will result in an error in the future\n",
        "  return np.random.multivariate_normal(self.mu, self.sig)\n"
       ]
      },
      {
       "output_type": "stream",
       "stream": "stderr",
       "text": [
        "/home/ian/Grad/Research/Disks/Starfish/Starfish/emulator.py:480: DeprecationWarning: using a non-integer number instead of an integer will result in an error in the future\n",
        "  return np.random.multivariate_normal(self.mu, self.sig)\n",
        "/home/ian/Grad/Research/Disks/Starfish/Starfish/emulator.py:480: DeprecationWarning: using a non-integer number instead of an integer will result in an error in the future\n",
        "  return np.random.multivariate_normal(self.mu, self.sig)\n"
       ]
      },
      {
       "output_type": "stream",
       "stream": "stderr",
       "text": [
        "/home/ian/Grad/Research/Disks/Starfish/Starfish/emulator.py:480: DeprecationWarning: using a non-integer number instead of an integer will result in an error in the future\n",
        "  return np.random.multivariate_normal(self.mu, self.sig)\n",
        "/home/ian/Grad/Research/Disks/Starfish/Starfish/emulator.py:480: DeprecationWarning: using a non-integer number instead of an integer will result in an error in the future\n",
        "  return np.random.multivariate_normal(self.mu, self.sig)\n",
        "/home/ian/Grad/Research/Disks/Starfish/Starfish/emulator.py:480: DeprecationWarning: using a non-integer number instead of an integer will result in an error in the future\n",
        "  return np.random.multivariate_normal(self.mu, self.sig)\n"
       ]
      },
      {
       "output_type": "stream",
       "stream": "stderr",
       "text": [
        "/home/ian/Grad/Research/Disks/Starfish/Starfish/emulator.py:480: DeprecationWarning: using a non-integer number instead of an integer will result in an error in the future\n",
        "  return np.random.multivariate_normal(self.mu, self.sig)\n",
        "/home/ian/Grad/Research/Disks/Starfish/Starfish/emulator.py:480: DeprecationWarning: using a non-integer number instead of an integer will result in an error in the future\n",
        "  return np.random.multivariate_normal(self.mu, self.sig)\n"
       ]
      },
      {
       "output_type": "stream",
       "stream": "stderr",
       "text": [
        "/home/ian/Grad/Research/Disks/Starfish/Starfish/emulator.py:480: DeprecationWarning: using a non-integer number instead of an integer will result in an error in the future\n",
        "  return np.random.multivariate_normal(self.mu, self.sig)\n",
        "/home/ian/Grad/Research/Disks/Starfish/Starfish/emulator.py:480: DeprecationWarning: using a non-integer number instead of an integer will result in an error in the future\n",
        "  return np.random.multivariate_normal(self.mu, self.sig)\n",
        "/home/ian/Grad/Research/Disks/Starfish/Starfish/emulator.py:480: DeprecationWarning: using a non-integer number instead of an integer will result in an error in the future\n",
        "  return np.random.multivariate_normal(self.mu, self.sig)\n"
       ]
      },
      {
       "output_type": "stream",
       "stream": "stderr",
       "text": [
        "/home/ian/Grad/Research/Disks/Starfish/Starfish/emulator.py:480: DeprecationWarning: using a non-integer number instead of an integer will result in an error in the future\n",
        "  return np.random.multivariate_normal(self.mu, self.sig)\n",
        "/home/ian/Grad/Research/Disks/Starfish/Starfish/emulator.py:480: DeprecationWarning: using a non-integer number instead of an integer will result in an error in the future\n",
        "  return np.random.multivariate_normal(self.mu, self.sig)\n"
       ]
      },
      {
       "output_type": "stream",
       "stream": "stderr",
       "text": [
        "/home/ian/Grad/Research/Disks/Starfish/Starfish/emulator.py:480: DeprecationWarning: using a non-integer number instead of an integer will result in an error in the future\n",
        "  return np.random.multivariate_normal(self.mu, self.sig)\n",
        "/home/ian/Grad/Research/Disks/Starfish/Starfish/emulator.py:480: DeprecationWarning: using a non-integer number instead of an integer will result in an error in the future\n",
        "  return np.random.multivariate_normal(self.mu, self.sig)\n",
        "/home/ian/Grad/Research/Disks/Starfish/Starfish/emulator.py:480: DeprecationWarning: using a non-integer number instead of an integer will result in an error in the future\n",
        "  return np.random.multivariate_normal(self.mu, self.sig)\n"
       ]
      },
      {
       "output_type": "stream",
       "stream": "stderr",
       "text": [
        "/home/ian/Grad/Research/Disks/Starfish/Starfish/emulator.py:480: DeprecationWarning: using a non-integer number instead of an integer will result in an error in the future\n",
        "  return np.random.multivariate_normal(self.mu, self.sig)\n",
        "/home/ian/Grad/Research/Disks/Starfish/Starfish/emulator.py:480: DeprecationWarning: using a non-integer number instead of an integer will result in an error in the future\n",
        "  return np.random.multivariate_normal(self.mu, self.sig)\n"
       ]
      },
      {
       "output_type": "stream",
       "stream": "stderr",
       "text": [
        "/home/ian/Grad/Research/Disks/Starfish/Starfish/emulator.py:480: DeprecationWarning: using a non-integer number instead of an integer will result in an error in the future\n",
        "  return np.random.multivariate_normal(self.mu, self.sig)\n",
        "/home/ian/Grad/Research/Disks/Starfish/Starfish/emulator.py:480: DeprecationWarning: using a non-integer number instead of an integer will result in an error in the future\n",
        "  return np.random.multivariate_normal(self.mu, self.sig)\n",
        "/home/ian/Grad/Research/Disks/Starfish/Starfish/emulator.py:480: DeprecationWarning: using a non-integer number instead of an integer will result in an error in the future\n",
        "  return np.random.multivariate_normal(self.mu, self.sig)\n"
       ]
      },
      {
       "output_type": "stream",
       "stream": "stderr",
       "text": [
        "/home/ian/Grad/Research/Disks/Starfish/Starfish/emulator.py:480: DeprecationWarning: using a non-integer number instead of an integer will result in an error in the future\n",
        "  return np.random.multivariate_normal(self.mu, self.sig)\n",
        "/home/ian/Grad/Research/Disks/Starfish/Starfish/emulator.py:480: DeprecationWarning: using a non-integer number instead of an integer will result in an error in the future\n",
        "  return np.random.multivariate_normal(self.mu, self.sig)\n"
       ]
      },
      {
       "output_type": "stream",
       "stream": "stderr",
       "text": [
        "/home/ian/Grad/Research/Disks/Starfish/Starfish/emulator.py:480: DeprecationWarning: using a non-integer number instead of an integer will result in an error in the future\n",
        "  return np.random.multivariate_normal(self.mu, self.sig)\n",
        "/home/ian/Grad/Research/Disks/Starfish/Starfish/emulator.py:480: DeprecationWarning: using a non-integer number instead of an integer will result in an error in the future\n",
        "  return np.random.multivariate_normal(self.mu, self.sig)\n"
       ]
      },
      {
       "output_type": "stream",
       "stream": "stderr",
       "text": [
        "/home/ian/Grad/Research/Disks/Starfish/Starfish/emulator.py:480: DeprecationWarning: using a non-integer number instead of an integer will result in an error in the future\n",
        "  return np.random.multivariate_normal(self.mu, self.sig)\n",
        "/home/ian/Grad/Research/Disks/Starfish/Starfish/emulator.py:480: DeprecationWarning: using a non-integer number instead of an integer will result in an error in the future\n",
        "  return np.random.multivariate_normal(self.mu, self.sig)\n"
       ]
      },
      {
       "output_type": "stream",
       "stream": "stderr",
       "text": [
        "/home/ian/Grad/Research/Disks/Starfish/Starfish/emulator.py:480: DeprecationWarning: using a non-integer number instead of an integer will result in an error in the future\n",
        "  return np.random.multivariate_normal(self.mu, self.sig)\n",
        "/home/ian/Grad/Research/Disks/Starfish/Starfish/emulator.py:480: DeprecationWarning: using a non-integer number instead of an integer will result in an error in the future\n",
        "  return np.random.multivariate_normal(self.mu, self.sig)\n"
       ]
      },
      {
       "output_type": "stream",
       "stream": "stderr",
       "text": [
        "/home/ian/Grad/Research/Disks/Starfish/Starfish/emulator.py:480: DeprecationWarning: using a non-integer number instead of an integer will result in an error in the future\n",
        "  return np.random.multivariate_normal(self.mu, self.sig)\n",
        "/home/ian/Grad/Research/Disks/Starfish/Starfish/emulator.py:480: DeprecationWarning: using a non-integer number instead of an integer will result in an error in the future\n",
        "  return np.random.multivariate_normal(self.mu, self.sig)\n"
       ]
      },
      {
       "output_type": "stream",
       "stream": "stderr",
       "text": [
        "/home/ian/Grad/Research/Disks/Starfish/Starfish/emulator.py:480: DeprecationWarning: using a non-integer number instead of an integer will result in an error in the future\n",
        "  return np.random.multivariate_normal(self.mu, self.sig)\n",
        "/home/ian/Grad/Research/Disks/Starfish/Starfish/emulator.py:480: DeprecationWarning: using a non-integer number instead of an integer will result in an error in the future\n",
        "  return np.random.multivariate_normal(self.mu, self.sig)\n"
       ]
      },
      {
       "output_type": "stream",
       "stream": "stderr",
       "text": [
        "/home/ian/Grad/Research/Disks/Starfish/Starfish/emulator.py:480: DeprecationWarning: using a non-integer number instead of an integer will result in an error in the future\n",
        "  return np.random.multivariate_normal(self.mu, self.sig)\n",
        "/home/ian/Grad/Research/Disks/Starfish/Starfish/emulator.py:480: DeprecationWarning: using a non-integer number instead of an integer will result in an error in the future\n",
        "  return np.random.multivariate_normal(self.mu, self.sig)\n"
       ]
      },
      {
       "output_type": "stream",
       "stream": "stderr",
       "text": [
        "/home/ian/Grad/Research/Disks/Starfish/Starfish/emulator.py:480: DeprecationWarning: using a non-integer number instead of an integer will result in an error in the future\n",
        "  return np.random.multivariate_normal(self.mu, self.sig)\n",
        "/home/ian/Grad/Research/Disks/Starfish/Starfish/emulator.py:480: DeprecationWarning: using a non-integer number instead of an integer will result in an error in the future\n",
        "  return np.random.multivariate_normal(self.mu, self.sig)\n"
       ]
      },
      {
       "output_type": "stream",
       "stream": "stderr",
       "text": [
        "/home/ian/Grad/Research/Disks/Starfish/Starfish/emulator.py:480: DeprecationWarning: using a non-integer number instead of an integer will result in an error in the future\n",
        "  return np.random.multivariate_normal(self.mu, self.sig)\n",
        "/home/ian/Grad/Research/Disks/Starfish/Starfish/emulator.py:480: DeprecationWarning: using a non-integer number instead of an integer will result in an error in the future\n",
        "  return np.random.multivariate_normal(self.mu, self.sig)\n"
       ]
      },
      {
       "output_type": "stream",
       "stream": "stderr",
       "text": [
        "/home/ian/Grad/Research/Disks/Starfish/Starfish/emulator.py:480: DeprecationWarning: using a non-integer number instead of an integer will result in an error in the future\n",
        "  return np.random.multivariate_normal(self.mu, self.sig)\n",
        "/home/ian/Grad/Research/Disks/Starfish/Starfish/emulator.py:480: DeprecationWarning: using a non-integer number instead of an integer will result in an error in the future\n",
        "  return np.random.multivariate_normal(self.mu, self.sig)\n"
       ]
      },
      {
       "output_type": "stream",
       "stream": "stderr",
       "text": [
        "/home/ian/Grad/Research/Disks/Starfish/Starfish/emulator.py:480: DeprecationWarning: using a non-integer number instead of an integer will result in an error in the future\n",
        "  return np.random.multivariate_normal(self.mu, self.sig)\n",
        "/home/ian/Grad/Research/Disks/Starfish/Starfish/emulator.py:480: DeprecationWarning: using a non-integer number instead of an integer will result in an error in the future\n",
        "  return np.random.multivariate_normal(self.mu, self.sig)\n"
       ]
      },
      {
       "output_type": "stream",
       "stream": "stderr",
       "text": [
        "/home/ian/Grad/Research/Disks/Starfish/Starfish/emulator.py:480: DeprecationWarning: using a non-integer number instead of an integer will result in an error in the future\n",
        "  return np.random.multivariate_normal(self.mu, self.sig)\n",
        "/home/ian/Grad/Research/Disks/Starfish/Starfish/emulator.py:480: DeprecationWarning: using a non-integer number instead of an integer will result in an error in the future\n",
        "  return np.random.multivariate_normal(self.mu, self.sig)\n"
       ]
      },
      {
       "output_type": "stream",
       "stream": "stderr",
       "text": [
        "/home/ian/Grad/Research/Disks/Starfish/Starfish/emulator.py:480: DeprecationWarning: using a non-integer number instead of an integer will result in an error in the future\n",
        "  return np.random.multivariate_normal(self.mu, self.sig)\n",
        "/home/ian/Grad/Research/Disks/Starfish/Starfish/emulator.py:480: DeprecationWarning: using a non-integer number instead of an integer will result in an error in the future\n",
        "  return np.random.multivariate_normal(self.mu, self.sig)\n"
       ]
      },
      {
       "output_type": "stream",
       "stream": "stderr",
       "text": [
        "/home/ian/Grad/Research/Disks/Starfish/Starfish/emulator.py:480: DeprecationWarning: using a non-integer number instead of an integer will result in an error in the future\n",
        "  return np.random.multivariate_normal(self.mu, self.sig)\n",
        "/home/ian/Grad/Research/Disks/Starfish/Starfish/emulator.py:480: DeprecationWarning: using a non-integer number instead of an integer will result in an error in the future\n",
        "  return np.random.multivariate_normal(self.mu, self.sig)\n"
       ]
      },
      {
       "output_type": "stream",
       "stream": "stderr",
       "text": [
        "/home/ian/Grad/Research/Disks/Starfish/Starfish/emulator.py:480: DeprecationWarning: using a non-integer number instead of an integer will result in an error in the future\n",
        "  return np.random.multivariate_normal(self.mu, self.sig)\n",
        "/home/ian/Grad/Research/Disks/Starfish/Starfish/emulator.py:480: DeprecationWarning: using a non-integer number instead of an integer will result in an error in the future\n",
        "  return np.random.multivariate_normal(self.mu, self.sig)\n"
       ]
      },
      {
       "output_type": "stream",
       "stream": "stderr",
       "text": [
        "/home/ian/Grad/Research/Disks/Starfish/Starfish/emulator.py:480: DeprecationWarning: using a non-integer number instead of an integer will result in an error in the future\n",
        "  return np.random.multivariate_normal(self.mu, self.sig)\n",
        "/home/ian/Grad/Research/Disks/Starfish/Starfish/emulator.py:480: DeprecationWarning: using a non-integer number instead of an integer will result in an error in the future\n",
        "  return np.random.multivariate_normal(self.mu, self.sig)\n"
       ]
      },
      {
       "output_type": "stream",
       "stream": "stderr",
       "text": [
        "/home/ian/Grad/Research/Disks/Starfish/Starfish/emulator.py:480: DeprecationWarning: using a non-integer number instead of an integer will result in an error in the future\n",
        "  return np.random.multivariate_normal(self.mu, self.sig)\n",
        "/home/ian/Grad/Research/Disks/Starfish/Starfish/emulator.py:480: DeprecationWarning: using a non-integer number instead of an integer will result in an error in the future\n",
        "  return np.random.multivariate_normal(self.mu, self.sig)\n"
       ]
      },
      {
       "output_type": "stream",
       "stream": "stderr",
       "text": [
        "/home/ian/Grad/Research/Disks/Starfish/Starfish/emulator.py:480: DeprecationWarning: using a non-integer number instead of an integer will result in an error in the future\n",
        "  return np.random.multivariate_normal(self.mu, self.sig)\n",
        "/home/ian/Grad/Research/Disks/Starfish/Starfish/emulator.py:480: DeprecationWarning: using a non-integer number instead of an integer will result in an error in the future\n",
        "  return np.random.multivariate_normal(self.mu, self.sig)\n"
       ]
      },
      {
       "output_type": "stream",
       "stream": "stderr",
       "text": [
        "/home/ian/Grad/Research/Disks/Starfish/Starfish/emulator.py:480: DeprecationWarning: using a non-integer number instead of an integer will result in an error in the future\n",
        "  return np.random.multivariate_normal(self.mu, self.sig)\n",
        "/home/ian/Grad/Research/Disks/Starfish/Starfish/emulator.py:480: DeprecationWarning: using a non-integer number instead of an integer will result in an error in the future\n",
        "  return np.random.multivariate_normal(self.mu, self.sig)\n"
       ]
      },
      {
       "output_type": "stream",
       "stream": "stderr",
       "text": [
        "/home/ian/Grad/Research/Disks/Starfish/Starfish/emulator.py:480: DeprecationWarning: using a non-integer number instead of an integer will result in an error in the future\n",
        "  return np.random.multivariate_normal(self.mu, self.sig)\n",
        "/home/ian/Grad/Research/Disks/Starfish/Starfish/emulator.py:480: DeprecationWarning: using a non-integer number instead of an integer will result in an error in the future\n",
        "  return np.random.multivariate_normal(self.mu, self.sig)\n"
       ]
      },
      {
       "output_type": "stream",
       "stream": "stderr",
       "text": [
        "/home/ian/Grad/Research/Disks/Starfish/Starfish/emulator.py:480: DeprecationWarning: using a non-integer number instead of an integer will result in an error in the future\n",
        "  return np.random.multivariate_normal(self.mu, self.sig)\n",
        "/home/ian/Grad/Research/Disks/Starfish/Starfish/emulator.py:480: DeprecationWarning: using a non-integer number instead of an integer will result in an error in the future\n",
        "  return np.random.multivariate_normal(self.mu, self.sig)\n"
       ]
      },
      {
       "output_type": "stream",
       "stream": "stderr",
       "text": [
        "/home/ian/Grad/Research/Disks/Starfish/Starfish/emulator.py:480: DeprecationWarning: using a non-integer number instead of an integer will result in an error in the future\n",
        "  return np.random.multivariate_normal(self.mu, self.sig)\n",
        "/home/ian/Grad/Research/Disks/Starfish/Starfish/emulator.py:480: DeprecationWarning: using a non-integer number instead of an integer will result in an error in the future\n",
        "  return np.random.multivariate_normal(self.mu, self.sig)\n"
       ]
      },
      {
       "output_type": "stream",
       "stream": "stderr",
       "text": [
        "/home/ian/Grad/Research/Disks/Starfish/Starfish/emulator.py:480: DeprecationWarning: using a non-integer number instead of an integer will result in an error in the future\n",
        "  return np.random.multivariate_normal(self.mu, self.sig)\n",
        "/home/ian/Grad/Research/Disks/Starfish/Starfish/emulator.py:480: DeprecationWarning: using a non-integer number instead of an integer will result in an error in the future\n",
        "  return np.random.multivariate_normal(self.mu, self.sig)\n"
       ]
      },
      {
       "output_type": "stream",
       "stream": "stderr",
       "text": [
        "/home/ian/Grad/Research/Disks/Starfish/Starfish/emulator.py:480: DeprecationWarning: using a non-integer number instead of an integer will result in an error in the future\n",
        "  return np.random.multivariate_normal(self.mu, self.sig)\n",
        "/home/ian/Grad/Research/Disks/Starfish/Starfish/emulator.py:480: DeprecationWarning: using a non-integer number instead of an integer will result in an error in the future\n",
        "  return np.random.multivariate_normal(self.mu, self.sig)\n"
       ]
      },
      {
       "output_type": "stream",
       "stream": "stderr",
       "text": [
        "/home/ian/Grad/Research/Disks/Starfish/Starfish/emulator.py:480: DeprecationWarning: using a non-integer number instead of an integer will result in an error in the future\n",
        "  return np.random.multivariate_normal(self.mu, self.sig)\n",
        "/home/ian/Grad/Research/Disks/Starfish/Starfish/emulator.py:480: DeprecationWarning: using a non-integer number instead of an integer will result in an error in the future\n",
        "  return np.random.multivariate_normal(self.mu, self.sig)\n"
       ]
      },
      {
       "output_type": "stream",
       "stream": "stderr",
       "text": [
        "/home/ian/Grad/Research/Disks/Starfish/Starfish/emulator.py:480: DeprecationWarning: using a non-integer number instead of an integer will result in an error in the future\n",
        "  return np.random.multivariate_normal(self.mu, self.sig)\n",
        "/home/ian/Grad/Research/Disks/Starfish/Starfish/emulator.py:480: DeprecationWarning: using a non-integer number instead of an integer will result in an error in the future\n",
        "  return np.random.multivariate_normal(self.mu, self.sig)\n"
       ]
      },
      {
       "output_type": "stream",
       "stream": "stderr",
       "text": [
        "/home/ian/Grad/Research/Disks/Starfish/Starfish/emulator.py:480: DeprecationWarning: using a non-integer number instead of an integer will result in an error in the future\n",
        "  return np.random.multivariate_normal(self.mu, self.sig)\n",
        "/home/ian/Grad/Research/Disks/Starfish/Starfish/emulator.py:480: DeprecationWarning: using a non-integer number instead of an integer will result in an error in the future\n",
        "  return np.random.multivariate_normal(self.mu, self.sig)\n"
       ]
      },
      {
       "output_type": "stream",
       "stream": "stderr",
       "text": [
        "/home/ian/Grad/Research/Disks/Starfish/Starfish/emulator.py:480: DeprecationWarning: using a non-integer number instead of an integer will result in an error in the future\n",
        "  return np.random.multivariate_normal(self.mu, self.sig)\n",
        "/home/ian/Grad/Research/Disks/Starfish/Starfish/emulator.py:480: DeprecationWarning: using a non-integer number instead of an integer will result in an error in the future\n",
        "  return np.random.multivariate_normal(self.mu, self.sig)\n"
       ]
      },
      {
       "output_type": "stream",
       "stream": "stderr",
       "text": [
        "/home/ian/Grad/Research/Disks/Starfish/Starfish/emulator.py:480: DeprecationWarning: using a non-integer number instead of an integer will result in an error in the future\n",
        "  return np.random.multivariate_normal(self.mu, self.sig)\n",
        "/home/ian/Grad/Research/Disks/Starfish/Starfish/emulator.py:480: DeprecationWarning: using a non-integer number instead of an integer will result in an error in the future\n",
        "  return np.random.multivariate_normal(self.mu, self.sig)\n"
       ]
      },
      {
       "output_type": "stream",
       "stream": "stderr",
       "text": [
        "/home/ian/Grad/Research/Disks/Starfish/Starfish/emulator.py:480: DeprecationWarning: using a non-integer number instead of an integer will result in an error in the future\n",
        "  return np.random.multivariate_normal(self.mu, self.sig)\n",
        "/home/ian/Grad/Research/Disks/Starfish/Starfish/emulator.py:480: DeprecationWarning: using a non-integer number instead of an integer will result in an error in the future\n",
        "  return np.random.multivariate_normal(self.mu, self.sig)\n"
       ]
      },
      {
       "output_type": "stream",
       "stream": "stderr",
       "text": [
        "/home/ian/Grad/Research/Disks/Starfish/Starfish/emulator.py:480: DeprecationWarning: using a non-integer number instead of an integer will result in an error in the future\n",
        "  return np.random.multivariate_normal(self.mu, self.sig)\n",
        "/home/ian/Grad/Research/Disks/Starfish/Starfish/emulator.py:480: DeprecationWarning: using a non-integer number instead of an integer will result in an error in the future\n",
        "  return np.random.multivariate_normal(self.mu, self.sig)\n"
       ]
      },
      {
       "output_type": "stream",
       "stream": "stderr",
       "text": [
        "/home/ian/Grad/Research/Disks/Starfish/Starfish/emulator.py:480: DeprecationWarning: using a non-integer number instead of an integer will result in an error in the future\n",
        "  return np.random.multivariate_normal(self.mu, self.sig)\n",
        "/home/ian/Grad/Research/Disks/Starfish/Starfish/emulator.py:480: DeprecationWarning: using a non-integer number instead of an integer will result in an error in the future\n",
        "  return np.random.multivariate_normal(self.mu, self.sig)\n"
       ]
      },
      {
       "output_type": "stream",
       "stream": "stderr",
       "text": [
        "/home/ian/Grad/Research/Disks/Starfish/Starfish/emulator.py:480: DeprecationWarning: using a non-integer number instead of an integer will result in an error in the future\n",
        "  return np.random.multivariate_normal(self.mu, self.sig)\n",
        "/home/ian/Grad/Research/Disks/Starfish/Starfish/emulator.py:480: DeprecationWarning: using a non-integer number instead of an integer will result in an error in the future\n",
        "  return np.random.multivariate_normal(self.mu, self.sig)\n"
       ]
      },
      {
       "output_type": "stream",
       "stream": "stderr",
       "text": [
        "/home/ian/Grad/Research/Disks/Starfish/Starfish/emulator.py:480: DeprecationWarning: using a non-integer number instead of an integer will result in an error in the future\n",
        "  return np.random.multivariate_normal(self.mu, self.sig)\n",
        "/home/ian/Grad/Research/Disks/Starfish/Starfish/emulator.py:480: DeprecationWarning: using a non-integer number instead of an integer will result in an error in the future\n",
        "  return np.random.multivariate_normal(self.mu, self.sig)\n"
       ]
      },
      {
       "output_type": "stream",
       "stream": "stderr",
       "text": [
        "/home/ian/Grad/Research/Disks/Starfish/Starfish/emulator.py:480: DeprecationWarning: using a non-integer number instead of an integer will result in an error in the future\n",
        "  return np.random.multivariate_normal(self.mu, self.sig)\n",
        "/home/ian/Grad/Research/Disks/Starfish/Starfish/emulator.py:480: DeprecationWarning: using a non-integer number instead of an integer will result in an error in the future\n",
        "  return np.random.multivariate_normal(self.mu, self.sig)\n"
       ]
      },
      {
       "output_type": "stream",
       "stream": "stderr",
       "text": [
        "/home/ian/Grad/Research/Disks/Starfish/Starfish/emulator.py:480: DeprecationWarning: using a non-integer number instead of an integer will result in an error in the future\n",
        "  return np.random.multivariate_normal(self.mu, self.sig)\n",
        "/home/ian/Grad/Research/Disks/Starfish/Starfish/emulator.py:480: DeprecationWarning: using a non-integer number instead of an integer will result in an error in the future\n",
        "  return np.random.multivariate_normal(self.mu, self.sig)\n"
       ]
      },
      {
       "output_type": "stream",
       "stream": "stderr",
       "text": [
        "/home/ian/Grad/Research/Disks/Starfish/Starfish/emulator.py:480: DeprecationWarning: using a non-integer number instead of an integer will result in an error in the future\n",
        "  return np.random.multivariate_normal(self.mu, self.sig)\n",
        "/home/ian/Grad/Research/Disks/Starfish/Starfish/emulator.py:480: DeprecationWarning: using a non-integer number instead of an integer will result in an error in the future\n",
        "  return np.random.multivariate_normal(self.mu, self.sig)\n"
       ]
      },
      {
       "output_type": "stream",
       "stream": "stderr",
       "text": [
        "/home/ian/Grad/Research/Disks/Starfish/Starfish/emulator.py:480: DeprecationWarning: using a non-integer number instead of an integer will result in an error in the future\n",
        "  return np.random.multivariate_normal(self.mu, self.sig)\n",
        "/home/ian/Grad/Research/Disks/Starfish/Starfish/emulator.py:480: DeprecationWarning: using a non-integer number instead of an integer will result in an error in the future\n",
        "  return np.random.multivariate_normal(self.mu, self.sig)\n"
       ]
      },
      {
       "output_type": "stream",
       "stream": "stderr",
       "text": [
        "/home/ian/Grad/Research/Disks/Starfish/Starfish/emulator.py:480: DeprecationWarning: using a non-integer number instead of an integer will result in an error in the future\n",
        "  return np.random.multivariate_normal(self.mu, self.sig)\n",
        "/home/ian/Grad/Research/Disks/Starfish/Starfish/emulator.py:480: DeprecationWarning: using a non-integer number instead of an integer will result in an error in the future\n",
        "  return np.random.multivariate_normal(self.mu, self.sig)\n"
       ]
      },
      {
       "output_type": "stream",
       "stream": "stderr",
       "text": [
        "/home/ian/Grad/Research/Disks/Starfish/Starfish/emulator.py:480: DeprecationWarning: using a non-integer number instead of an integer will result in an error in the future\n",
        "  return np.random.multivariate_normal(self.mu, self.sig)\n",
        "/home/ian/Grad/Research/Disks/Starfish/Starfish/emulator.py:480: DeprecationWarning: using a non-integer number instead of an integer will result in an error in the future\n",
        "  return np.random.multivariate_normal(self.mu, self.sig)\n"
       ]
      },
      {
       "output_type": "stream",
       "stream": "stderr",
       "text": [
        "/home/ian/Grad/Research/Disks/Starfish/Starfish/emulator.py:480: DeprecationWarning: using a non-integer number instead of an integer will result in an error in the future\n",
        "  return np.random.multivariate_normal(self.mu, self.sig)\n",
        "/home/ian/Grad/Research/Disks/Starfish/Starfish/emulator.py:480: DeprecationWarning: using a non-integer number instead of an integer will result in an error in the future\n",
        "  return np.random.multivariate_normal(self.mu, self.sig)\n"
       ]
      },
      {
       "output_type": "stream",
       "stream": "stderr",
       "text": [
        "/home/ian/Grad/Research/Disks/Starfish/Starfish/emulator.py:480: DeprecationWarning: using a non-integer number instead of an integer will result in an error in the future\n",
        "  return np.random.multivariate_normal(self.mu, self.sig)\n",
        "/home/ian/Grad/Research/Disks/Starfish/Starfish/emulator.py:480: DeprecationWarning: using a non-integer number instead of an integer will result in an error in the future\n",
        "  return np.random.multivariate_normal(self.mu, self.sig)\n"
       ]
      },
      {
       "output_type": "stream",
       "stream": "stderr",
       "text": [
        "/home/ian/Grad/Research/Disks/Starfish/Starfish/emulator.py:480: DeprecationWarning: using a non-integer number instead of an integer will result in an error in the future\n",
        "  return np.random.multivariate_normal(self.mu, self.sig)\n",
        "/home/ian/Grad/Research/Disks/Starfish/Starfish/emulator.py:480: DeprecationWarning: using a non-integer number instead of an integer will result in an error in the future\n",
        "  return np.random.multivariate_normal(self.mu, self.sig)\n"
       ]
      },
      {
       "output_type": "stream",
       "stream": "stderr",
       "text": [
        "/home/ian/Grad/Research/Disks/Starfish/Starfish/emulator.py:480: DeprecationWarning: using a non-integer number instead of an integer will result in an error in the future\n",
        "  return np.random.multivariate_normal(self.mu, self.sig)\n",
        "/home/ian/Grad/Research/Disks/Starfish/Starfish/emulator.py:480: DeprecationWarning: using a non-integer number instead of an integer will result in an error in the future\n",
        "  return np.random.multivariate_normal(self.mu, self.sig)\n"
       ]
      },
      {
       "output_type": "stream",
       "stream": "stderr",
       "text": [
        "/home/ian/Grad/Research/Disks/Starfish/Starfish/emulator.py:480: DeprecationWarning: using a non-integer number instead of an integer will result in an error in the future\n",
        "  return np.random.multivariate_normal(self.mu, self.sig)\n",
        "/home/ian/Grad/Research/Disks/Starfish/Starfish/emulator.py:480: DeprecationWarning: using a non-integer number instead of an integer will result in an error in the future\n",
        "  return np.random.multivariate_normal(self.mu, self.sig)\n"
       ]
      },
      {
       "output_type": "stream",
       "stream": "stderr",
       "text": [
        "/home/ian/Grad/Research/Disks/Starfish/Starfish/emulator.py:480: DeprecationWarning: using a non-integer number instead of an integer will result in an error in the future\n",
        "  return np.random.multivariate_normal(self.mu, self.sig)\n",
        "/home/ian/Grad/Research/Disks/Starfish/Starfish/emulator.py:480: DeprecationWarning: using a non-integer number instead of an integer will result in an error in the future\n",
        "  return np.random.multivariate_normal(self.mu, self.sig)\n"
       ]
      },
      {
       "output_type": "stream",
       "stream": "stderr",
       "text": [
        "/home/ian/Grad/Research/Disks/Starfish/Starfish/emulator.py:480: DeprecationWarning: using a non-integer number instead of an integer will result in an error in the future\n",
        "  return np.random.multivariate_normal(self.mu, self.sig)\n",
        "/home/ian/Grad/Research/Disks/Starfish/Starfish/emulator.py:480: DeprecationWarning: using a non-integer number instead of an integer will result in an error in the future\n",
        "  return np.random.multivariate_normal(self.mu, self.sig)\n"
       ]
      },
      {
       "output_type": "stream",
       "stream": "stderr",
       "text": [
        "/home/ian/Grad/Research/Disks/Starfish/Starfish/emulator.py:480: DeprecationWarning: using a non-integer number instead of an integer will result in an error in the future\n",
        "  return np.random.multivariate_normal(self.mu, self.sig)\n",
        "/home/ian/Grad/Research/Disks/Starfish/Starfish/emulator.py:480: DeprecationWarning: using a non-integer number instead of an integer will result in an error in the future\n",
        "  return np.random.multivariate_normal(self.mu, self.sig)\n"
       ]
      },
      {
       "output_type": "stream",
       "stream": "stderr",
       "text": [
        "/home/ian/Grad/Research/Disks/Starfish/Starfish/emulator.py:480: DeprecationWarning: using a non-integer number instead of an integer will result in an error in the future\n",
        "  return np.random.multivariate_normal(self.mu, self.sig)\n",
        "/home/ian/Grad/Research/Disks/Starfish/Starfish/emulator.py:480: DeprecationWarning: using a non-integer number instead of an integer will result in an error in the future\n",
        "  return np.random.multivariate_normal(self.mu, self.sig)\n"
       ]
      },
      {
       "output_type": "stream",
       "stream": "stderr",
       "text": [
        "/home/ian/Grad/Research/Disks/Starfish/Starfish/emulator.py:480: DeprecationWarning: using a non-integer number instead of an integer will result in an error in the future\n",
        "  return np.random.multivariate_normal(self.mu, self.sig)\n",
        "/home/ian/Grad/Research/Disks/Starfish/Starfish/emulator.py:480: DeprecationWarning: using a non-integer number instead of an integer will result in an error in the future\n",
        "  return np.random.multivariate_normal(self.mu, self.sig)\n"
       ]
      },
      {
       "output_type": "stream",
       "stream": "stderr",
       "text": [
        "/home/ian/Grad/Research/Disks/Starfish/Starfish/emulator.py:480: DeprecationWarning: using a non-integer number instead of an integer will result in an error in the future\n",
        "  return np.random.multivariate_normal(self.mu, self.sig)\n",
        "/home/ian/Grad/Research/Disks/Starfish/Starfish/emulator.py:480: DeprecationWarning: using a non-integer number instead of an integer will result in an error in the future\n",
        "  return np.random.multivariate_normal(self.mu, self.sig)\n"
       ]
      },
      {
       "output_type": "stream",
       "stream": "stderr",
       "text": [
        "/home/ian/Grad/Research/Disks/Starfish/Starfish/emulator.py:480: DeprecationWarning: using a non-integer number instead of an integer will result in an error in the future\n",
        "  return np.random.multivariate_normal(self.mu, self.sig)\n",
        "/home/ian/Grad/Research/Disks/Starfish/Starfish/emulator.py:480: DeprecationWarning: using a non-integer number instead of an integer will result in an error in the future\n",
        "  return np.random.multivariate_normal(self.mu, self.sig)\n"
       ]
      },
      {
       "output_type": "stream",
       "stream": "stderr",
       "text": [
        "/home/ian/Grad/Research/Disks/Starfish/Starfish/emulator.py:480: DeprecationWarning: using a non-integer number instead of an integer will result in an error in the future\n",
        "  return np.random.multivariate_normal(self.mu, self.sig)\n",
        "/home/ian/Grad/Research/Disks/Starfish/Starfish/emulator.py:480: DeprecationWarning: using a non-integer number instead of an integer will result in an error in the future\n",
        "  return np.random.multivariate_normal(self.mu, self.sig)\n"
       ]
      },
      {
       "output_type": "stream",
       "stream": "stderr",
       "text": [
        "/home/ian/Grad/Research/Disks/Starfish/Starfish/emulator.py:480: DeprecationWarning: using a non-integer number instead of an integer will result in an error in the future\n",
        "  return np.random.multivariate_normal(self.mu, self.sig)\n",
        "/home/ian/Grad/Research/Disks/Starfish/Starfish/emulator.py:480: DeprecationWarning: using a non-integer number instead of an integer will result in an error in the future\n",
        "  return np.random.multivariate_normal(self.mu, self.sig)\n"
       ]
      },
      {
       "output_type": "stream",
       "stream": "stderr",
       "text": [
        "/home/ian/Grad/Research/Disks/Starfish/Starfish/emulator.py:480: DeprecationWarning: using a non-integer number instead of an integer will result in an error in the future\n",
        "  return np.random.multivariate_normal(self.mu, self.sig)\n",
        "/home/ian/Grad/Research/Disks/Starfish/Starfish/emulator.py:480: DeprecationWarning: using a non-integer number instead of an integer will result in an error in the future\n",
        "  return np.random.multivariate_normal(self.mu, self.sig)\n"
       ]
      },
      {
       "output_type": "stream",
       "stream": "stderr",
       "text": [
        "/home/ian/Grad/Research/Disks/Starfish/Starfish/emulator.py:480: DeprecationWarning: using a non-integer number instead of an integer will result in an error in the future\n",
        "  return np.random.multivariate_normal(self.mu, self.sig)\n",
        "/home/ian/Grad/Research/Disks/Starfish/Starfish/emulator.py:480: DeprecationWarning: using a non-integer number instead of an integer will result in an error in the future\n",
        "  return np.random.multivariate_normal(self.mu, self.sig)\n"
       ]
      },
      {
       "output_type": "stream",
       "stream": "stderr",
       "text": [
        "/home/ian/Grad/Research/Disks/Starfish/Starfish/emulator.py:480: DeprecationWarning: using a non-integer number instead of an integer will result in an error in the future\n",
        "  return np.random.multivariate_normal(self.mu, self.sig)\n",
        "/home/ian/Grad/Research/Disks/Starfish/Starfish/emulator.py:480: DeprecationWarning: using a non-integer number instead of an integer will result in an error in the future\n",
        "  return np.random.multivariate_normal(self.mu, self.sig)\n"
       ]
      },
      {
       "output_type": "stream",
       "stream": "stderr",
       "text": [
        "/home/ian/Grad/Research/Disks/Starfish/Starfish/emulator.py:480: DeprecationWarning: using a non-integer number instead of an integer will result in an error in the future\n",
        "  return np.random.multivariate_normal(self.mu, self.sig)\n",
        "/home/ian/Grad/Research/Disks/Starfish/Starfish/emulator.py:480: DeprecationWarning: using a non-integer number instead of an integer will result in an error in the future\n",
        "  return np.random.multivariate_normal(self.mu, self.sig)\n"
       ]
      },
      {
       "output_type": "stream",
       "stream": "stderr",
       "text": [
        "/home/ian/Grad/Research/Disks/Starfish/Starfish/emulator.py:480: DeprecationWarning: using a non-integer number instead of an integer will result in an error in the future\n",
        "  return np.random.multivariate_normal(self.mu, self.sig)\n",
        "/home/ian/Grad/Research/Disks/Starfish/Starfish/emulator.py:480: DeprecationWarning: using a non-integer number instead of an integer will result in an error in the future\n",
        "  return np.random.multivariate_normal(self.mu, self.sig)\n"
       ]
      },
      {
       "output_type": "stream",
       "stream": "stderr",
       "text": [
        "/home/ian/Grad/Research/Disks/Starfish/Starfish/emulator.py:480: DeprecationWarning: using a non-integer number instead of an integer will result in an error in the future\n",
        "  return np.random.multivariate_normal(self.mu, self.sig)\n",
        "/home/ian/Grad/Research/Disks/Starfish/Starfish/emulator.py:480: DeprecationWarning: using a non-integer number instead of an integer will result in an error in the future\n",
        "  return np.random.multivariate_normal(self.mu, self.sig)\n"
       ]
      },
      {
       "output_type": "stream",
       "stream": "stderr",
       "text": [
        "/home/ian/Grad/Research/Disks/Starfish/Starfish/emulator.py:480: DeprecationWarning: using a non-integer number instead of an integer will result in an error in the future\n",
        "  return np.random.multivariate_normal(self.mu, self.sig)\n",
        "/home/ian/Grad/Research/Disks/Starfish/Starfish/emulator.py:480: DeprecationWarning: using a non-integer number instead of an integer will result in an error in the future\n",
        "  return np.random.multivariate_normal(self.mu, self.sig)\n"
       ]
      },
      {
       "output_type": "stream",
       "stream": "stderr",
       "text": [
        "/home/ian/Grad/Research/Disks/Starfish/Starfish/emulator.py:480: DeprecationWarning: using a non-integer number instead of an integer will result in an error in the future\n",
        "  return np.random.multivariate_normal(self.mu, self.sig)\n",
        "/home/ian/Grad/Research/Disks/Starfish/Starfish/emulator.py:480: DeprecationWarning: using a non-integer number instead of an integer will result in an error in the future\n",
        "  return np.random.multivariate_normal(self.mu, self.sig)\n"
       ]
      },
      {
       "output_type": "stream",
       "stream": "stderr",
       "text": [
        "/home/ian/Grad/Research/Disks/Starfish/Starfish/emulator.py:480: DeprecationWarning: using a non-integer number instead of an integer will result in an error in the future\n",
        "  return np.random.multivariate_normal(self.mu, self.sig)\n",
        "/home/ian/Grad/Research/Disks/Starfish/Starfish/emulator.py:480: DeprecationWarning: using a non-integer number instead of an integer will result in an error in the future\n",
        "  return np.random.multivariate_normal(self.mu, self.sig)\n"
       ]
      },
      {
       "output_type": "stream",
       "stream": "stderr",
       "text": [
        "/home/ian/Grad/Research/Disks/Starfish/Starfish/emulator.py:480: DeprecationWarning: using a non-integer number instead of an integer will result in an error in the future\n",
        "  return np.random.multivariate_normal(self.mu, self.sig)\n",
        "/home/ian/Grad/Research/Disks/Starfish/Starfish/emulator.py:480: DeprecationWarning: using a non-integer number instead of an integer will result in an error in the future\n",
        "  return np.random.multivariate_normal(self.mu, self.sig)\n"
       ]
      },
      {
       "output_type": "stream",
       "stream": "stderr",
       "text": [
        "/home/ian/Grad/Research/Disks/Starfish/Starfish/emulator.py:480: DeprecationWarning: using a non-integer number instead of an integer will result in an error in the future\n",
        "  return np.random.multivariate_normal(self.mu, self.sig)\n",
        "/home/ian/Grad/Research/Disks/Starfish/Starfish/emulator.py:480: DeprecationWarning: using a non-integer number instead of an integer will result in an error in the future\n",
        "  return np.random.multivariate_normal(self.mu, self.sig)\n"
       ]
      },
      {
       "output_type": "stream",
       "stream": "stderr",
       "text": [
        "/home/ian/Grad/Research/Disks/Starfish/Starfish/emulator.py:480: DeprecationWarning: using a non-integer number instead of an integer will result in an error in the future\n",
        "  return np.random.multivariate_normal(self.mu, self.sig)\n",
        "/home/ian/Grad/Research/Disks/Starfish/Starfish/emulator.py:480: DeprecationWarning: using a non-integer number instead of an integer will result in an error in the future\n",
        "  return np.random.multivariate_normal(self.mu, self.sig)\n"
       ]
      },
      {
       "output_type": "stream",
       "stream": "stderr",
       "text": [
        "/home/ian/Grad/Research/Disks/Starfish/Starfish/emulator.py:480: DeprecationWarning: using a non-integer number instead of an integer will result in an error in the future\n",
        "  return np.random.multivariate_normal(self.mu, self.sig)\n",
        "/home/ian/Grad/Research/Disks/Starfish/Starfish/emulator.py:480: DeprecationWarning: using a non-integer number instead of an integer will result in an error in the future\n",
        "  return np.random.multivariate_normal(self.mu, self.sig)\n"
       ]
      },
      {
       "output_type": "stream",
       "stream": "stderr",
       "text": [
        "/home/ian/Grad/Research/Disks/Starfish/Starfish/emulator.py:480: DeprecationWarning: using a non-integer number instead of an integer will result in an error in the future\n",
        "  return np.random.multivariate_normal(self.mu, self.sig)\n",
        "/home/ian/Grad/Research/Disks/Starfish/Starfish/emulator.py:480: DeprecationWarning: using a non-integer number instead of an integer will result in an error in the future\n",
        "  return np.random.multivariate_normal(self.mu, self.sig)\n"
       ]
      },
      {
       "output_type": "stream",
       "stream": "stderr",
       "text": [
        "/home/ian/Grad/Research/Disks/Starfish/Starfish/emulator.py:480: DeprecationWarning: using a non-integer number instead of an integer will result in an error in the future\n",
        "  return np.random.multivariate_normal(self.mu, self.sig)\n",
        "/home/ian/Grad/Research/Disks/Starfish/Starfish/emulator.py:480: DeprecationWarning: using a non-integer number instead of an integer will result in an error in the future\n",
        "  return np.random.multivariate_normal(self.mu, self.sig)\n"
       ]
      },
      {
       "output_type": "stream",
       "stream": "stderr",
       "text": [
        "/home/ian/Grad/Research/Disks/Starfish/Starfish/emulator.py:480: DeprecationWarning: using a non-integer number instead of an integer will result in an error in the future\n",
        "  return np.random.multivariate_normal(self.mu, self.sig)\n",
        "/home/ian/Grad/Research/Disks/Starfish/Starfish/emulator.py:480: DeprecationWarning: using a non-integer number instead of an integer will result in an error in the future\n",
        "  return np.random.multivariate_normal(self.mu, self.sig)\n"
       ]
      },
      {
       "output_type": "stream",
       "stream": "stderr",
       "text": [
        "/home/ian/Grad/Research/Disks/Starfish/Starfish/emulator.py:480: DeprecationWarning: using a non-integer number instead of an integer will result in an error in the future\n",
        "  return np.random.multivariate_normal(self.mu, self.sig)\n",
        "/home/ian/Grad/Research/Disks/Starfish/Starfish/emulator.py:480: DeprecationWarning: using a non-integer number instead of an integer will result in an error in the future\n",
        "  return np.random.multivariate_normal(self.mu, self.sig)\n"
       ]
      },
      {
       "output_type": "stream",
       "stream": "stderr",
       "text": [
        "/home/ian/Grad/Research/Disks/Starfish/Starfish/emulator.py:480: DeprecationWarning: using a non-integer number instead of an integer will result in an error in the future\n",
        "  return np.random.multivariate_normal(self.mu, self.sig)\n",
        "/home/ian/Grad/Research/Disks/Starfish/Starfish/emulator.py:480: DeprecationWarning: using a non-integer number instead of an integer will result in an error in the future\n",
        "  return np.random.multivariate_normal(self.mu, self.sig)\n"
       ]
      },
      {
       "output_type": "stream",
       "stream": "stderr",
       "text": [
        "/home/ian/Grad/Research/Disks/Starfish/Starfish/emulator.py:480: DeprecationWarning: using a non-integer number instead of an integer will result in an error in the future\n",
        "  return np.random.multivariate_normal(self.mu, self.sig)\n",
        "/home/ian/Grad/Research/Disks/Starfish/Starfish/emulator.py:480: DeprecationWarning: using a non-integer number instead of an integer will result in an error in the future\n",
        "  return np.random.multivariate_normal(self.mu, self.sig)\n"
       ]
      },
      {
       "output_type": "stream",
       "stream": "stderr",
       "text": [
        "/home/ian/Grad/Research/Disks/Starfish/Starfish/emulator.py:480: DeprecationWarning: using a non-integer number instead of an integer will result in an error in the future\n",
        "  return np.random.multivariate_normal(self.mu, self.sig)\n",
        "/home/ian/Grad/Research/Disks/Starfish/Starfish/emulator.py:480: DeprecationWarning: using a non-integer number instead of an integer will result in an error in the future\n",
        "  return np.random.multivariate_normal(self.mu, self.sig)\n"
       ]
      },
      {
       "output_type": "stream",
       "stream": "stderr",
       "text": [
        "/home/ian/Grad/Research/Disks/Starfish/Starfish/emulator.py:480: DeprecationWarning: using a non-integer number instead of an integer will result in an error in the future\n",
        "  return np.random.multivariate_normal(self.mu, self.sig)\n",
        "/home/ian/Grad/Research/Disks/Starfish/Starfish/emulator.py:480: DeprecationWarning: using a non-integer number instead of an integer will result in an error in the future\n",
        "  return np.random.multivariate_normal(self.mu, self.sig)\n"
       ]
      },
      {
       "output_type": "stream",
       "stream": "stderr",
       "text": [
        "/home/ian/Grad/Research/Disks/Starfish/Starfish/emulator.py:480: DeprecationWarning: using a non-integer number instead of an integer will result in an error in the future\n",
        "  return np.random.multivariate_normal(self.mu, self.sig)\n",
        "/home/ian/Grad/Research/Disks/Starfish/Starfish/emulator.py:480: DeprecationWarning: using a non-integer number instead of an integer will result in an error in the future\n",
        "  return np.random.multivariate_normal(self.mu, self.sig)\n"
       ]
      },
      {
       "output_type": "stream",
       "stream": "stderr",
       "text": [
        "/home/ian/Grad/Research/Disks/Starfish/Starfish/emulator.py:480: DeprecationWarning: using a non-integer number instead of an integer will result in an error in the future\n",
        "  return np.random.multivariate_normal(self.mu, self.sig)\n",
        "/home/ian/Grad/Research/Disks/Starfish/Starfish/emulator.py:480: DeprecationWarning: using a non-integer number instead of an integer will result in an error in the future\n",
        "  return np.random.multivariate_normal(self.mu, self.sig)\n"
       ]
      },
      {
       "output_type": "stream",
       "stream": "stderr",
       "text": [
        "/home/ian/Grad/Research/Disks/Starfish/Starfish/emulator.py:480: DeprecationWarning: using a non-integer number instead of an integer will result in an error in the future\n",
        "  return np.random.multivariate_normal(self.mu, self.sig)\n",
        "/home/ian/Grad/Research/Disks/Starfish/Starfish/emulator.py:480: DeprecationWarning: using a non-integer number instead of an integer will result in an error in the future\n",
        "  return np.random.multivariate_normal(self.mu, self.sig)\n"
       ]
      },
      {
       "output_type": "stream",
       "stream": "stderr",
       "text": [
        "/home/ian/Grad/Research/Disks/Starfish/Starfish/emulator.py:480: DeprecationWarning: using a non-integer number instead of an integer will result in an error in the future\n",
        "  return np.random.multivariate_normal(self.mu, self.sig)\n",
        "/home/ian/Grad/Research/Disks/Starfish/Starfish/emulator.py:480: DeprecationWarning: using a non-integer number instead of an integer will result in an error in the future\n",
        "  return np.random.multivariate_normal(self.mu, self.sig)\n"
       ]
      },
      {
       "output_type": "stream",
       "stream": "stderr",
       "text": [
        "/home/ian/Grad/Research/Disks/Starfish/Starfish/emulator.py:480: DeprecationWarning: using a non-integer number instead of an integer will result in an error in the future\n",
        "  return np.random.multivariate_normal(self.mu, self.sig)\n",
        "/home/ian/Grad/Research/Disks/Starfish/Starfish/emulator.py:480: DeprecationWarning: using a non-integer number instead of an integer will result in an error in the future\n",
        "  return np.random.multivariate_normal(self.mu, self.sig)\n"
       ]
      },
      {
       "output_type": "stream",
       "stream": "stderr",
       "text": [
        "/home/ian/Grad/Research/Disks/Starfish/Starfish/emulator.py:480: DeprecationWarning: using a non-integer number instead of an integer will result in an error in the future\n",
        "  return np.random.multivariate_normal(self.mu, self.sig)\n",
        "/home/ian/Grad/Research/Disks/Starfish/Starfish/emulator.py:480: DeprecationWarning: using a non-integer number instead of an integer will result in an error in the future\n",
        "  return np.random.multivariate_normal(self.mu, self.sig)\n"
       ]
      },
      {
       "output_type": "stream",
       "stream": "stderr",
       "text": [
        "/home/ian/Grad/Research/Disks/Starfish/Starfish/emulator.py:480: DeprecationWarning: using a non-integer number instead of an integer will result in an error in the future\n",
        "  return np.random.multivariate_normal(self.mu, self.sig)\n",
        "/home/ian/Grad/Research/Disks/Starfish/Starfish/emulator.py:480: DeprecationWarning: using a non-integer number instead of an integer will result in an error in the future\n",
        "  return np.random.multivariate_normal(self.mu, self.sig)\n"
       ]
      },
      {
       "output_type": "stream",
       "stream": "stderr",
       "text": [
        "/home/ian/Grad/Research/Disks/Starfish/Starfish/emulator.py:480: DeprecationWarning: using a non-integer number instead of an integer will result in an error in the future\n",
        "  return np.random.multivariate_normal(self.mu, self.sig)\n",
        "/home/ian/Grad/Research/Disks/Starfish/Starfish/emulator.py:480: DeprecationWarning: using a non-integer number instead of an integer will result in an error in the future\n",
        "  return np.random.multivariate_normal(self.mu, self.sig)\n"
       ]
      },
      {
       "output_type": "stream",
       "stream": "stderr",
       "text": [
        "/home/ian/Grad/Research/Disks/Starfish/Starfish/emulator.py:480: DeprecationWarning: using a non-integer number instead of an integer will result in an error in the future\n",
        "  return np.random.multivariate_normal(self.mu, self.sig)\n",
        "/home/ian/Grad/Research/Disks/Starfish/Starfish/emulator.py:480: DeprecationWarning: using a non-integer number instead of an integer will result in an error in the future\n",
        "  return np.random.multivariate_normal(self.mu, self.sig)\n"
       ]
      },
      {
       "output_type": "stream",
       "stream": "stderr",
       "text": [
        "/home/ian/Grad/Research/Disks/Starfish/Starfish/emulator.py:480: DeprecationWarning: using a non-integer number instead of an integer will result in an error in the future\n",
        "  return np.random.multivariate_normal(self.mu, self.sig)\n",
        "/home/ian/Grad/Research/Disks/Starfish/Starfish/emulator.py:480: DeprecationWarning: using a non-integer number instead of an integer will result in an error in the future\n",
        "  return np.random.multivariate_normal(self.mu, self.sig)\n"
       ]
      },
      {
       "output_type": "stream",
       "stream": "stderr",
       "text": [
        "/home/ian/Grad/Research/Disks/Starfish/Starfish/emulator.py:480: DeprecationWarning: using a non-integer number instead of an integer will result in an error in the future\n",
        "  return np.random.multivariate_normal(self.mu, self.sig)\n",
        "/home/ian/Grad/Research/Disks/Starfish/Starfish/emulator.py:480: DeprecationWarning: using a non-integer number instead of an integer will result in an error in the future\n",
        "  return np.random.multivariate_normal(self.mu, self.sig)\n"
       ]
      },
      {
       "output_type": "stream",
       "stream": "stderr",
       "text": [
        "/home/ian/Grad/Research/Disks/Starfish/Starfish/emulator.py:480: DeprecationWarning: using a non-integer number instead of an integer will result in an error in the future\n",
        "  return np.random.multivariate_normal(self.mu, self.sig)\n",
        "/home/ian/Grad/Research/Disks/Starfish/Starfish/emulator.py:480: DeprecationWarning: using a non-integer number instead of an integer will result in an error in the future\n",
        "  return np.random.multivariate_normal(self.mu, self.sig)\n"
       ]
      },
      {
       "output_type": "stream",
       "stream": "stderr",
       "text": [
        "/home/ian/Grad/Research/Disks/Starfish/Starfish/emulator.py:480: DeprecationWarning: using a non-integer number instead of an integer will result in an error in the future\n",
        "  return np.random.multivariate_normal(self.mu, self.sig)\n",
        "/home/ian/Grad/Research/Disks/Starfish/Starfish/emulator.py:480: DeprecationWarning: using a non-integer number instead of an integer will result in an error in the future\n",
        "  return np.random.multivariate_normal(self.mu, self.sig)\n"
       ]
      },
      {
       "output_type": "stream",
       "stream": "stderr",
       "text": [
        "/home/ian/Grad/Research/Disks/Starfish/Starfish/emulator.py:480: DeprecationWarning: using a non-integer number instead of an integer will result in an error in the future\n",
        "  return np.random.multivariate_normal(self.mu, self.sig)\n",
        "/home/ian/Grad/Research/Disks/Starfish/Starfish/emulator.py:480: DeprecationWarning: using a non-integer number instead of an integer will result in an error in the future\n",
        "  return np.random.multivariate_normal(self.mu, self.sig)\n"
       ]
      },
      {
       "output_type": "stream",
       "stream": "stderr",
       "text": [
        "/home/ian/Grad/Research/Disks/Starfish/Starfish/emulator.py:480: DeprecationWarning: using a non-integer number instead of an integer will result in an error in the future\n",
        "  return np.random.multivariate_normal(self.mu, self.sig)\n",
        "/home/ian/Grad/Research/Disks/Starfish/Starfish/emulator.py:480: DeprecationWarning: using a non-integer number instead of an integer will result in an error in the future\n",
        "  return np.random.multivariate_normal(self.mu, self.sig)\n"
       ]
      },
      {
       "output_type": "stream",
       "stream": "stderr",
       "text": [
        "/home/ian/Grad/Research/Disks/Starfish/Starfish/emulator.py:480: DeprecationWarning: using a non-integer number instead of an integer will result in an error in the future\n",
        "  return np.random.multivariate_normal(self.mu, self.sig)\n",
        "/home/ian/Grad/Research/Disks/Starfish/Starfish/emulator.py:480: DeprecationWarning: using a non-integer number instead of an integer will result in an error in the future\n",
        "  return np.random.multivariate_normal(self.mu, self.sig)\n"
       ]
      },
      {
       "output_type": "stream",
       "stream": "stderr",
       "text": [
        "/home/ian/Grad/Research/Disks/Starfish/Starfish/emulator.py:480: DeprecationWarning: using a non-integer number instead of an integer will result in an error in the future\n",
        "  return np.random.multivariate_normal(self.mu, self.sig)\n",
        "/home/ian/Grad/Research/Disks/Starfish/Starfish/emulator.py:480: DeprecationWarning: using a non-integer number instead of an integer will result in an error in the future\n",
        "  return np.random.multivariate_normal(self.mu, self.sig)\n"
       ]
      },
      {
       "output_type": "stream",
       "stream": "stderr",
       "text": [
        "/home/ian/Grad/Research/Disks/Starfish/Starfish/emulator.py:480: DeprecationWarning: using a non-integer number instead of an integer will result in an error in the future\n",
        "  return np.random.multivariate_normal(self.mu, self.sig)\n",
        "/home/ian/Grad/Research/Disks/Starfish/Starfish/emulator.py:480: DeprecationWarning: using a non-integer number instead of an integer will result in an error in the future\n",
        "  return np.random.multivariate_normal(self.mu, self.sig)\n"
       ]
      },
      {
       "output_type": "stream",
       "stream": "stderr",
       "text": [
        "/home/ian/Grad/Research/Disks/Starfish/Starfish/emulator.py:480: DeprecationWarning: using a non-integer number instead of an integer will result in an error in the future\n",
        "  return np.random.multivariate_normal(self.mu, self.sig)\n",
        "/home/ian/Grad/Research/Disks/Starfish/Starfish/emulator.py:480: DeprecationWarning: using a non-integer number instead of an integer will result in an error in the future\n",
        "  return np.random.multivariate_normal(self.mu, self.sig)\n"
       ]
      },
      {
       "output_type": "stream",
       "stream": "stderr",
       "text": [
        "/home/ian/Grad/Research/Disks/Starfish/Starfish/emulator.py:480: DeprecationWarning: using a non-integer number instead of an integer will result in an error in the future\n",
        "  return np.random.multivariate_normal(self.mu, self.sig)\n",
        "/home/ian/Grad/Research/Disks/Starfish/Starfish/emulator.py:480: DeprecationWarning: using a non-integer number instead of an integer will result in an error in the future\n",
        "  return np.random.multivariate_normal(self.mu, self.sig)\n"
       ]
      },
      {
       "output_type": "stream",
       "stream": "stderr",
       "text": [
        "/home/ian/Grad/Research/Disks/Starfish/Starfish/emulator.py:480: DeprecationWarning: using a non-integer number instead of an integer will result in an error in the future\n",
        "  return np.random.multivariate_normal(self.mu, self.sig)\n",
        "/home/ian/Grad/Research/Disks/Starfish/Starfish/emulator.py:480: DeprecationWarning: using a non-integer number instead of an integer will result in an error in the future\n",
        "  return np.random.multivariate_normal(self.mu, self.sig)\n"
       ]
      },
      {
       "output_type": "stream",
       "stream": "stderr",
       "text": [
        "/home/ian/Grad/Research/Disks/Starfish/Starfish/emulator.py:480: DeprecationWarning: using a non-integer number instead of an integer will result in an error in the future\n",
        "  return np.random.multivariate_normal(self.mu, self.sig)\n",
        "/home/ian/Grad/Research/Disks/Starfish/Starfish/emulator.py:480: DeprecationWarning: using a non-integer number instead of an integer will result in an error in the future\n",
        "  return np.random.multivariate_normal(self.mu, self.sig)\n"
       ]
      },
      {
       "output_type": "stream",
       "stream": "stderr",
       "text": [
        "/home/ian/Grad/Research/Disks/Starfish/Starfish/emulator.py:480: DeprecationWarning: using a non-integer number instead of an integer will result in an error in the future\n",
        "  return np.random.multivariate_normal(self.mu, self.sig)\n",
        "/home/ian/Grad/Research/Disks/Starfish/Starfish/emulator.py:480: DeprecationWarning: using a non-integer number instead of an integer will result in an error in the future\n",
        "  return np.random.multivariate_normal(self.mu, self.sig)\n"
       ]
      },
      {
       "output_type": "stream",
       "stream": "stderr",
       "text": [
        "/home/ian/Grad/Research/Disks/Starfish/Starfish/emulator.py:480: DeprecationWarning: using a non-integer number instead of an integer will result in an error in the future\n",
        "  return np.random.multivariate_normal(self.mu, self.sig)\n",
        "/home/ian/Grad/Research/Disks/Starfish/Starfish/emulator.py:480: DeprecationWarning: using a non-integer number instead of an integer will result in an error in the future\n",
        "  return np.random.multivariate_normal(self.mu, self.sig)\n"
       ]
      },
      {
       "output_type": "stream",
       "stream": "stderr",
       "text": [
        "/home/ian/Grad/Research/Disks/Starfish/Starfish/emulator.py:480: DeprecationWarning: using a non-integer number instead of an integer will result in an error in the future\n",
        "  return np.random.multivariate_normal(self.mu, self.sig)\n",
        "/home/ian/Grad/Research/Disks/Starfish/Starfish/emulator.py:480: DeprecationWarning: using a non-integer number instead of an integer will result in an error in the future\n",
        "  return np.random.multivariate_normal(self.mu, self.sig)\n"
       ]
      },
      {
       "output_type": "stream",
       "stream": "stderr",
       "text": [
        "/home/ian/Grad/Research/Disks/Starfish/Starfish/emulator.py:480: DeprecationWarning: using a non-integer number instead of an integer will result in an error in the future\n",
        "  return np.random.multivariate_normal(self.mu, self.sig)\n",
        "/home/ian/Grad/Research/Disks/Starfish/Starfish/emulator.py:480: DeprecationWarning: using a non-integer number instead of an integer will result in an error in the future\n",
        "  return np.random.multivariate_normal(self.mu, self.sig)\n"
       ]
      },
      {
       "output_type": "stream",
       "stream": "stderr",
       "text": [
        "/home/ian/Grad/Research/Disks/Starfish/Starfish/emulator.py:480: DeprecationWarning: using a non-integer number instead of an integer will result in an error in the future\n",
        "  return np.random.multivariate_normal(self.mu, self.sig)\n",
        "/home/ian/Grad/Research/Disks/Starfish/Starfish/emulator.py:480: DeprecationWarning: using a non-integer number instead of an integer will result in an error in the future\n",
        "  return np.random.multivariate_normal(self.mu, self.sig)\n"
       ]
      },
      {
       "output_type": "stream",
       "stream": "stderr",
       "text": [
        "/home/ian/Grad/Research/Disks/Starfish/Starfish/emulator.py:480: DeprecationWarning: using a non-integer number instead of an integer will result in an error in the future\n",
        "  return np.random.multivariate_normal(self.mu, self.sig)\n",
        "/home/ian/Grad/Research/Disks/Starfish/Starfish/emulator.py:480: DeprecationWarning: using a non-integer number instead of an integer will result in an error in the future\n",
        "  return np.random.multivariate_normal(self.mu, self.sig)\n"
       ]
      },
      {
       "output_type": "stream",
       "stream": "stderr",
       "text": [
        "/home/ian/Grad/Research/Disks/Starfish/Starfish/emulator.py:480: DeprecationWarning: using a non-integer number instead of an integer will result in an error in the future\n",
        "  return np.random.multivariate_normal(self.mu, self.sig)\n",
        "/home/ian/Grad/Research/Disks/Starfish/Starfish/emulator.py:480: DeprecationWarning: using a non-integer number instead of an integer will result in an error in the future\n",
        "  return np.random.multivariate_normal(self.mu, self.sig)\n"
       ]
      },
      {
       "output_type": "stream",
       "stream": "stderr",
       "text": [
        "/home/ian/Grad/Research/Disks/Starfish/Starfish/emulator.py:480: DeprecationWarning: using a non-integer number instead of an integer will result in an error in the future\n",
        "  return np.random.multivariate_normal(self.mu, self.sig)\n",
        "/home/ian/Grad/Research/Disks/Starfish/Starfish/emulator.py:480: DeprecationWarning: using a non-integer number instead of an integer will result in an error in the future\n",
        "  return np.random.multivariate_normal(self.mu, self.sig)\n"
       ]
      },
      {
       "output_type": "stream",
       "stream": "stderr",
       "text": [
        "/home/ian/Grad/Research/Disks/Starfish/Starfish/emulator.py:480: DeprecationWarning: using a non-integer number instead of an integer will result in an error in the future\n",
        "  return np.random.multivariate_normal(self.mu, self.sig)\n",
        "/home/ian/Grad/Research/Disks/Starfish/Starfish/emulator.py:480: DeprecationWarning: using a non-integer number instead of an integer will result in an error in the future\n",
        "  return np.random.multivariate_normal(self.mu, self.sig)\n"
       ]
      },
      {
       "output_type": "stream",
       "stream": "stderr",
       "text": [
        "/home/ian/Grad/Research/Disks/Starfish/Starfish/emulator.py:480: DeprecationWarning: using a non-integer number instead of an integer will result in an error in the future\n",
        "  return np.random.multivariate_normal(self.mu, self.sig)\n",
        "/home/ian/Grad/Research/Disks/Starfish/Starfish/emulator.py:480: DeprecationWarning: using a non-integer number instead of an integer will result in an error in the future\n",
        "  return np.random.multivariate_normal(self.mu, self.sig)\n"
       ]
      },
      {
       "output_type": "stream",
       "stream": "stderr",
       "text": [
        "/home/ian/Grad/Research/Disks/Starfish/Starfish/emulator.py:480: DeprecationWarning: using a non-integer number instead of an integer will result in an error in the future\n",
        "  return np.random.multivariate_normal(self.mu, self.sig)\n",
        "/home/ian/Grad/Research/Disks/Starfish/Starfish/emulator.py:480: DeprecationWarning: using a non-integer number instead of an integer will result in an error in the future\n",
        "  return np.random.multivariate_normal(self.mu, self.sig)\n"
       ]
      },
      {
       "output_type": "stream",
       "stream": "stderr",
       "text": [
        "/home/ian/Grad/Research/Disks/Starfish/Starfish/emulator.py:480: DeprecationWarning: using a non-integer number instead of an integer will result in an error in the future\n",
        "  return np.random.multivariate_normal(self.mu, self.sig)\n",
        "/home/ian/Grad/Research/Disks/Starfish/Starfish/emulator.py:480: DeprecationWarning: using a non-integer number instead of an integer will result in an error in the future\n",
        "  return np.random.multivariate_normal(self.mu, self.sig)\n"
       ]
      },
      {
       "output_type": "stream",
       "stream": "stderr",
       "text": [
        "/home/ian/Grad/Research/Disks/Starfish/Starfish/emulator.py:480: DeprecationWarning: using a non-integer number instead of an integer will result in an error in the future\n",
        "  return np.random.multivariate_normal(self.mu, self.sig)\n",
        "/home/ian/Grad/Research/Disks/Starfish/Starfish/emulator.py:480: DeprecationWarning: using a non-integer number instead of an integer will result in an error in the future\n",
        "  return np.random.multivariate_normal(self.mu, self.sig)\n"
       ]
      },
      {
       "output_type": "stream",
       "stream": "stderr",
       "text": [
        "/home/ian/Grad/Research/Disks/Starfish/Starfish/emulator.py:480: DeprecationWarning: using a non-integer number instead of an integer will result in an error in the future\n",
        "  return np.random.multivariate_normal(self.mu, self.sig)\n",
        "/home/ian/Grad/Research/Disks/Starfish/Starfish/emulator.py:480: DeprecationWarning: using a non-integer number instead of an integer will result in an error in the future\n",
        "  return np.random.multivariate_normal(self.mu, self.sig)\n"
       ]
      },
      {
       "output_type": "stream",
       "stream": "stderr",
       "text": [
        "/home/ian/Grad/Research/Disks/Starfish/Starfish/emulator.py:480: DeprecationWarning: using a non-integer number instead of an integer will result in an error in the future\n",
        "  return np.random.multivariate_normal(self.mu, self.sig)\n",
        "/home/ian/Grad/Research/Disks/Starfish/Starfish/emulator.py:480: DeprecationWarning: using a non-integer number instead of an integer will result in an error in the future\n",
        "  return np.random.multivariate_normal(self.mu, self.sig)\n"
       ]
      },
      {
       "output_type": "stream",
       "stream": "stderr",
       "text": [
        "/home/ian/Grad/Research/Disks/Starfish/Starfish/emulator.py:480: DeprecationWarning: using a non-integer number instead of an integer will result in an error in the future\n",
        "  return np.random.multivariate_normal(self.mu, self.sig)\n",
        "/home/ian/Grad/Research/Disks/Starfish/Starfish/emulator.py:480: DeprecationWarning: using a non-integer number instead of an integer will result in an error in the future\n",
        "  return np.random.multivariate_normal(self.mu, self.sig)\n"
       ]
      },
      {
       "output_type": "stream",
       "stream": "stderr",
       "text": [
        "/home/ian/Grad/Research/Disks/Starfish/Starfish/emulator.py:480: DeprecationWarning: using a non-integer number instead of an integer will result in an error in the future\n",
        "  return np.random.multivariate_normal(self.mu, self.sig)\n",
        "/home/ian/Grad/Research/Disks/Starfish/Starfish/emulator.py:480: DeprecationWarning: using a non-integer number instead of an integer will result in an error in the future\n",
        "  return np.random.multivariate_normal(self.mu, self.sig)\n"
       ]
      },
      {
       "output_type": "stream",
       "stream": "stderr",
       "text": [
        "/home/ian/Grad/Research/Disks/Starfish/Starfish/emulator.py:480: DeprecationWarning: using a non-integer number instead of an integer will result in an error in the future\n",
        "  return np.random.multivariate_normal(self.mu, self.sig)\n",
        "/home/ian/Grad/Research/Disks/Starfish/Starfish/emulator.py:480: DeprecationWarning: using a non-integer number instead of an integer will result in an error in the future\n",
        "  return np.random.multivariate_normal(self.mu, self.sig)\n"
       ]
      },
      {
       "output_type": "stream",
       "stream": "stderr",
       "text": [
        "/home/ian/Grad/Research/Disks/Starfish/Starfish/emulator.py:480: DeprecationWarning: using a non-integer number instead of an integer will result in an error in the future\n",
        "  return np.random.multivariate_normal(self.mu, self.sig)\n",
        "/home/ian/Grad/Research/Disks/Starfish/Starfish/emulator.py:480: DeprecationWarning: using a non-integer number instead of an integer will result in an error in the future\n",
        "  return np.random.multivariate_normal(self.mu, self.sig)\n"
       ]
      },
      {
       "output_type": "stream",
       "stream": "stderr",
       "text": [
        "/home/ian/Grad/Research/Disks/Starfish/Starfish/emulator.py:480: DeprecationWarning: using a non-integer number instead of an integer will result in an error in the future\n",
        "  return np.random.multivariate_normal(self.mu, self.sig)\n",
        "/home/ian/Grad/Research/Disks/Starfish/Starfish/emulator.py:480: DeprecationWarning: using a non-integer number instead of an integer will result in an error in the future\n",
        "  return np.random.multivariate_normal(self.mu, self.sig)\n"
       ]
      },
      {
       "output_type": "stream",
       "stream": "stderr",
       "text": [
        "/home/ian/Grad/Research/Disks/Starfish/Starfish/emulator.py:480: DeprecationWarning: using a non-integer number instead of an integer will result in an error in the future\n",
        "  return np.random.multivariate_normal(self.mu, self.sig)\n",
        "/home/ian/Grad/Research/Disks/Starfish/Starfish/emulator.py:480: DeprecationWarning: using a non-integer number instead of an integer will result in an error in the future\n",
        "  return np.random.multivariate_normal(self.mu, self.sig)\n"
       ]
      },
      {
       "output_type": "stream",
       "stream": "stderr",
       "text": [
        "/home/ian/Grad/Research/Disks/Starfish/Starfish/emulator.py:480: DeprecationWarning: using a non-integer number instead of an integer will result in an error in the future\n",
        "  return np.random.multivariate_normal(self.mu, self.sig)\n",
        "/home/ian/Grad/Research/Disks/Starfish/Starfish/emulator.py:480: DeprecationWarning: using a non-integer number instead of an integer will result in an error in the future\n",
        "  return np.random.multivariate_normal(self.mu, self.sig)\n"
       ]
      },
      {
       "output_type": "stream",
       "stream": "stderr",
       "text": [
        "/home/ian/Grad/Research/Disks/Starfish/Starfish/emulator.py:480: DeprecationWarning: using a non-integer number instead of an integer will result in an error in the future\n",
        "  return np.random.multivariate_normal(self.mu, self.sig)\n",
        "/home/ian/Grad/Research/Disks/Starfish/Starfish/emulator.py:480: DeprecationWarning: using a non-integer number instead of an integer will result in an error in the future\n",
        "  return np.random.multivariate_normal(self.mu, self.sig)\n"
       ]
      },
      {
       "output_type": "stream",
       "stream": "stderr",
       "text": [
        "/home/ian/Grad/Research/Disks/Starfish/Starfish/emulator.py:480: DeprecationWarning: using a non-integer number instead of an integer will result in an error in the future\n",
        "  return np.random.multivariate_normal(self.mu, self.sig)\n",
        "/usr/lib/python3.4/site-packages/matplotlib/texmanager.py:575: DeprecationWarning: npy_PyFile_Dup is deprecated, use npy_PyFile_Dup2\n",
        "  X = read_png(os.path.join(self.texcache, pngfile))\n"
       ]
      },
      {
       "output_type": "stream",
       "stream": "stderr",
       "text": [
        "/usr/lib/python3.4/site-packages/matplotlib/texmanager.py:575: DeprecationWarning: npy_PyFile_Dup is deprecated, use npy_PyFile_Dup2\n",
        "  X = read_png(os.path.join(self.texcache, pngfile))\n",
        "/usr/lib/python3.4/site-packages/matplotlib/texmanager.py:575: DeprecationWarning: npy_PyFile_Dup is deprecated, use npy_PyFile_Dup2\n",
        "  X = read_png(os.path.join(self.texcache, pngfile))\n",
        "/usr/lib/python3.4/site-packages/matplotlib/texmanager.py:575: DeprecationWarning: npy_PyFile_Dup is deprecated, use npy_PyFile_Dup2\n",
        "  X = read_png(os.path.join(self.texcache, pngfile))\n",
        "/usr/lib/python3.4/site-packages/matplotlib/texmanager.py:575: DeprecationWarning: npy_PyFile_Dup is deprecated, use npy_PyFile_Dup2\n",
        "  X = read_png(os.path.join(self.texcache, pngfile))\n",
        "/usr/lib/python3.4/site-packages/matplotlib/texmanager.py:575: DeprecationWarning: npy_PyFile_Dup is deprecated, use npy_PyFile_Dup2\n",
        "  X = read_png(os.path.join(self.texcache, pngfile))\n",
        "/usr/lib/python3.4/site-packages/matplotlib/texmanager.py:575: DeprecationWarning: npy_PyFile_Dup is deprecated, use npy_PyFile_Dup2\n",
        "  X = read_png(os.path.join(self.texcache, pngfile))\n"
       ]
      },
      {
       "output_type": "stream",
       "stream": "stderr",
       "text": [
        "/usr/lib/python3.4/site-packages/matplotlib/texmanager.py:575: DeprecationWarning: npy_PyFile_Dup is deprecated, use npy_PyFile_Dup2\n",
        "  X = read_png(os.path.join(self.texcache, pngfile))\n",
        "/usr/lib/python3.4/site-packages/matplotlib/texmanager.py:575: DeprecationWarning: npy_PyFile_Dup is deprecated, use npy_PyFile_Dup2\n",
        "  X = read_png(os.path.join(self.texcache, pngfile))\n",
        "/usr/lib/python3.4/site-packages/matplotlib/texmanager.py:575: DeprecationWarning: npy_PyFile_Dup is deprecated, use npy_PyFile_Dup2\n",
        "  X = read_png(os.path.join(self.texcache, pngfile))\n"
       ]
      },
      {
       "output_type": "stream",
       "stream": "stderr",
       "text": [
        "/usr/lib/python3.4/site-packages/matplotlib/texmanager.py:575: DeprecationWarning: npy_PyFile_Dup is deprecated, use npy_PyFile_Dup2\n",
        "  X = read_png(os.path.join(self.texcache, pngfile))\n",
        "/usr/lib/python3.4/site-packages/matplotlib/texmanager.py:575: DeprecationWarning: npy_PyFile_Dup is deprecated, use npy_PyFile_Dup2\n",
        "  X = read_png(os.path.join(self.texcache, pngfile))\n"
       ]
      },
      {
       "output_type": "stream",
       "stream": "stderr",
       "text": [
        "/usr/lib/python3.4/site-packages/matplotlib/texmanager.py:575: DeprecationWarning: npy_PyFile_Dup is deprecated, use npy_PyFile_Dup2\n",
        "  X = read_png(os.path.join(self.texcache, pngfile))\n",
        "/usr/lib/python3.4/site-packages/matplotlib/texmanager.py:575: DeprecationWarning: npy_PyFile_Dup is deprecated, use npy_PyFile_Dup2\n",
        "  X = read_png(os.path.join(self.texcache, pngfile))\n"
       ]
      },
      {
       "output_type": "stream",
       "stream": "stderr",
       "text": [
        "/usr/lib/python3.4/site-packages/matplotlib/texmanager.py:575: DeprecationWarning: npy_PyFile_Dup is deprecated, use npy_PyFile_Dup2\n",
        "  X = read_png(os.path.join(self.texcache, pngfile))\n",
        "/usr/lib/python3.4/site-packages/matplotlib/texmanager.py:575: DeprecationWarning: npy_PyFile_Dup is deprecated, use npy_PyFile_Dup2\n",
        "  X = read_png(os.path.join(self.texcache, pngfile))\n",
        "/usr/lib/python3.4/site-packages/matplotlib/texmanager.py:575: DeprecationWarning: npy_PyFile_Dup is deprecated, use npy_PyFile_Dup2\n",
        "  X = read_png(os.path.join(self.texcache, pngfile))\n",
        "/usr/lib/python3.4/site-packages/matplotlib/texmanager.py:575: DeprecationWarning: npy_PyFile_Dup is deprecated, use npy_PyFile_Dup2\n",
        "  X = read_png(os.path.join(self.texcache, pngfile))\n"
       ]
      },
      {
       "output_type": "stream",
       "stream": "stderr",
       "text": [
        "/usr/lib/python3.4/site-packages/matplotlib/texmanager.py:575: DeprecationWarning: npy_PyFile_Dup is deprecated, use npy_PyFile_Dup2\n",
        "  X = read_png(os.path.join(self.texcache, pngfile))\n",
        "/usr/lib/python3.4/site-packages/matplotlib/texmanager.py:575: DeprecationWarning: npy_PyFile_Dup is deprecated, use npy_PyFile_Dup2\n",
        "  X = read_png(os.path.join(self.texcache, pngfile))\n"
       ]
      },
      {
       "output_type": "stream",
       "stream": "stderr",
       "text": [
        "/usr/lib/python3.4/site-packages/matplotlib/texmanager.py:575: DeprecationWarning: npy_PyFile_Dup is deprecated, use npy_PyFile_Dup2\n",
        "  X = read_png(os.path.join(self.texcache, pngfile))\n",
        "/usr/lib/python3.4/site-packages/matplotlib/texmanager.py:575: DeprecationWarning: npy_PyFile_Dup is deprecated, use npy_PyFile_Dup2\n",
        "  X = read_png(os.path.join(self.texcache, pngfile))\n",
        "/usr/lib/python3.4/site-packages/matplotlib/texmanager.py:575: DeprecationWarning: npy_PyFile_Dup is deprecated, use npy_PyFile_Dup2\n",
        "  X = read_png(os.path.join(self.texcache, pngfile))\n"
       ]
      },
      {
       "output_type": "stream",
       "stream": "stderr",
       "text": [
        "/usr/lib/python3.4/site-packages/matplotlib/texmanager.py:575: DeprecationWarning: npy_PyFile_Dup is deprecated, use npy_PyFile_Dup2\n",
        "  X = read_png(os.path.join(self.texcache, pngfile))\n",
        "/usr/lib/python3.4/site-packages/matplotlib/texmanager.py:575: DeprecationWarning: npy_PyFile_Dup is deprecated, use npy_PyFile_Dup2\n",
        "  X = read_png(os.path.join(self.texcache, pngfile))\n"
       ]
      },
      {
       "output_type": "stream",
       "stream": "stderr",
       "text": [
        "/usr/lib/python3.4/site-packages/matplotlib/texmanager.py:575: DeprecationWarning: npy_PyFile_Dup is deprecated, use npy_PyFile_Dup2\n",
        "  X = read_png(os.path.join(self.texcache, pngfile))\n",
        "/usr/lib/python3.4/site-packages/matplotlib/texmanager.py:575: DeprecationWarning: npy_PyFile_Dup is deprecated, use npy_PyFile_Dup2\n",
        "  X = read_png(os.path.join(self.texcache, pngfile))\n",
        "/usr/lib/python3.4/site-packages/matplotlib/texmanager.py:575: DeprecationWarning: npy_PyFile_Dup is deprecated, use npy_PyFile_Dup2\n",
        "  X = read_png(os.path.join(self.texcache, pngfile))\n",
        "/usr/lib/python3.4/site-packages/matplotlib/texmanager.py:575: DeprecationWarning: npy_PyFile_Dup is deprecated, use npy_PyFile_Dup2\n",
        "  X = read_png(os.path.join(self.texcache, pngfile))\n",
        "/usr/lib/python3.4/site-packages/matplotlib/texmanager.py:575: DeprecationWarning: npy_PyFile_Dup is deprecated, use npy_PyFile_Dup2\n",
        "  X = read_png(os.path.join(self.texcache, pngfile))\n"
       ]
      },
      {
       "output_type": "stream",
       "stream": "stderr",
       "text": [
        "/usr/lib/python3.4/site-packages/matplotlib/texmanager.py:575: DeprecationWarning: npy_PyFile_Dup is deprecated, use npy_PyFile_Dup2\n",
        "  X = read_png(os.path.join(self.texcache, pngfile))\n",
        "/usr/lib/python3.4/site-packages/matplotlib/texmanager.py:575: DeprecationWarning: npy_PyFile_Dup is deprecated, use npy_PyFile_Dup2\n",
        "  X = read_png(os.path.join(self.texcache, pngfile))\n"
       ]
      },
      {
       "output_type": "stream",
       "stream": "stderr",
       "text": [
        "/usr/lib/python3.4/site-packages/matplotlib/texmanager.py:575: DeprecationWarning: npy_PyFile_Dup is deprecated, use npy_PyFile_Dup2\n",
        "  X = read_png(os.path.join(self.texcache, pngfile))\n",
        "/usr/lib/python3.4/site-packages/matplotlib/texmanager.py:575: DeprecationWarning: npy_PyFile_Dup is deprecated, use npy_PyFile_Dup2\n",
        "  X = read_png(os.path.join(self.texcache, pngfile))\n"
       ]
      },
      {
       "output_type": "stream",
       "stream": "stderr",
       "text": [
        "/usr/lib/python3.4/site-packages/matplotlib/texmanager.py:575: DeprecationWarning: npy_PyFile_Dup is deprecated, use npy_PyFile_Dup2\n",
        "  X = read_png(os.path.join(self.texcache, pngfile))\n",
        "/usr/lib/python3.4/site-packages/matplotlib/texmanager.py:575: DeprecationWarning: npy_PyFile_Dup is deprecated, use npy_PyFile_Dup2\n",
        "  X = read_png(os.path.join(self.texcache, pngfile))\n",
        "/usr/lib/python3.4/site-packages/matplotlib/texmanager.py:575: DeprecationWarning: npy_PyFile_Dup is deprecated, use npy_PyFile_Dup2\n",
        "  X = read_png(os.path.join(self.texcache, pngfile))\n"
       ]
      },
      {
       "output_type": "stream",
       "stream": "stderr",
       "text": [
        "/usr/lib/python3.4/site-packages/matplotlib/texmanager.py:575: DeprecationWarning: npy_PyFile_Dup is deprecated, use npy_PyFile_Dup2\n",
        "  X = read_png(os.path.join(self.texcache, pngfile))\n",
        "/usr/lib/python3.4/site-packages/matplotlib/texmanager.py:575: DeprecationWarning: npy_PyFile_Dup is deprecated, use npy_PyFile_Dup2\n",
        "  X = read_png(os.path.join(self.texcache, pngfile))\n",
        "/usr/lib/python3.4/site-packages/matplotlib/texmanager.py:575: DeprecationWarning: npy_PyFile_Dup is deprecated, use npy_PyFile_Dup2\n",
        "  X = read_png(os.path.join(self.texcache, pngfile))\n",
        "/usr/lib/python3.4/site-packages/matplotlib/texmanager.py:575: DeprecationWarning: npy_PyFile_Dup is deprecated, use npy_PyFile_Dup2\n",
        "  X = read_png(os.path.join(self.texcache, pngfile))\n"
       ]
      },
      {
       "output_type": "stream",
       "stream": "stderr",
       "text": [
        "/usr/lib/python3.4/site-packages/matplotlib/texmanager.py:575: DeprecationWarning: npy_PyFile_Dup is deprecated, use npy_PyFile_Dup2\n",
        "  X = read_png(os.path.join(self.texcache, pngfile))\n",
        "/usr/lib/python3.4/site-packages/matplotlib/texmanager.py:575: DeprecationWarning: npy_PyFile_Dup is deprecated, use npy_PyFile_Dup2\n",
        "  X = read_png(os.path.join(self.texcache, pngfile))\n",
        "/usr/lib/python3.4/site-packages/matplotlib/texmanager.py:575: DeprecationWarning: npy_PyFile_Dup is deprecated, use npy_PyFile_Dup2\n",
        "  X = read_png(os.path.join(self.texcache, pngfile))\n"
       ]
      },
      {
       "output_type": "stream",
       "stream": "stderr",
       "text": [
        "/usr/lib/python3.4/site-packages/matplotlib/texmanager.py:575: DeprecationWarning: npy_PyFile_Dup is deprecated, use npy_PyFile_Dup2\n",
        "  X = read_png(os.path.join(self.texcache, pngfile))\n",
        "/usr/lib/python3.4/site-packages/matplotlib/texmanager.py:575: DeprecationWarning: npy_PyFile_Dup is deprecated, use npy_PyFile_Dup2\n",
        "  X = read_png(os.path.join(self.texcache, pngfile))\n",
        "/usr/lib/python3.4/site-packages/matplotlib/texmanager.py:575: DeprecationWarning: npy_PyFile_Dup is deprecated, use npy_PyFile_Dup2\n",
        "  X = read_png(os.path.join(self.texcache, pngfile))\n",
        "/usr/lib/python3.4/site-packages/matplotlib/texmanager.py:575: DeprecationWarning: npy_PyFile_Dup is deprecated, use npy_PyFile_Dup2\n",
        "  X = read_png(os.path.join(self.texcache, pngfile))\n"
       ]
      },
      {
       "output_type": "stream",
       "stream": "stderr",
       "text": [
        "/usr/lib/python3.4/site-packages/matplotlib/texmanager.py:575: DeprecationWarning: npy_PyFile_Dup is deprecated, use npy_PyFile_Dup2\n",
        "  X = read_png(os.path.join(self.texcache, pngfile))\n",
        "/usr/lib/python3.4/site-packages/matplotlib/texmanager.py:575: DeprecationWarning: npy_PyFile_Dup is deprecated, use npy_PyFile_Dup2\n",
        "  X = read_png(os.path.join(self.texcache, pngfile))\n"
       ]
      },
      {
       "output_type": "stream",
       "stream": "stderr",
       "text": [
        "/usr/lib/python3.4/site-packages/matplotlib/texmanager.py:575: DeprecationWarning: npy_PyFile_Dup is deprecated, use npy_PyFile_Dup2\n",
        "  X = read_png(os.path.join(self.texcache, pngfile))\n",
        "/usr/lib/python3.4/site-packages/matplotlib/texmanager.py:575: DeprecationWarning: npy_PyFile_Dup is deprecated, use npy_PyFile_Dup2\n",
        "  X = read_png(os.path.join(self.texcache, pngfile))\n",
        "/usr/lib/python3.4/site-packages/matplotlib/texmanager.py:575: DeprecationWarning: npy_PyFile_Dup is deprecated, use npy_PyFile_Dup2\n",
        "  X = read_png(os.path.join(self.texcache, pngfile))\n"
       ]
      },
      {
       "output_type": "stream",
       "stream": "stderr",
       "text": [
        "/usr/lib/python3.4/site-packages/matplotlib/texmanager.py:575: DeprecationWarning: npy_PyFile_Dup is deprecated, use npy_PyFile_Dup2\n",
        "  X = read_png(os.path.join(self.texcache, pngfile))\n",
        "/usr/lib/python3.4/site-packages/matplotlib/texmanager.py:575: DeprecationWarning: npy_PyFile_Dup is deprecated, use npy_PyFile_Dup2\n",
        "  X = read_png(os.path.join(self.texcache, pngfile))\n",
        "/usr/lib/python3.4/site-packages/matplotlib/texmanager.py:575: DeprecationWarning: npy_PyFile_Dup is deprecated, use npy_PyFile_Dup2\n",
        "  X = read_png(os.path.join(self.texcache, pngfile))\n"
       ]
      },
      {
       "output_type": "stream",
       "stream": "stderr",
       "text": [
        "/usr/lib/python3.4/site-packages/matplotlib/texmanager.py:575: DeprecationWarning: npy_PyFile_Dup is deprecated, use npy_PyFile_Dup2\n",
        "  X = read_png(os.path.join(self.texcache, pngfile))\n",
        "/usr/lib/python3.4/site-packages/matplotlib/texmanager.py:575: DeprecationWarning: npy_PyFile_Dup is deprecated, use npy_PyFile_Dup2\n",
        "  X = read_png(os.path.join(self.texcache, pngfile))\n",
        "/usr/lib/python3.4/site-packages/matplotlib/backends/backend_agg.py:517: DeprecationWarning: npy_PyFile_Dup is deprecated, use npy_PyFile_Dup2\n",
        "  filename_or_obj, self.figure.dpi)\n"
       ]
      },
      {
       "output_type": "stream",
       "stream": "stderr",
       "text": [
        "/usr/lib/python3.4/site-packages/matplotlib/texmanager.py:575: DeprecationWarning: npy_PyFile_Dup is deprecated, use npy_PyFile_Dup2\n",
        "  X = read_png(os.path.join(self.texcache, pngfile))\n",
        "/usr/lib/python3.4/site-packages/matplotlib/texmanager.py:575: DeprecationWarning: npy_PyFile_Dup is deprecated, use npy_PyFile_Dup2\n",
        "  X = read_png(os.path.join(self.texcache, pngfile))\n",
        "/usr/lib/python3.4/site-packages/matplotlib/texmanager.py:575: DeprecationWarning: npy_PyFile_Dup is deprecated, use npy_PyFile_Dup2\n",
        "  X = read_png(os.path.join(self.texcache, pngfile))\n"
       ]
      },
      {
       "output_type": "stream",
       "stream": "stderr",
       "text": [
        "/usr/lib/python3.4/site-packages/matplotlib/texmanager.py:575: DeprecationWarning: npy_PyFile_Dup is deprecated, use npy_PyFile_Dup2\n",
        "  X = read_png(os.path.join(self.texcache, pngfile))\n",
        "/usr/lib/python3.4/site-packages/matplotlib/texmanager.py:575: DeprecationWarning: npy_PyFile_Dup is deprecated, use npy_PyFile_Dup2\n",
        "  X = read_png(os.path.join(self.texcache, pngfile))\n",
        "/usr/lib/python3.4/site-packages/matplotlib/texmanager.py:575: DeprecationWarning: npy_PyFile_Dup is deprecated, use npy_PyFile_Dup2\n",
        "  X = read_png(os.path.join(self.texcache, pngfile))\n"
       ]
      },
      {
       "output_type": "stream",
       "stream": "stderr",
       "text": [
        "/usr/lib/python3.4/site-packages/matplotlib/texmanager.py:575: DeprecationWarning: npy_PyFile_Dup is deprecated, use npy_PyFile_Dup2\n",
        "  X = read_png(os.path.join(self.texcache, pngfile))\n",
        "/usr/lib/python3.4/site-packages/matplotlib/texmanager.py:575: DeprecationWarning: npy_PyFile_Dup is deprecated, use npy_PyFile_Dup2\n",
        "  X = read_png(os.path.join(self.texcache, pngfile))\n"
       ]
      },
      {
       "output_type": "stream",
       "stream": "stderr",
       "text": [
        "/usr/lib/python3.4/site-packages/matplotlib/texmanager.py:575: DeprecationWarning: npy_PyFile_Dup is deprecated, use npy_PyFile_Dup2\n",
        "  X = read_png(os.path.join(self.texcache, pngfile))\n",
        "/usr/lib/python3.4/site-packages/matplotlib/texmanager.py:575: DeprecationWarning: npy_PyFile_Dup is deprecated, use npy_PyFile_Dup2\n",
        "  X = read_png(os.path.join(self.texcache, pngfile))\n",
        "/usr/lib/python3.4/site-packages/matplotlib/texmanager.py:575: DeprecationWarning: npy_PyFile_Dup is deprecated, use npy_PyFile_Dup2\n",
        "  X = read_png(os.path.join(self.texcache, pngfile))\n",
        "/usr/lib/python3.4/site-packages/matplotlib/backends/backend_agg.py:517: DeprecationWarning: npy_PyFile_Dup is deprecated, use npy_PyFile_Dup2\n",
        "  filename_or_obj, self.figure.dpi)\n"
       ]
      },
      {
       "output_type": "stream",
       "stream": "stderr",
       "text": [
        "/usr/lib/python3.4/site-packages/matplotlib/texmanager.py:575: DeprecationWarning: npy_PyFile_Dup is deprecated, use npy_PyFile_Dup2\n",
        "  X = read_png(os.path.join(self.texcache, pngfile))\n",
        "/usr/lib/python3.4/site-packages/matplotlib/texmanager.py:575: DeprecationWarning: npy_PyFile_Dup is deprecated, use npy_PyFile_Dup2\n",
        "  X = read_png(os.path.join(self.texcache, pngfile))\n"
       ]
      },
      {
       "output_type": "stream",
       "stream": "stderr",
       "text": [
        "/usr/lib/python3.4/site-packages/matplotlib/texmanager.py:575: DeprecationWarning: npy_PyFile_Dup is deprecated, use npy_PyFile_Dup2\n",
        "  X = read_png(os.path.join(self.texcache, pngfile))\n",
        "/usr/lib/python3.4/site-packages/matplotlib/texmanager.py:575: DeprecationWarning: npy_PyFile_Dup is deprecated, use npy_PyFile_Dup2\n",
        "  X = read_png(os.path.join(self.texcache, pngfile))\n"
       ]
      },
      {
       "output_type": "stream",
       "stream": "stderr",
       "text": [
        "/usr/lib/python3.4/site-packages/matplotlib/texmanager.py:575: DeprecationWarning: npy_PyFile_Dup is deprecated, use npy_PyFile_Dup2\n",
        "  X = read_png(os.path.join(self.texcache, pngfile))\n",
        "/usr/lib/python3.4/site-packages/matplotlib/texmanager.py:575: DeprecationWarning: npy_PyFile_Dup is deprecated, use npy_PyFile_Dup2\n",
        "  X = read_png(os.path.join(self.texcache, pngfile))\n"
       ]
      },
      {
       "output_type": "stream",
       "stream": "stderr",
       "text": [
        "/usr/lib/python3.4/site-packages/matplotlib/texmanager.py:575: DeprecationWarning: npy_PyFile_Dup is deprecated, use npy_PyFile_Dup2\n",
        "  X = read_png(os.path.join(self.texcache, pngfile))\n",
        "/usr/lib/python3.4/site-packages/matplotlib/texmanager.py:575: DeprecationWarning: npy_PyFile_Dup is deprecated, use npy_PyFile_Dup2\n",
        "  X = read_png(os.path.join(self.texcache, pngfile))\n"
       ]
      },
      {
       "output_type": "stream",
       "stream": "stderr",
       "text": [
        "/usr/lib/python3.4/site-packages/matplotlib/texmanager.py:575: DeprecationWarning: npy_PyFile_Dup is deprecated, use npy_PyFile_Dup2\n",
        "  X = read_png(os.path.join(self.texcache, pngfile))\n",
        "/usr/lib/python3.4/site-packages/matplotlib/texmanager.py:575: DeprecationWarning: npy_PyFile_Dup is deprecated, use npy_PyFile_Dup2\n",
        "  X = read_png(os.path.join(self.texcache, pngfile))\n",
        "/usr/lib/python3.4/site-packages/matplotlib/texmanager.py:575: DeprecationWarning: npy_PyFile_Dup is deprecated, use npy_PyFile_Dup2\n",
        "  X = read_png(os.path.join(self.texcache, pngfile))\n"
       ]
      },
      {
       "output_type": "stream",
       "stream": "stderr",
       "text": [
        "/usr/lib/python3.4/site-packages/matplotlib/backends/backend_agg.py:517: DeprecationWarning: npy_PyFile_Dup is deprecated, use npy_PyFile_Dup2\n",
        "  filename_or_obj, self.figure.dpi)\n"
       ]
      }
     ],
     "prompt_number": 7
    },
    {
     "cell_type": "code",
     "collapsed": true,
     "input": [
      "for i in range(emulator.ncomp):\n",
      "    plot_weights_Z(i)"
     ],
     "language": "python",
     "metadata": {},
     "outputs": [
      {
       "output_type": "stream",
       "stream": "stderr",
       "text": [
        "/usr/lib/python3.4/site-packages/matplotlib/texmanager.py:575: DeprecationWarning: npy_PyFile_Dup is deprecated, use npy_PyFile_Dup2\n",
        "  X = read_png(os.path.join(self.texcache, pngfile))\n",
        "/usr/lib/python3.4/site-packages/matplotlib/texmanager.py:575: DeprecationWarning: npy_PyFile_Dup is deprecated, use npy_PyFile_Dup2\n",
        "  X = read_png(os.path.join(self.texcache, pngfile))\n"
       ]
      },
      {
       "output_type": "stream",
       "stream": "stderr",
       "text": [
        "/usr/lib/python3.4/site-packages/matplotlib/texmanager.py:575: DeprecationWarning: npy_PyFile_Dup is deprecated, use npy_PyFile_Dup2\n",
        "  X = read_png(os.path.join(self.texcache, pngfile))\n",
        "/usr/lib/python3.4/site-packages/matplotlib/texmanager.py:575: DeprecationWarning: npy_PyFile_Dup is deprecated, use npy_PyFile_Dup2\n",
        "  X = read_png(os.path.join(self.texcache, pngfile))\n"
       ]
      },
      {
       "output_type": "stream",
       "stream": "stderr",
       "text": [
        "/usr/lib/python3.4/site-packages/matplotlib/texmanager.py:575: DeprecationWarning: npy_PyFile_Dup is deprecated, use npy_PyFile_Dup2\n",
        "  X = read_png(os.path.join(self.texcache, pngfile))\n",
        "/usr/lib/python3.4/site-packages/matplotlib/texmanager.py:575: DeprecationWarning: npy_PyFile_Dup is deprecated, use npy_PyFile_Dup2\n",
        "  X = read_png(os.path.join(self.texcache, pngfile))\n",
        "/usr/lib/python3.4/site-packages/matplotlib/texmanager.py:575: DeprecationWarning: npy_PyFile_Dup is deprecated, use npy_PyFile_Dup2\n",
        "  X = read_png(os.path.join(self.texcache, pngfile))\n",
        "/usr/lib/python3.4/site-packages/matplotlib/backends/backend_agg.py:517: DeprecationWarning: npy_PyFile_Dup is deprecated, use npy_PyFile_Dup2\n",
        "  filename_or_obj, self.figure.dpi)\n"
       ]
      },
      {
       "output_type": "stream",
       "stream": "stderr",
       "text": [
        "/usr/lib/python3.4/site-packages/matplotlib/texmanager.py:575: DeprecationWarning: npy_PyFile_Dup is deprecated, use npy_PyFile_Dup2\n",
        "  X = read_png(os.path.join(self.texcache, pngfile))\n",
        "/usr/lib/python3.4/site-packages/matplotlib/texmanager.py:575: DeprecationWarning: npy_PyFile_Dup is deprecated, use npy_PyFile_Dup2\n",
        "  X = read_png(os.path.join(self.texcache, pngfile))\n"
       ]
      },
      {
       "output_type": "stream",
       "stream": "stderr",
       "text": [
        "/usr/lib/python3.4/site-packages/matplotlib/texmanager.py:575: DeprecationWarning: npy_PyFile_Dup is deprecated, use npy_PyFile_Dup2\n",
        "  X = read_png(os.path.join(self.texcache, pngfile))\n",
        "/usr/lib/python3.4/site-packages/matplotlib/texmanager.py:575: DeprecationWarning: npy_PyFile_Dup is deprecated, use npy_PyFile_Dup2\n",
        "  X = read_png(os.path.join(self.texcache, pngfile))\n"
       ]
      },
      {
       "output_type": "stream",
       "stream": "stderr",
       "text": [
        "/usr/lib/python3.4/site-packages/matplotlib/texmanager.py:575: DeprecationWarning: npy_PyFile_Dup is deprecated, use npy_PyFile_Dup2\n",
        "  X = read_png(os.path.join(self.texcache, pngfile))\n",
        "/usr/lib/python3.4/site-packages/matplotlib/texmanager.py:575: DeprecationWarning: npy_PyFile_Dup is deprecated, use npy_PyFile_Dup2\n",
        "  X = read_png(os.path.join(self.texcache, pngfile))\n",
        "/usr/lib/python3.4/site-packages/matplotlib/texmanager.py:575: DeprecationWarning: npy_PyFile_Dup is deprecated, use npy_PyFile_Dup2\n",
        "  X = read_png(os.path.join(self.texcache, pngfile))\n",
        "/usr/lib/python3.4/site-packages/matplotlib/backends/backend_agg.py:517: DeprecationWarning: npy_PyFile_Dup is deprecated, use npy_PyFile_Dup2\n",
        "  filename_or_obj, self.figure.dpi)\n"
       ]
      },
      {
       "output_type": "stream",
       "stream": "stderr",
       "text": [
        "/usr/lib/python3.4/site-packages/matplotlib/backends/backend_agg.py:517: DeprecationWarning: npy_PyFile_Dup is deprecated, use npy_PyFile_Dup2\n",
        "  filename_or_obj, self.figure.dpi)\n",
        "/usr/lib/python3.4/site-packages/matplotlib/backends/backend_agg.py:517: DeprecationWarning: npy_PyFile_Dup is deprecated, use npy_PyFile_Dup2\n",
        "  filename_or_obj, self.figure.dpi)\n"
       ]
      },
      {
       "output_type": "stream",
       "stream": "stderr",
       "text": [
        "/usr/lib/python3.4/site-packages/matplotlib/backends/backend_agg.py:517: DeprecationWarning: npy_PyFile_Dup is deprecated, use npy_PyFile_Dup2\n",
        "  filename_or_obj, self.figure.dpi)\n"
       ]
      }
     ],
     "prompt_number": 122
    },
    {
     "cell_type": "code",
     "collapsed": false,
     "input": [
      "emulator.get_index(np.array([3000., 5.0, 0.0]))"
     ],
     "language": "python",
     "metadata": {},
     "outputs": [
      {
       "metadata": {},
       "output_type": "pyout",
       "prompt_number": 13,
       "text": [
        "38"
       ]
      }
     ],
     "prompt_number": 13
    },
    {
     "cell_type": "code",
     "collapsed": false,
     "input": [
      "flux = [flux for flux in emulator.grid.fluxes][38][emulator.ind]"
     ],
     "language": "python",
     "metadata": {},
     "outputs": [],
     "prompt_number": 16
    },
    {
     "cell_type": "code",
     "collapsed": false,
     "input": [
      "emulator.grid.list_grid_points[38]"
     ],
     "language": "python",
     "metadata": {},
     "outputs": [
      {
       "metadata": {},
       "output_type": "pyout",
       "prompt_number": 17,
       "text": [
        "{'logg': 5.0, 'temp': 3000, 'alpha': 0.0, 'Z': 0.0}"
       ]
      }
     ],
     "prompt_number": 17
    },
    {
     "cell_type": "code",
     "collapsed": false,
     "input": [
      "p0 = samples[-1]"
     ],
     "language": "python",
     "metadata": {},
     "outputs": [],
     "prompt_number": 40
    },
    {
     "cell_type": "code",
     "collapsed": false,
     "input": [
      "samples = np.load(\"samples.npy\")"
     ],
     "language": "python",
     "metadata": {},
     "outputs": [],
     "prompt_number": 11
    },
    {
     "cell_type": "code",
     "collapsed": false,
     "input": [
      "samples[-1]"
     ],
     "language": "python",
     "metadata": {},
     "outputs": [
      {
       "metadata": {},
       "output_type": "pyout",
       "prompt_number": 16,
       "text": [
        "array([   1.51498375,  201.24170207,    0.7324166 ,    0.58400755])"
       ]
      }
     ],
     "prompt_number": 16
    },
    {
     "cell_type": "code",
     "collapsed": true,
     "input": [
      "def plot_weights(pindex):\n",
      "\n",
      "    fig, ax = plt.subplots(nrows=4, ncols=4, figsize=(12,12), sharex=True, sharey=True)\n",
      "\n",
      "    for i in range(4):\n",
      "        for j in range(4):\n",
      "            logg = loggs[i]\n",
      "            Z = Zs[j]\n",
      "            w_temp = []\n",
      "            for temp in temps:\n",
      "                pars = np.array([temp, logg, Z])\n",
      "                index = emulator.get_index(pars)\n",
      "                #print(i, j, pars, index)\n",
      "                w_temp.append(np.sum(emulator.fluxes[index] * emulator.pcomps[pindex]))\n",
      "            ax[i,j].plot(temps, w_temp, \"k\")\n",
      "            ax[i,j].plot(temps, w_temp, \"bo\")\n",
      "            ax[i,j].annotate(r\"$\\log g = {:.1f}$\".format(logg), (0.1, 0.90), xycoords=\"axes fraction\", ha=\"left\", color=\"k\", size=9)\n",
      "            ax[i,j].annotate(r\"$Z = {:.1f}$\".format(Z), (0.1, 0.8), xycoords=\"axes fraction\", ha=\"left\", color=\"k\", size=9)      \n",
      "\n",
      "    ax[-1, -1].xaxis.set_major_formatter(FSF(\"%.0f\"))        \n",
      "    ax[-1, -1].xaxis.set_major_locator(MultipleLocator(200))        \n",
      "\n",
      "    fig.savefig(\"weights{}\".format(pindex + 1))\n",
      "    \n",
      "def plot_weights_logg(pindex):\n",
      "\n",
      "    fig, ax = plt.subplots(nrows=4, ncols=7, figsize=(20,12), sharex=True, sharey=True)\n",
      "\n",
      "    for i in range(4):\n",
      "        for j in range(7):\n",
      "            Z = Zs[i]\n",
      "            temp = temps[j]\n",
      "            w_logg = []\n",
      "            for logg in loggs:\n",
      "                pars = np.array([temp, logg, Z])\n",
      "                index = emulator.get_index(pars)\n",
      "                #print(i, j, pars, index)\n",
      "                w_logg.append(np.sum(emulator.fluxes[index] * emulator.pcomps[pindex]))\n",
      "            ax[i,j].plot(loggs, w_logg, \"k\")\n",
      "            ax[i,j].plot(loggs, w_logg, \"bo\")\n",
      "            ax[i,j].annotate(r\"$T_{\\rm eff}$\" + r\"$= {:.0f}$\".format(temp), (0.1, 0.90), xycoords=\"axes fraction\", ha=\"left\", color=\"k\", size=9)\n",
      "            ax[i,j].annotate(r\"$Z = {:.1f}$\".format(Z), (0.1, 0.8), xycoords=\"axes fraction\", ha=\"left\", color=\"k\", size=9)      \n",
      "\n",
      "    ax[-1, -1].xaxis.set_major_formatter(FSF(\"%.1f\"))        \n",
      "    ax[-1, -1].xaxis.set_major_locator(MultipleLocator(0.5))        \n",
      "\n",
      "    fig.savefig(\"weights_logg{}\".format(pindex + 1))\n",
      "    plt.clf()\n",
      "    \n",
      "def plot_weights_Z(pindex):\n",
      "\n",
      "    fig, ax = plt.subplots(nrows=4, ncols=7, figsize=(20,12), sharex=True, sharey=True)\n",
      "\n",
      "    for i in range(4):\n",
      "        for j in range(7):\n",
      "            logg = loggs[i]\n",
      "            temp = temps[j]\n",
      "            w_Z = []\n",
      "            for Z in Zs:\n",
      "                pars = np.array([temp, logg, Z])\n",
      "                index = emulator.get_index(pars)\n",
      "                #print(i, j, pars, index)\n",
      "                w_Z.append(np.sum(emulator.fluxes[index] * emulator.pcomps[pindex]))\n",
      "            ax[i,j].plot(Zs, w_Z, \"k\")\n",
      "            ax[i,j].plot(Zs, w_Z, \"bo\")\n",
      "            ax[i,j].annotate(r\"$\\log g = {:.0f}$\".format(logg), (0.1, 0.90), xycoords=\"axes fraction\", ha=\"left\", color=\"k\", size=9)\n",
      "            ax[i,j].annotate(r\"$Z = {:.1f}$\".format(Z), (0.1, 0.8), xycoords=\"axes fraction\", ha=\"left\", color=\"k\", size=9)      \n",
      "\n",
      "    ax[-1, -1].xaxis.set_major_formatter(FSF(\"%.1f\"))        \n",
      "    ax[-1, -1].xaxis.set_major_locator(MultipleLocator(0.5))        \n",
      "\n",
      "    fig.savefig(\"weights_Z{}\".format(pindex + 1))\n",
      "    plt.clf()"
     ],
     "language": "python",
     "metadata": {},
     "outputs": [],
     "prompt_number": 35
    },
    {
     "cell_type": "code",
     "collapsed": false,
     "input": [
      "fparams = []\n",
      "for temp in int_temps:\n",
      "    fparams.append([temp, 5.0, 0.0])\n",
      "fparams = np.array(fparams)"
     ],
     "language": "python",
     "metadata": {},
     "outputs": [],
     "prompt_number": 19
    },
    {
     "cell_type": "code",
     "collapsed": false,
     "input": [
      "fparams"
     ],
     "language": "python",
     "metadata": {},
     "outputs": [
      {
       "metadata": {},
       "output_type": "pyout",
       "prompt_number": 20,
       "text": [
        "array([[ 2800.        ,     5.        ,     0.        ],\n",
        "       [ 2815.38461538,     5.        ,     0.        ],\n",
        "       [ 2830.76923077,     5.        ,     0.        ],\n",
        "       [ 2846.15384615,     5.        ,     0.        ],\n",
        "       [ 2861.53846154,     5.        ,     0.        ],\n",
        "       [ 2876.92307692,     5.        ,     0.        ],\n",
        "       [ 2892.30769231,     5.        ,     0.        ],\n",
        "       [ 2907.69230769,     5.        ,     0.        ],\n",
        "       [ 2923.07692308,     5.        ,     0.        ],\n",
        "       [ 2938.46153846,     5.        ,     0.        ],\n",
        "       [ 2953.84615385,     5.        ,     0.        ],\n",
        "       [ 2969.23076923,     5.        ,     0.        ],\n",
        "       [ 2984.61538462,     5.        ,     0.        ],\n",
        "       [ 3000.        ,     5.        ,     0.        ],\n",
        "       [ 3015.38461538,     5.        ,     0.        ],\n",
        "       [ 3030.76923077,     5.        ,     0.        ],\n",
        "       [ 3046.15384615,     5.        ,     0.        ],\n",
        "       [ 3061.53846154,     5.        ,     0.        ],\n",
        "       [ 3076.92307692,     5.        ,     0.        ],\n",
        "       [ 3092.30769231,     5.        ,     0.        ],\n",
        "       [ 3107.69230769,     5.        ,     0.        ],\n",
        "       [ 3123.07692308,     5.        ,     0.        ],\n",
        "       [ 3138.46153846,     5.        ,     0.        ],\n",
        "       [ 3153.84615385,     5.        ,     0.        ],\n",
        "       [ 3169.23076923,     5.        ,     0.        ],\n",
        "       [ 3184.61538462,     5.        ,     0.        ],\n",
        "       [ 3200.        ,     5.        ,     0.        ],\n",
        "       [ 3215.38461538,     5.        ,     0.        ],\n",
        "       [ 3230.76923077,     5.        ,     0.        ],\n",
        "       [ 3246.15384615,     5.        ,     0.        ],\n",
        "       [ 3261.53846154,     5.        ,     0.        ],\n",
        "       [ 3276.92307692,     5.        ,     0.        ],\n",
        "       [ 3292.30769231,     5.        ,     0.        ],\n",
        "       [ 3307.69230769,     5.        ,     0.        ],\n",
        "       [ 3323.07692308,     5.        ,     0.        ],\n",
        "       [ 3338.46153846,     5.        ,     0.        ],\n",
        "       [ 3353.84615385,     5.        ,     0.        ],\n",
        "       [ 3369.23076923,     5.        ,     0.        ],\n",
        "       [ 3384.61538462,     5.        ,     0.        ],\n",
        "       [ 3400.        ,     5.        ,     0.        ]])"
       ]
      }
     ],
     "prompt_number": 20
    },
    {
     "cell_type": "code",
     "collapsed": false,
     "input": [
      "EMw1.V11"
     ],
     "language": "python",
     "metadata": {},
     "outputs": [
      {
       "metadata": {},
       "output_type": "pyout",
       "prompt_number": 11,
       "text": [
        "array([[  3.98107171e+03,   2.67233900e+03,   8.08288120e+02, ...,\n",
        "          1.17941075e+00,   3.56730079e-01,   4.86180432e-02],\n",
        "       [  2.67233900e+03,   3.98107171e+03,   2.67233900e+03, ...,\n",
        "          1.75700717e+00,   1.17941075e+00,   3.56730079e-01],\n",
        "       [  8.08288120e+02,   2.67233900e+03,   3.98107171e+03, ...,\n",
        "          1.17941075e+00,   1.75700717e+00,   1.17941075e+00],\n",
        "       ..., \n",
        "       [  1.17941075e+00,   1.75700717e+00,   1.17941075e+00, ...,\n",
        "          3.98107171e+03,   2.67233900e+03,   8.08288120e+02],\n",
        "       [  3.56730079e-01,   1.17941075e+00,   1.75700717e+00, ...,\n",
        "          2.67233900e+03,   3.98107171e+03,   2.67233900e+03],\n",
        "       [  4.86180432e-02,   3.56730079e-01,   1.17941075e+00, ...,\n",
        "          8.08288120e+02,   2.67233900e+03,   3.98107171e+03]])"
       ]
      }
     ],
     "prompt_number": 11
    },
    {
     "cell_type": "code",
     "collapsed": true,
     "input": [
      "ws = []\n",
      "for i in range(10):\n",
      "    ws.append(EMw1(fparams))"
     ],
     "language": "python",
     "metadata": {},
     "outputs": [
      {
       "output_type": "stream",
       "stream": "stderr",
       "text": [
        "/home/ian/Grad/Research/Disks/Starfish/Starfish/emulator.py:450: DeprecationWarning: using a non-integer number instead of an integer will result in an error in the future\n",
        "  return np.random.multivariate_normal(self.mu, self.sig)\n",
        "/home/ian/Grad/Research/Disks/Starfish/Starfish/emulator.py:450: DeprecationWarning: using a non-integer number instead of an integer will result in an error in the future\n",
        "  return np.random.multivariate_normal(self.mu, self.sig)\n",
        "/home/ian/Grad/Research/Disks/Starfish/Starfish/emulator.py:450: DeprecationWarning: using a non-integer number instead of an integer will result in an error in the future\n",
        "  return np.random.multivariate_normal(self.mu, self.sig)\n",
        "/home/ian/Grad/Research/Disks/Starfish/Starfish/emulator.py:450: DeprecationWarning: using a non-integer number instead of an integer will result in an error in the future\n",
        "  return np.random.multivariate_normal(self.mu, self.sig)\n"
       ]
      },
      {
       "output_type": "stream",
       "stream": "stderr",
       "text": [
        "/home/ian/Grad/Research/Disks/Starfish/Starfish/emulator.py:450: DeprecationWarning: using a non-integer number instead of an integer will result in an error in the future\n",
        "  return np.random.multivariate_normal(self.mu, self.sig)\n",
        "/home/ian/Grad/Research/Disks/Starfish/Starfish/emulator.py:450: DeprecationWarning: using a non-integer number instead of an integer will result in an error in the future\n",
        "  return np.random.multivariate_normal(self.mu, self.sig)\n",
        "/home/ian/Grad/Research/Disks/Starfish/Starfish/emulator.py:450: DeprecationWarning: using a non-integer number instead of an integer will result in an error in the future\n",
        "  return np.random.multivariate_normal(self.mu, self.sig)\n",
        "/home/ian/Grad/Research/Disks/Starfish/Starfish/emulator.py:450: DeprecationWarning: using a non-integer number instead of an integer will result in an error in the future\n",
        "  return np.random.multivariate_normal(self.mu, self.sig)\n"
       ]
      },
      {
       "output_type": "stream",
       "stream": "stderr",
       "text": [
        "/home/ian/Grad/Research/Disks/Starfish/Starfish/emulator.py:450: DeprecationWarning: using a non-integer number instead of an integer will result in an error in the future\n",
        "  return np.random.multivariate_normal(self.mu, self.sig)\n",
        "/home/ian/Grad/Research/Disks/Starfish/Starfish/emulator.py:450: DeprecationWarning: using a non-integer number instead of an integer will result in an error in the future\n",
        "  return np.random.multivariate_normal(self.mu, self.sig)\n"
       ]
      }
     ],
     "prompt_number": 21
    },
    {
     "cell_type": "code",
     "collapsed": false,
     "input": [
      "for wws in ws:\n",
      "    plt.plot(wws)\n",
      "plt.show()"
     ],
     "language": "python",
     "metadata": {},
     "outputs": [
      {
       "output_type": "stream",
       "stream": "stderr",
       "text": [
        "/usr/lib/python3.4/site-packages/matplotlib/texmanager.py:575: DeprecationWarning: npy_PyFile_Dup is deprecated, use npy_PyFile_Dup2\n",
        "  X = read_png(os.path.join(self.texcache, pngfile))\n",
        "/usr/lib/python3.4/site-packages/matplotlib/texmanager.py:575: DeprecationWarning: npy_PyFile_Dup is deprecated, use npy_PyFile_Dup2\n",
        "  X = read_png(os.path.join(self.texcache, pngfile))\n"
       ]
      },
      {
       "output_type": "stream",
       "stream": "stderr",
       "text": [
        "/usr/lib/python3.4/site-packages/matplotlib/texmanager.py:575: DeprecationWarning: npy_PyFile_Dup is deprecated, use npy_PyFile_Dup2\n",
        "  X = read_png(os.path.join(self.texcache, pngfile))\n",
        "/usr/lib/python3.4/site-packages/matplotlib/texmanager.py:575: DeprecationWarning: npy_PyFile_Dup is deprecated, use npy_PyFile_Dup2\n",
        "  X = read_png(os.path.join(self.texcache, pngfile))\n",
        "/usr/lib/python3.4/site-packages/matplotlib/texmanager.py:575: DeprecationWarning: npy_PyFile_Dup is deprecated, use npy_PyFile_Dup2\n",
        "  X = read_png(os.path.join(self.texcache, pngfile))\n",
        "/usr/lib/python3.4/site-packages/matplotlib/texmanager.py:575: DeprecationWarning: npy_PyFile_Dup is deprecated, use npy_PyFile_Dup2\n",
        "  X = read_png(os.path.join(self.texcache, pngfile))\n",
        "/usr/lib/python3.4/site-packages/matplotlib/texmanager.py:575: DeprecationWarning: npy_PyFile_Dup is deprecated, use npy_PyFile_Dup2\n",
        "  X = read_png(os.path.join(self.texcache, pngfile))\n",
        "/usr/lib/python3.4/site-packages/matplotlib/texmanager.py:575: DeprecationWarning: npy_PyFile_Dup is deprecated, use npy_PyFile_Dup2\n",
        "  X = read_png(os.path.join(self.texcache, pngfile))\n"
       ]
      }
     ],
     "prompt_number": 23
    },
    {
     "cell_type": "code",
     "collapsed": false,
     "input": [
      "EMw1(np.array([[3000, 5.0, 0.0], [3100, 5.0, 0.0]]))"
     ],
     "language": "python",
     "metadata": {},
     "outputs": [
      {
       "output_type": "stream",
       "stream": "stdout",
       "text": [
        "(2,) <class 'numpy.ndarray'> (2, 2) <class 'numpy.matrixlib.defmatrix.matrix'>\n",
        "Weight(s) is(are) [ 3.2938177  2.5536292]\n"
       ]
      },
      {
       "output_type": "stream",
       "stream": "stderr",
       "text": [
        "/home/ian/Grad/Research/Disks/Starfish/Starfish/emulator.py:397: DeprecationWarning: using a non-integer number instead of an integer will result in an error in the future\n",
        "  def __call__(self, *args):\n"
       ]
      }
     ],
     "prompt_number": 33
    },
    {
     "cell_type": "code",
     "collapsed": false,
     "input": [
      "EM = emulator.Emulator(p0)"
     ],
     "language": "python",
     "metadata": {},
     "outputs": [
      {
       "output_type": "stream",
       "stream": "stderr",
       "text": [
        "ERROR:astropy:NameError: name 'p0' is not defined\n"
       ]
      },
      {
       "output_type": "stream",
       "stream": "stdout",
       "text": [
        "ERROR: NameError: name 'p0' is not defined [IPython.core.interactiveshell]\n"
       ]
      },
      {
       "ename": "NameError",
       "evalue": "name 'p0' is not defined",
       "output_type": "pyerr",
       "traceback": [
        "\u001b[1;31m---------------------------------------------------------------------------\u001b[0m\n\u001b[1;31mNameError\u001b[0m                                 Traceback (most recent call last)",
        "\u001b[1;32m<ipython-input-10-ff9748a437bf>\u001b[0m in \u001b[0;36m<module>\u001b[1;34m()\u001b[0m\n\u001b[1;32m----> 1\u001b[1;33m \u001b[0mEM\u001b[0m \u001b[1;33m=\u001b[0m \u001b[0memulator\u001b[0m\u001b[1;33m.\u001b[0m\u001b[0mEmulator\u001b[0m\u001b[1;33m(\u001b[0m\u001b[0mp0\u001b[0m\u001b[1;33m)\u001b[0m\u001b[1;33m\u001b[0m\u001b[0m\n\u001b[0m",
        "\u001b[1;31mNameError\u001b[0m: name 'p0' is not defined"
       ]
      }
     ],
     "prompt_number": 10
    },
    {
     "cell_type": "code",
     "collapsed": false,
     "input": [
      "specs = []\n",
      "for i in range(10):\n",
      "    \n",
      "    #EM.emulator_params = samples[np.random.choice(indexes)]\n",
      "    spec = EM(np.array([3000., 5.0, 1.0]))\n",
      "    #spec = EM(emulator.test_params)\n",
      "    specs.append(spec)\n",
      "    \n",
      "#specs = [EM() for i in range(3)]"
     ],
     "language": "python",
     "metadata": {},
     "outputs": [
      {
       "output_type": "stream",
       "stream": "stderr",
       "text": [
        "/home/ian/Grad/Research/Disks/Starfish/Starfish/emulator.py:307: DeprecationWarning: using a non-integer number instead of an integer will result in an error in the future\n",
        "  return np.random.multivariate_normal(self.mu, self.sig)\n",
        "/home/ian/Grad/Research/Disks/Starfish/Starfish/emulator.py:307: DeprecationWarning: using a non-integer number instead of an integer will result in an error in the future\n",
        "  return np.random.multivariate_normal(self.mu, self.sig)\n"
       ]
      },
      {
       "output_type": "stream",
       "stream": "stdout",
       "text": [
        "Weights are [ 0.71809371  0.20672324  0.32298818  1.55509378 -0.36002943]\n",
        "Weights are [-0.94115445  1.0244827   1.2547815   0.61333634 -1.17891124]"
       ]
      },
      {
       "output_type": "stream",
       "stream": "stdout",
       "text": [
        "\n",
        "Weights are [-0.7312839   0.83275566  0.09807748  1.50692608  1.02131029]"
       ]
      },
      {
       "output_type": "stream",
       "stream": "stderr",
       "text": [
        "/home/ian/Grad/Research/Disks/Starfish/Starfish/emulator.py:307: DeprecationWarning: using a non-integer number instead of an integer will result in an error in the future\n",
        "  return np.random.multivariate_normal(self.mu, self.sig)\n",
        "/home/ian/Grad/Research/Disks/Starfish/Starfish/emulator.py:307: DeprecationWarning: using a non-integer number instead of an integer will result in an error in the future\n",
        "  return np.random.multivariate_normal(self.mu, self.sig)\n"
       ]
      },
      {
       "output_type": "stream",
       "stream": "stdout",
       "text": [
        "\n",
        "Weights are [ 1.3821733  -1.18045715 -0.63541114  1.04079537 -0.3528785 ]"
       ]
      },
      {
       "output_type": "stream",
       "stream": "stdout",
       "text": [
        "\n",
        "Weights are [ 0.490866   -0.43188504  0.56170454  0.01098367 -0.14092729]"
       ]
      },
      {
       "output_type": "stream",
       "stream": "stderr",
       "text": [
        "/home/ian/Grad/Research/Disks/Starfish/Starfish/emulator.py:307: DeprecationWarning: using a non-integer number instead of an integer will result in an error in the future\n",
        "  return np.random.multivariate_normal(self.mu, self.sig)\n",
        "/home/ian/Grad/Research/Disks/Starfish/Starfish/emulator.py:307: DeprecationWarning: using a non-integer number instead of an integer will result in an error in the future\n",
        "  return np.random.multivariate_normal(self.mu, self.sig)\n"
       ]
      },
      {
       "output_type": "stream",
       "stream": "stdout",
       "text": [
        "\n",
        "Weights are [-1.53219062  2.05239757 -1.0274516  -0.61614278 -1.42617571]"
       ]
      },
      {
       "output_type": "stream",
       "stream": "stdout",
       "text": [
        "\n",
        "Weights are [-0.06170525  1.54965622 -0.26361481 -2.06389359  0.63999355]"
       ]
      },
      {
       "output_type": "stream",
       "stream": "stderr",
       "text": [
        "/home/ian/Grad/Research/Disks/Starfish/Starfish/emulator.py:307: DeprecationWarning: using a non-integer number instead of an integer will result in an error in the future\n",
        "  return np.random.multivariate_normal(self.mu, self.sig)\n",
        "/home/ian/Grad/Research/Disks/Starfish/Starfish/emulator.py:307: DeprecationWarning: using a non-integer number instead of an integer will result in an error in the future\n",
        "  return np.random.multivariate_normal(self.mu, self.sig)\n"
       ]
      },
      {
       "output_type": "stream",
       "stream": "stdout",
       "text": [
        "\n",
        "Weights are [-1.21929041 -1.23386651  0.34554016  0.36336671 -0.15716957]"
       ]
      },
      {
       "output_type": "stream",
       "stream": "stdout",
       "text": [
        "\n",
        "Weights are [-1.982941    0.69299706  0.27714882  0.6559082   0.145482  ]"
       ]
      },
      {
       "output_type": "stream",
       "stream": "stderr",
       "text": [
        "/home/ian/Grad/Research/Disks/Starfish/Starfish/emulator.py:307: DeprecationWarning: using a non-integer number instead of an integer will result in an error in the future\n",
        "  return np.random.multivariate_normal(self.mu, self.sig)\n",
        "/home/ian/Grad/Research/Disks/Starfish/Starfish/emulator.py:307: DeprecationWarning: using a non-integer number instead of an integer will result in an error in the future\n",
        "  return np.random.multivariate_normal(self.mu, self.sig)\n"
       ]
      },
      {
       "output_type": "stream",
       "stream": "stdout",
       "text": [
        "\n",
        "Weights are [ 0.94337752 -1.02966979 -0.63435324  0.91705747  0.90557271]"
       ]
      },
      {
       "output_type": "stream",
       "stream": "stdout",
       "text": [
        "\n"
       ]
      }
     ],
     "prompt_number": 49
    },
    {
     "cell_type": "code",
     "collapsed": false,
     "input": [
      "for spec in specs:\n",
      "    plt.plot(spec, color=\"k\", lw=1)\n",
      "#plt.plot(emulator.test_spectrum, color=\"b\")\n",
      "plt.plot(flux, color=\"b\")\n",
      "#plt.plot(recons, color=\"r\")\n",
      "plt.show()"
     ],
     "language": "python",
     "metadata": {},
     "outputs": [
      {
       "output_type": "stream",
       "stream": "stderr",
       "text": [
        "ERROR:astropy:NameError: name 'flux' is not defined\n"
       ]
      },
      {
       "output_type": "stream",
       "stream": "stdout",
       "text": [
        "ERROR: NameError: name 'flux' is not defined [IPython.core.interactiveshell]\n"
       ]
      },
      {
       "ename": "NameError",
       "evalue": "name 'flux' is not defined",
       "output_type": "pyerr",
       "traceback": [
        "\u001b[1;31m---------------------------------------------------------------------------\u001b[0m\n\u001b[1;31mNameError\u001b[0m                                 Traceback (most recent call last)",
        "\u001b[1;32m<ipython-input-8-216818c1c30a>\u001b[0m in \u001b[0;36m<module>\u001b[1;34m()\u001b[0m\n\u001b[0;32m      2\u001b[0m     \u001b[0mplt\u001b[0m\u001b[1;33m.\u001b[0m\u001b[0mplot\u001b[0m\u001b[1;33m(\u001b[0m\u001b[0mspec\u001b[0m\u001b[1;33m,\u001b[0m \u001b[0mcolor\u001b[0m\u001b[1;33m=\u001b[0m\u001b[1;34m\"k\"\u001b[0m\u001b[1;33m,\u001b[0m \u001b[0mlw\u001b[0m\u001b[1;33m=\u001b[0m\u001b[1;36m1\u001b[0m\u001b[1;33m)\u001b[0m\u001b[1;33m\u001b[0m\u001b[0m\n\u001b[0;32m      3\u001b[0m \u001b[1;31m#plt.plot(emulator.test_spectrum, color=\"b\")\u001b[0m\u001b[1;33m\u001b[0m\u001b[1;33m\u001b[0m\u001b[0m\n\u001b[1;32m----> 4\u001b[1;33m \u001b[0mplt\u001b[0m\u001b[1;33m.\u001b[0m\u001b[0mplot\u001b[0m\u001b[1;33m(\u001b[0m\u001b[0mflux\u001b[0m\u001b[1;33m,\u001b[0m \u001b[0mcolor\u001b[0m\u001b[1;33m=\u001b[0m\u001b[1;34m\"b\"\u001b[0m\u001b[1;33m)\u001b[0m\u001b[1;33m\u001b[0m\u001b[0m\n\u001b[0m\u001b[0;32m      5\u001b[0m \u001b[1;31m#plt.plot(recons, color=\"r\")\u001b[0m\u001b[1;33m\u001b[0m\u001b[1;33m\u001b[0m\u001b[0m\n\u001b[0;32m      6\u001b[0m \u001b[0mplt\u001b[0m\u001b[1;33m.\u001b[0m\u001b[0mshow\u001b[0m\u001b[1;33m(\u001b[0m\u001b[1;33m)\u001b[0m\u001b[1;33m\u001b[0m\u001b[0m\n",
        "\u001b[1;31mNameError\u001b[0m: name 'flux' is not defined"
       ]
      }
     ],
     "prompt_number": 8
    },
    {
     "cell_type": "code",
     "collapsed": false,
     "input": [
      "%timeit EM.emulator_params = p0"
     ],
     "language": "python",
     "metadata": {},
     "outputs": []
    },
    {
     "cell_type": "code",
     "collapsed": false,
     "input": [
      "%timeit spec = EM(np.array([0.1, 0.1, 0.1]))"
     ],
     "language": "python",
     "metadata": {},
     "outputs": []
    },
    {
     "cell_type": "code",
     "collapsed": false,
     "input": [
      "%timeit EM.emulator_params = p0; spec = EM(np.array([0.1, 0.1, 0.1]))"
     ],
     "language": "python",
     "metadata": {},
     "outputs": []
    },
    {
     "cell_type": "code",
     "collapsed": false,
     "input": [
      "test_weights = np.empty((5,))\n",
      "for i in range(emulator.ncomp):\n",
      "    test_weights[i] = np.sum(emulator.pcomps[i] * (flux - emulator.flux_mean)/emulator.flux_std)"
     ],
     "language": "python",
     "metadata": {},
     "outputs": [],
     "prompt_number": 20
    },
    {
     "cell_type": "code",
     "collapsed": false,
     "input": [
      "test_weights"
     ],
     "language": "python",
     "metadata": {},
     "outputs": [
      {
       "metadata": {},
       "output_type": "pyout",
       "prompt_number": 21,
       "text": [
        "array([-27.0237955 ,  -0.30274754,  -8.78990956,  -1.48223198,   0.40836872])"
       ]
      }
     ],
     "prompt_number": 21
    },
    {
     "cell_type": "code",
     "collapsed": false,
     "input": [
      "np.sum(emulator.pcomps[0] * emulator.fluxes[37])"
     ],
     "language": "python",
     "metadata": {},
     "outputs": [
      {
       "metadata": {},
       "output_type": "pyout",
       "prompt_number": 35,
       "text": [
        "-20.234745982608363"
       ]
      }
     ],
     "prompt_number": 35
    },
    {
     "cell_type": "code",
     "collapsed": false,
     "input": [
      "recons = emulator.reconstruct(test_weights)"
     ],
     "language": "python",
     "metadata": {},
     "outputs": [],
     "prompt_number": 29
    },
    {
     "cell_type": "code",
     "collapsed": false,
     "input": [
      "plt.plot(flux)\n",
      "plt.plot(recons)\n",
      "plt.show()"
     ],
     "language": "python",
     "metadata": {},
     "outputs": []
    },
    {
     "cell_type": "markdown",
     "metadata": {},
     "source": [
      "## Priors"
     ]
    },
    {
     "cell_type": "code",
     "collapsed": false,
     "input": [
      "def prior_wi(lw, aw, bw):\n",
      "    return lw**(aw - 1.0) * np.exp(-bw * lw)\n",
      "\n",
      "def prior_rho(rho, br):\n",
      "    return (1 - rho)**(br - 1.)\n",
      "\n",
      "def prior_lp(lp, ap, bp):\n",
      "    return - (ap - 1) * np.log(lp) * bp * lp\n",
      "\n",
      "def gamma_prior(x, a, b):\n",
      "    return b**a * x**(a - 1) * np.exp(-b * x)/math.gamma(a)\n",
      "\n"
     ],
     "language": "python",
     "metadata": {},
     "outputs": [],
     "prompt_number": 1
    },
    {
     "cell_type": "code",
     "collapsed": false,
     "input": [
      "lw = np.linspace(0., 5.)\n",
      "pw = prior_wi(lw, 5., 5.)\n",
      "plt.plot(lw, pw)\n",
      "plt.show()"
     ],
     "language": "python",
     "metadata": {},
     "outputs": [],
     "prompt_number": 6
    },
    {
     "cell_type": "code",
     "collapsed": false,
     "input": [
      "\n",
      "\n",
      "\n",
      "rs = np.linspace(0, 1.)\n",
      "pr = prior_rho(rs, 0.1)\n",
      "plt.plot(rs, pr)\n",
      "plt.show()\n",
      "\n",
      "print(emulator.a_Pprime)\n",
      "print(emulator.b_Pprime[0,0])\n",
      "\n",
      "import math\n",
      "xs = np.linspace(0, 10)\n",
      "gps = gamma_prior(xs, 1.0, 0.0001)\n",
      "plt.plot(xs, gps)\n",
      "plt.show()\n",
      "\n",
      "lps = np.logspace(-4, 8)\n",
      "plps = prior_lp(lps, emulator.a_Pprime, emulator.b_Pprime[0,0])\n",
      "plt.semilogx(lps, plps)\n",
      "plt.show()"
     ],
     "language": "python",
     "metadata": {},
     "outputs": []
    },
    {
     "cell_type": "markdown",
     "metadata": {},
     "source": [
      "## Examining weights"
     ]
    },
    {
     "cell_type": "code",
     "collapsed": false,
     "input": [
      "w[37]"
     ],
     "language": "python",
     "metadata": {},
     "outputs": [
      {
       "metadata": {},
       "output_type": "pyout",
       "prompt_number": 30,
       "text": [
        "array([-20.23474598])"
       ]
      }
     ],
     "prompt_number": 30
    },
    {
     "cell_type": "code",
     "collapsed": false,
     "input": [
      "plt.hist(w1)\n",
      "plt.show()"
     ],
     "language": "python",
     "metadata": {},
     "outputs": []
    },
    {
     "cell_type": "code",
     "collapsed": false,
     "input": [
      "emulator.gparams[4::16, :]"
     ],
     "language": "python",
     "metadata": {},
     "outputs": [
      {
       "metadata": {},
       "output_type": "pyout",
       "prompt_number": 20,
       "text": [
        "array([[  2.80000000e+03,   5.00000000e+00,  -5.00000000e-01],\n",
        "       [  2.90000000e+03,   5.00000000e+00,  -5.00000000e-01],\n",
        "       [  3.00000000e+03,   5.00000000e+00,  -5.00000000e-01],\n",
        "       [  3.10000000e+03,   5.00000000e+00,  -5.00000000e-01],\n",
        "       [  3.20000000e+03,   5.00000000e+00,  -5.00000000e-01],\n",
        "       [  3.30000000e+03,   5.00000000e+00,  -5.00000000e-01],\n",
        "       [  3.40000000e+03,   5.00000000e+00,  -5.00000000e-01]])"
       ]
      }
     ],
     "prompt_number": 20
    },
    {
     "cell_type": "code",
     "collapsed": false,
     "input": [
      "w1[3::16]"
     ],
     "language": "python",
     "metadata": {},
     "outputs": [
      {
       "metadata": {},
       "output_type": "pyout",
       "prompt_number": 19,
       "text": [
        "array([[-72.47556003],\n",
        "       [-52.13128721],\n",
        "       [-38.11325496],\n",
        "       [-31.31858234],\n",
        "       [-29.23687366],\n",
        "       [-27.20519788],\n",
        "       [-22.05587575]])"
       ]
      }
     ],
     "prompt_number": 19
    },
    {
     "cell_type": "code",
     "collapsed": false,
     "input": [
      "emulator.gparams[35:48:4,:]"
     ],
     "language": "python",
     "metadata": {},
     "outputs": [
      {
       "metadata": {},
       "output_type": "pyout",
       "prompt_number": 20,
       "text": [
        "array([[  3.00000000e+03,   4.50000000e+00,   1.00000000e+00],\n",
        "       [  3.00000000e+03,   5.00000000e+00,   1.00000000e+00],\n",
        "       [  3.00000000e+03,   5.50000000e+00,   1.00000000e+00],\n",
        "       [  3.00000000e+03,   6.00000000e+00,   1.00000000e+00]])"
       ]
      }
     ],
     "prompt_number": 20
    },
    {
     "cell_type": "code",
     "collapsed": false,
     "input": [
      "w1[35:48:4]"
     ],
     "language": "python",
     "metadata": {},
     "outputs": [
      {
       "metadata": {},
       "output_type": "pyout",
       "prompt_number": 44,
       "text": [
        "array([[-38.11325496],\n",
        "       [-26.86558264],\n",
        "       [-25.05821111],\n",
        "       [-28.69983721]])"
       ]
      }
     ],
     "prompt_number": 44
    },
    {
     "cell_type": "code",
     "collapsed": false,
     "input": [
      "emulator.gparams[36:40, :]"
     ],
     "language": "python",
     "metadata": {},
     "outputs": [
      {
       "metadata": {},
       "output_type": "pyout",
       "prompt_number": 23,
       "text": [
        "array([[  3.00000000e+03,   5.00000000e+00,  -5.00000000e-01],\n",
        "       [  3.00000000e+03,   5.00000000e+00,   0.00000000e+00],\n",
        "       [  3.00000000e+03,   5.00000000e+00,   5.00000000e-01],\n",
        "       [  3.00000000e+03,   5.00000000e+00,   1.00000000e+00]])"
       ]
      }
     ],
     "prompt_number": 23
    },
    {
     "cell_type": "code",
     "collapsed": false,
     "input": [
      "w1[36:40]"
     ],
     "language": "python",
     "metadata": {},
     "outputs": [
      {
       "metadata": {},
       "output_type": "pyout",
       "prompt_number": 24,
       "text": [
        "array([[ -4.07561709],\n",
        "       [-20.77026237],\n",
        "       [-24.32230871],\n",
        "       [-26.86558264]])"
       ]
      }
     ],
     "prompt_number": 24
    },
    {
     "cell_type": "code",
     "collapsed": false,
     "input": [
      "for i,params in enumerate(emulator.gparams):\n",
      "    print(i, params)"
     ],
     "language": "python",
     "metadata": {},
     "outputs": []
    },
    {
     "cell_type": "markdown",
     "metadata": {},
     "source": [
      "## Plot the eigenspectra"
     ]
    },
    {
     "cell_type": "code",
     "collapsed": false,
     "input": [
      "wl = emulator.grid.wl[emulator.ind]"
     ],
     "language": "python",
     "metadata": {},
     "outputs": [],
     "prompt_number": 20
    },
    {
     "cell_type": "code",
     "collapsed": false,
     "input": [
      "fig = plt.figure(figsize=(8, 8))\n",
      "ax = fig.add_subplot(111)\n",
      "\n",
      "    \n",
      "ax.xaxis.set_major_formatter(FSF(\"%.1f\"))\n",
      "ax.set_xlabel(r\"$\\lambda [\\mu {\\rm m}]$\")\n",
      "ax.set_ylabel(r\"$\\propto f_\\lambda$\")\n",
      "    \n",
      "ax.set_xlim(2.15, 2.3)\n",
      "ax.set_title(\"Eigenspectra\")\n",
      "\n",
      "for i,comp in enumerate(emulator.pcomps):\n",
      "    ax.plot(wl*1e-4, comp, label=\"{}\".format(i+1))\n",
      "    \n",
      "ax.legend(loc=\"lower left\")\n",
      "\n",
      "fig.savefig(\"../plots/emulator/eigenspectra.png\")\n",
      "plt.show()\n"
     ],
     "language": "python",
     "metadata": {},
     "outputs": [
      {
       "output_type": "stream",
       "stream": "stderr",
       "text": [
        "/usr/lib/python3.4/site-packages/matplotlib/texmanager.py:575: DeprecationWarning: npy_PyFile_Dup is deprecated, use npy_PyFile_Dup2\n",
        "  X = read_png(os.path.join(self.texcache, pngfile))\n",
        "/usr/lib/python3.4/site-packages/matplotlib/backends/backend_agg.py:517: DeprecationWarning: npy_PyFile_Dup is deprecated, use npy_PyFile_Dup2\n",
        "  filename_or_obj, self.figure.dpi)\n",
        "/usr/lib/python3.4/site-packages/matplotlib/texmanager.py:575: DeprecationWarning: npy_PyFile_Dup is deprecated, use npy_PyFile_Dup2\n",
        "  X = read_png(os.path.join(self.texcache, pngfile))\n"
       ]
      }
     ],
     "prompt_number": 22
    },
    {
     "cell_type": "code",
     "collapsed": false,
     "input": [
      "fig = plt.figure(figsize=(8, 5))\n",
      "ax = fig.add_subplot(111)\n",
      "ax.xaxis.set_major_formatter(FSF(\"%.1f\"))\n",
      "ax.set_xlabel(r\"$\\lambda [\\mu {\\rm m}]$\")\n",
      "ax.set_ylabel(r\"$\\propto f_\\lambda$\")\n",
      "ax.plot(wl*1e-4, emulator.flux_mean)\n",
      "ax.set_title(\"Mean flux\")\n",
      "fig.savefig(\"../plots/emulator/mean.png\")\n",
      "plt.show()"
     ],
     "language": "python",
     "metadata": {},
     "outputs": [
      {
       "output_type": "stream",
       "stream": "stderr",
       "text": [
        "/usr/lib/python3.4/site-packages/matplotlib/texmanager.py:575: DeprecationWarning: npy_PyFile_Dup is deprecated, use npy_PyFile_Dup2\n",
        "  X = read_png(os.path.join(self.texcache, pngfile))\n",
        "/usr/lib/python3.4/site-packages/matplotlib/texmanager.py:575: DeprecationWarning: npy_PyFile_Dup is deprecated, use npy_PyFile_Dup2\n",
        "  X = read_png(os.path.join(self.texcache, pngfile))\n"
       ]
      },
      {
       "output_type": "stream",
       "stream": "stderr",
       "text": [
        "/usr/lib/python3.4/site-packages/matplotlib/texmanager.py:575: DeprecationWarning: npy_PyFile_Dup is deprecated, use npy_PyFile_Dup2\n",
        "  X = read_png(os.path.join(self.texcache, pngfile))\n",
        "/usr/lib/python3.4/site-packages/matplotlib/texmanager.py:575: DeprecationWarning: npy_PyFile_Dup is deprecated, use npy_PyFile_Dup2\n",
        "  X = read_png(os.path.join(self.texcache, pngfile))\n",
        "/usr/lib/python3.4/site-packages/matplotlib/texmanager.py:575: DeprecationWarning: npy_PyFile_Dup is deprecated, use npy_PyFile_Dup2\n",
        "  X = read_png(os.path.join(self.texcache, pngfile))\n",
        "/usr/lib/python3.4/site-packages/matplotlib/texmanager.py:575: DeprecationWarning: npy_PyFile_Dup is deprecated, use npy_PyFile_Dup2\n",
        "  X = read_png(os.path.join(self.texcache, pngfile))\n"
       ]
      },
      {
       "output_type": "stream",
       "stream": "stderr",
       "text": [
        "/usr/lib/python3.4/site-packages/matplotlib/backends/backend_agg.py:517: DeprecationWarning: npy_PyFile_Dup is deprecated, use npy_PyFile_Dup2\n",
        "  filename_or_obj, self.figure.dpi)\n"
       ]
      }
     ],
     "prompt_number": 26
    },
    {
     "cell_type": "code",
     "collapsed": false,
     "input": [
      "fig = plt.figure(figsize=(8, 5))\n",
      "ax = fig.add_subplot(111)\n",
      "ax.xaxis.set_major_formatter(FSF(\"%.1f\"))\n",
      "ax.set_xlabel(r\"$\\lambda [\\mu {\\rm m}]$\")\n",
      "ax.set_ylabel(r\"$\\propto f_\\lambda$\")\n",
      "ax.plot(wl*1e-4, emulator.flux_std)\n",
      "ax.set_title(\"Std flux\")\n",
      "fig.savefig(\"../plots/emulator/std.png\")\n",
      "plt.show()"
     ],
     "language": "python",
     "metadata": {},
     "outputs": [
      {
       "output_type": "stream",
       "stream": "stderr",
       "text": [
        "/usr/lib/python3.4/site-packages/matplotlib/texmanager.py:575: DeprecationWarning: npy_PyFile_Dup is deprecated, use npy_PyFile_Dup2\n",
        "  X = read_png(os.path.join(self.texcache, pngfile))\n",
        "/usr/lib/python3.4/site-packages/matplotlib/backends/backend_agg.py:517: DeprecationWarning: npy_PyFile_Dup is deprecated, use npy_PyFile_Dup2\n",
        "  filename_or_obj, self.figure.dpi)\n",
        "/usr/lib/python3.4/site-packages/matplotlib/texmanager.py:575: DeprecationWarning: npy_PyFile_Dup is deprecated, use npy_PyFile_Dup2\n",
        "  X = read_png(os.path.join(self.texcache, pngfile))\n"
       ]
      }
     ],
     "prompt_number": 28
    },
    {
     "cell_type": "code",
     "collapsed": false,
     "input": [
      "w = emulator.get_w()"
     ],
     "language": "python",
     "metadata": {},
     "outputs": [
      {
       "output_type": "stream",
       "stream": "stdout",
       "text": [
        "Using 112 spectra with Npix = 2067\n",
        "Shape of PCA components (112, 2067)"
       ]
      },
      {
       "output_type": "stream",
       "stream": "stdout",
       "text": [
        "\n",
        "Keeping only the first 5 components\n",
        "Test spectrum is None\n",
        "a_Pprime 115473.0"
       ]
      },
      {
       "output_type": "stream",
       "stream": "stdout",
       "text": [
        "\n",
        "b_Pprime 40.324129073934074\n",
        "(112, 2067)\n",
        "(2067,)\n"
       ]
      }
     ],
     "prompt_number": 14
    },
    {
     "cell_type": "code",
     "collapsed": false,
     "input": [
      "recons_large = emulator.reconstruct_full(emulator.PHI, w)"
     ],
     "language": "python",
     "metadata": {},
     "outputs": [
      {
       "output_type": "stream",
       "stream": "stdout",
       "text": [
        "Using 112 spectra with Npix = 2067\n",
        "Shape of PCA components (112, 2067)"
       ]
      },
      {
       "output_type": "stream",
       "stream": "stdout",
       "text": [
        "\n",
        "Keeping only the first 5 components\n",
        "Test spectrum is None\n",
        "a_Pprime 115473.0"
       ]
      },
      {
       "output_type": "stream",
       "stream": "stdout",
       "text": [
        "\n",
        "b_Pprime 40.324129073934074\n"
       ]
      }
     ],
     "prompt_number": 27
    },
    {
     "cell_type": "code",
     "collapsed": false,
     "input": [
      "plt.plot(np.ravel(emulator.fluxes * emulator.flux_std + emulator.flux_mean))\n",
      "plt.plot(recons_large)\n",
      "plt.show()"
     ],
     "language": "python",
     "metadata": {},
     "outputs": [],
     "prompt_number": 28
    },
    {
     "cell_type": "code",
     "collapsed": false,
     "input": [],
     "language": "python",
     "metadata": {},
     "outputs": []
    }
   ],
   "metadata": {}
  }
 ]
}