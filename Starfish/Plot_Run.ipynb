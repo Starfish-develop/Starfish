{
 "metadata": {
  "name": "",
  "signature": "sha256:85aaa252bc9af5f325e2b47b962539785995fbd2d7befe8439dec9089fc281ce"
 },
 "nbformat": 3,
 "nbformat_minor": 0,
 "worksheets": [
  {
   "cells": [
    {
     "cell_type": "code",
     "collapsed": false,
     "input": [
      "import numpy as np\n",
      "import matplotlib.pyplot as plt\n",
      "import triangle"
     ],
     "language": "python",
     "metadata": {},
     "outputs": [],
     "prompt_number": 3
    },
    {
     "cell_type": "code",
     "collapsed": false,
     "input": [
      "samples = np.load(\"emulator_data/samples.npy\")"
     ],
     "language": "python",
     "metadata": {},
     "outputs": [],
     "prompt_number": 2
    },
    {
     "cell_type": "code",
     "collapsed": false,
     "input": [
      "labels = [r\"$\\log_{10}\" + r\"\\lambda_{w}$\".format(w=i) for i in range(1,6)]"
     ],
     "language": "python",
     "metadata": {},
     "outputs": [],
     "prompt_number": 20
    },
    {
     "cell_type": "code",
     "collapsed": false,
     "input": [
      "fig = triangle.corner(samples[:, 1:6], labels=labels, quantiles=[0.16, 0.5, 0.84], show_titles=True,)\n",
      "plt.show()\n",
      "\n",
      "#fig.savefig(\"triangle.png\")"
     ],
     "language": "python",
     "metadata": {},
     "outputs": [
      {
       "output_type": "stream",
       "stream": "stdout",
       "text": [
        "Quantiles:\n",
        "<zip object at 0x7fa8f746f188>\n",
        "Quantiles:"
       ]
      },
      {
       "output_type": "stream",
       "stream": "stdout",
       "text": [
        "\n",
        "<zip object at 0x7fa8f7b054c8>\n",
        "Quantiles:"
       ]
      },
      {
       "output_type": "stream",
       "stream": "stdout",
       "text": [
        "\n",
        "<zip object at 0x7fa8f7753dc8>\n",
        "Quantiles:"
       ]
      },
      {
       "output_type": "stream",
       "stream": "stdout",
       "text": [
        "\n",
        "<zip object at 0x7fa8f7a47988>\n",
        "Quantiles:"
       ]
      },
      {
       "output_type": "stream",
       "stream": "stdout",
       "text": [
        "\n",
        "<zip object at 0x7fa8f7335608>\n"
       ]
      }
     ],
     "prompt_number": 22
    },
    {
     "cell_type": "code",
     "collapsed": false,
     "input": [
      "axes = [r\"T_\\textrm{eff}\", r\"\\log g\", r\"[{\\rm Fe}/{\\rm H}]\"]\n",
      "labels = []\n",
      "for i in range(1,6):\n",
      "    for axis in axes:\n",
      "        labels.append(r\"$\\rho_{\" + \"{},\".format(i) + axis + \"}$\")"
     ],
     "language": "python",
     "metadata": {},
     "outputs": [],
     "prompt_number": 34
    },
    {
     "cell_type": "code",
     "collapsed": false,
     "input": [
      "labels"
     ],
     "language": "python",
     "metadata": {},
     "outputs": [
      {
       "metadata": {},
       "output_type": "pyout",
       "prompt_number": 35,
       "text": [
        "['$\\\\rho_{1,T_\\\\textrm{eff}}$',\n",
        " '$\\\\rho_{1,\\\\log g}$',\n",
        " '$\\\\rho_{1,[{\\\\rm Fe}/{\\\\rm H}]}$',\n",
        " '$\\\\rho_{2,T_\\\\textrm{eff}}$',\n",
        " '$\\\\rho_{2,\\\\log g}$',\n",
        " '$\\\\rho_{2,[{\\\\rm Fe}/{\\\\rm H}]}$',\n",
        " '$\\\\rho_{3,T_\\\\textrm{eff}}$',\n",
        " '$\\\\rho_{3,\\\\log g}$',\n",
        " '$\\\\rho_{3,[{\\\\rm Fe}/{\\\\rm H}]}$',\n",
        " '$\\\\rho_{4,T_\\\\textrm{eff}}$',\n",
        " '$\\\\rho_{4,\\\\log g}$',\n",
        " '$\\\\rho_{4,[{\\\\rm Fe}/{\\\\rm H}]}$',\n",
        " '$\\\\rho_{5,T_\\\\textrm{eff}}$',\n",
        " '$\\\\rho_{5,\\\\log g}$',\n",
        " '$\\\\rho_{5,[{\\\\rm Fe}/{\\\\rm H}]}$']"
       ]
      }
     ],
     "prompt_number": 35
    },
    {
     "cell_type": "code",
     "collapsed": false,
     "input": [
      "fig = triangle.corner(samples[:, 6:], labels=labels, quantiles=[0.16, 0.5, 0.84], show_titles=True)\n",
      "fig.savefig(\"triangle_rho.png\")"
     ],
     "language": "python",
     "metadata": {},
     "outputs": [
      {
       "output_type": "stream",
       "stream": "stdout",
       "text": [
        "Quantiles:\n",
        "<zip object at 0x7fa8f2386c88>\n",
        "Quantiles:"
       ]
      },
      {
       "output_type": "stream",
       "stream": "stdout",
       "text": [
        "\n",
        "<zip object at 0x7fa8f239e788>\n",
        "Quantiles:"
       ]
      },
      {
       "output_type": "stream",
       "stream": "stdout",
       "text": [
        "\n",
        "<zip object at 0x7fa8ef972388>\n",
        "Quantiles:"
       ]
      },
      {
       "output_type": "stream",
       "stream": "stdout",
       "text": [
        "\n",
        "<zip object at 0x7fa8f2a41e48>\n",
        "Quantiles:"
       ]
      },
      {
       "output_type": "stream",
       "stream": "stdout",
       "text": [
        "\n",
        "<zip object at 0x7fa8ecc243c8>\n",
        "Quantiles:"
       ]
      },
      {
       "output_type": "stream",
       "stream": "stdout",
       "text": [
        "\n",
        "<zip object at 0x7fa8f2914e88>\n",
        "Quantiles:"
       ]
      },
      {
       "output_type": "stream",
       "stream": "stdout",
       "text": [
        "\n",
        "<zip object at 0x7fa8ecb680c8>\n",
        "Quantiles:"
       ]
      },
      {
       "output_type": "stream",
       "stream": "stdout",
       "text": [
        "\n",
        "<zip object at 0x7fa8effe8f48>\n",
        "Quantiles:"
       ]
      },
      {
       "output_type": "stream",
       "stream": "stdout",
       "text": [
        "\n",
        "<zip object at 0x7fa8ef2d33c8>\n",
        "Quantiles:"
       ]
      },
      {
       "output_type": "stream",
       "stream": "stdout",
       "text": [
        "\n",
        "<zip object at 0x7fa8f73ece48>\n",
        "Quantiles:"
       ]
      },
      {
       "output_type": "stream",
       "stream": "stdout",
       "text": [
        "\n",
        "<zip object at 0x7fa8f2017c88>\n",
        "Quantiles:"
       ]
      },
      {
       "output_type": "stream",
       "stream": "stdout",
       "text": [
        "\n",
        "<zip object at 0x7fa8f1bdfdc8>\n",
        "Quantiles:"
       ]
      },
      {
       "output_type": "stream",
       "stream": "stdout",
       "text": [
        "\n",
        "<zip object at 0x7fa8f15a5448>\n",
        "Quantiles:"
       ]
      },
      {
       "output_type": "stream",
       "stream": "stdout",
       "text": [
        "\n",
        "<zip object at 0x7fa8f10abe48>\n",
        "Quantiles:"
       ]
      },
      {
       "output_type": "stream",
       "stream": "stdout",
       "text": [
        "\n",
        "<zip object at 0x7fa8f0a8e188>\n"
       ]
      }
     ],
     "prompt_number": 36
    },
    {
     "cell_type": "code",
     "collapsed": false,
     "input": [],
     "language": "python",
     "metadata": {},
     "outputs": []
    }
   ],
   "metadata": {}
  }
 ]
}