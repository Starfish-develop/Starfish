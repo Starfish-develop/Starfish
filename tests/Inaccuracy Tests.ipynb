{
 "metadata": {
  "name": "",
  "signature": "sha256:c3d010ef307a4aad500568fdca852acc0f0b925b7045ddf75990bb4bc56dca5b"
 },
 "nbformat": 3,
 "nbformat_minor": 0,
 "worksheets": [
  {
   "cells": [
    {
     "cell_type": "markdown",
     "metadata": {},
     "source": [
      "# Inaccuracy tests\n",
      "\n",
      "Basically, how bad of an approximation can we do to the interpolation and still get away with 10% accuracy to the grid points? 10K, 0.05 dex in logg and [Fe/H] ?\n",
      "\n",
      "As a comparison we need a high quality spectrum generated using our normal interpolation methods."
     ]
    },
    {
     "cell_type": "code",
     "collapsed": false,
     "input": [
      "%matplotlib\n",
      "import matplotlib.pyplot as plt\n",
      "import numpy as np\n",
      "from IPython.html import widgets # Widget definitions\n",
      "from IPython.display import display, clear_output, HTML # Used to display widgets in the notebook\n",
      "from IPython.html.widgets import interact, interactive, fixed"
     ],
     "language": "python",
     "metadata": {},
     "outputs": [
      {
       "output_type": "stream",
       "stream": "stdout",
       "text": [
        "Using matplotlib backend: Qt4Agg\n"
       ]
      }
     ],
     "prompt_number": 1
    },
    {
     "cell_type": "code",
     "collapsed": false,
     "input": [
      "from StellarSpectra.model import Model\n",
      "from StellarSpectra.spectrum import DataSpectrum\n",
      "from StellarSpectra.grid_tools import TRES, HDF5Interface\n",
      "import scipy.sparse as sp\n",
      "import numpy as np\n",
      "\n",
      "myDataSpectrum = DataSpectrum.open(\"../data/WASP14/WASP14-2009-06-14.hdf5\", orders=np.array([22]))\n",
      "myInstrument = TRES()\n",
      "#myHDF5Interface = HDF5Interface(\"../libraries/PHOENIX_submaster.hdf5\")\n",
      "#myHDF5Interface = HDF5Interface(\"../libraries/PHOENIX_LkCa15.hdf5\")\n",
      "#myHDF5Interface = HDF5Interface(\"../libraries/PHOENIX_M.hdf5\")\n",
      "myHDF5Interface = HDF5Interface(\"../libraries/PHOENIX_objgrid.hdf5\")\n",
      "\n",
      "myModel = Model(myDataSpectrum, myInstrument, myHDF5Interface, stellar_tuple=(\"temp\", \"logg\", \"Z\", \"vsini\", \"vz\", \"logOmega\"), \n",
      "                cheb_tuple=(\"c1\", \"c2\", \"c3\"), cov_tuple=(\"sigAmp\", \"logAmp\", \"l\"), region_tuple=(\"h\", \"loga\", \"mu\", \"sigma\"))\n",
      "myOrderModel = myModel.OrderModels[0]"
     ],
     "language": "python",
     "metadata": {},
     "outputs": [
      {
       "output_type": "stream",
       "stream": "stdout",
       "text": [
        "Grid stretches from 5134.978696599707 to 5235.9293774845055\n",
        "wl_FFT is 0.0480588375883031 km/s\n",
        "Creating OrderModel 0\n"
       ]
      }
     ],
     "prompt_number": 2
    },
    {
     "cell_type": "code",
     "collapsed": false,
     "input": [
      "myHDF5Interface.bounds"
     ],
     "language": "python",
     "metadata": {},
     "outputs": [
      {
       "metadata": {},
       "output_type": "pyout",
       "prompt_number": 3,
       "text": [
        "{'Z': (-0.5, 0.0),\n",
        " 'temp': (5500, 6500),\n",
        " 'logg': (4.0, 5.0),\n",
        " 'alpha': (0.0, 0.0)}"
       ]
      }
     ],
     "prompt_number": 3
    },
    {
     "cell_type": "code",
     "collapsed": false,
     "input": [
      "spec = myModel.get_data()\n",
      "wl = spec.wls[0]\n",
      "fl = spec.fls[0]"
     ],
     "language": "python",
     "metadata": {},
     "outputs": [],
     "prompt_number": 3
    },
    {
     "cell_type": "code",
     "collapsed": false,
     "input": [
      "def plot_diff_spec(wl, spec0, spec1, spec2=None, norm=True, abs_err=False):\n",
      "    '''\n",
      "    Plot the difference between two spectra, if normalize, divide each by their mean.\n",
      "    '''\n",
      "    \n",
      "    if norm:\n",
      "        spec0 = spec0/np.mean(spec0)\n",
      "        spec1 = spec1/np.mean(spec1)\n",
      "        if np.all(spec2) is not None:\n",
      "            spec2 = spec2/np.mean(spec2)\n",
      "        \n",
      "    fig, ax = plt.subplots(nrows=2, figsize=(11,8), sharex=True)\n",
      "    ax[0].plot(wl, spec0, \"b\", label=\"spec0\")\n",
      "    ax[0].plot(wl, spec1, \"r\", label=\"spec1\")\n",
      "    if np.any(spec2):\n",
      "        ax[0].plot(wl, spec2, \"g\", label=\"spec2\")\n",
      "    ax[0].legend()\n",
      "    ax[0].set_ylabel(\"spectra\")\n",
      "    \n",
      "    resid1 = spec0 - spec1\n",
      "    if abs_err:\n",
      "        resid1 = np.abs(resid1/spec0)\n",
      "    ax[1].plot(wl, resid1 * 100, \"k\", label=\"spec0 - spec1\")\n",
      "    if np.any(spec2):\n",
      "        resid2 = spec0 - spec2\n",
      "        if abs_err:\n",
      "            resid2 = np.abs(resid2/spec0)\n",
      "        ax[1].plot(wl, resid2 * 100, \"b\", label=\"spec0 - spec2\")\n",
      "    ax[1].legend()\n",
      "    ax[1].set_xlabel(r\"$\\lambda$\\AA\")\n",
      "    ax[1].set_ylabel(\"residuals (\\%)\")\n",
      "\n",
      "    plt.show()"
     ],
     "language": "python",
     "metadata": {},
     "outputs": [],
     "prompt_number": 4
    },
    {
     "cell_type": "markdown",
     "metadata": {},
     "source": [
      "## Temperature"
     ]
    },
    {
     "cell_type": "code",
     "collapsed": false,
     "input": [
      "params = {\"temp\":6000, \"logg\":4.1, \"Z\":0.0, \"vsini\":0., \"vz\":0, \"logOmega\":0.}\n",
      "myModel.update_Model(params)\n",
      "model_flux0 = myOrderModel.get_spectrum()"
     ],
     "language": "python",
     "metadata": {},
     "outputs": [
      {
       "output_type": "stream",
       "stream": "stderr",
       "text": [
        "ERROR:astropy:ValueError: operands could not be broadcast together with shapes (2755,) (65537,) \n"
       ]
      },
      {
       "output_type": "stream",
       "stream": "stdout",
       "text": [
        "ERROR: ValueError: operands could not be broadcast together with shapes (2755,) (65537,)  [StellarSpectra.spectrum]\n"
       ]
      },
      {
       "ename": "ValueError",
       "evalue": "operands could not be broadcast together with shapes (2755,) (65537,) ",
       "output_type": "pyerr",
       "traceback": [
        "\u001b[1;31m---------------------------------------------------------------------------\u001b[0m\n\u001b[1;31mValueError\u001b[0m                                Traceback (most recent call last)",
        "\u001b[1;32m<ipython-input-5-403f5d26ff0f>\u001b[0m in \u001b[0;36m<module>\u001b[1;34m()\u001b[0m\n\u001b[0;32m      1\u001b[0m \u001b[0mparams\u001b[0m \u001b[1;33m=\u001b[0m \u001b[1;33m{\u001b[0m\u001b[1;34m\"temp\"\u001b[0m\u001b[1;33m:\u001b[0m\u001b[1;36m6000\u001b[0m\u001b[1;33m,\u001b[0m \u001b[1;34m\"logg\"\u001b[0m\u001b[1;33m:\u001b[0m\u001b[1;36m4.1\u001b[0m\u001b[1;33m,\u001b[0m \u001b[1;34m\"Z\"\u001b[0m\u001b[1;33m:\u001b[0m\u001b[1;36m0.0\u001b[0m\u001b[1;33m,\u001b[0m \u001b[1;34m\"vsini\"\u001b[0m\u001b[1;33m:\u001b[0m\u001b[1;36m0.\u001b[0m\u001b[1;33m,\u001b[0m \u001b[1;34m\"vz\"\u001b[0m\u001b[1;33m:\u001b[0m\u001b[1;36m0\u001b[0m\u001b[1;33m,\u001b[0m \u001b[1;34m\"logOmega\"\u001b[0m\u001b[1;33m:\u001b[0m\u001b[1;36m0.\u001b[0m\u001b[1;33m}\u001b[0m\u001b[1;33m\u001b[0m\u001b[0m\n\u001b[1;32m----> 2\u001b[1;33m \u001b[0mmyModel\u001b[0m\u001b[1;33m.\u001b[0m\u001b[0mupdate_Model\u001b[0m\u001b[1;33m(\u001b[0m\u001b[0mparams\u001b[0m\u001b[1;33m)\u001b[0m\u001b[1;33m\u001b[0m\u001b[0m\n\u001b[0m\u001b[0;32m      3\u001b[0m \u001b[0mmodel_flux0\u001b[0m \u001b[1;33m=\u001b[0m \u001b[0mmyOrderModel\u001b[0m\u001b[1;33m.\u001b[0m\u001b[0mget_spectrum\u001b[0m\u001b[1;33m(\u001b[0m\u001b[1;33m)\u001b[0m\u001b[1;33m\u001b[0m\u001b[0m\n",
        "\u001b[1;32m/home/ian/Grad/Research/Disks/StellarSpectra/StellarSpectra/model.py\u001b[0m in \u001b[0;36mupdate_Model\u001b[1;34m(self, params)\u001b[0m\n\u001b[0;32m    163\u001b[0m \u001b[1;33m\u001b[0m\u001b[0m\n\u001b[0;32m    164\u001b[0m     \u001b[1;32mdef\u001b[0m \u001b[0mupdate_Model\u001b[0m\u001b[1;33m(\u001b[0m\u001b[0mself\u001b[0m\u001b[1;33m,\u001b[0m \u001b[0mparams\u001b[0m\u001b[1;33m)\u001b[0m\u001b[1;33m:\u001b[0m\u001b[1;33m\u001b[0m\u001b[0m\n\u001b[1;32m--> 165\u001b[1;33m         \u001b[0mself\u001b[0m\u001b[1;33m.\u001b[0m\u001b[0mModelSpectrum\u001b[0m\u001b[1;33m.\u001b[0m\u001b[0mupdate_all\u001b[0m\u001b[1;33m(\u001b[0m\u001b[0mparams\u001b[0m\u001b[1;33m)\u001b[0m\u001b[1;33m\u001b[0m\u001b[0m\n\u001b[0m\u001b[0;32m    166\u001b[0m         \u001b[0mself\u001b[0m\u001b[1;33m.\u001b[0m\u001b[0mstellar_params\u001b[0m \u001b[1;33m=\u001b[0m \u001b[0mparams\u001b[0m\u001b[1;33m\u001b[0m\u001b[0m\n\u001b[0;32m    167\u001b[0m \u001b[1;33m\u001b[0m\u001b[0m\n",
        "\u001b[1;32m/home/ian/Grad/Research/Disks/StellarSpectra/StellarSpectra/spectrum.py\u001b[0m in \u001b[0;36mupdate_all\u001b[1;34m(self, params)\u001b[0m\n\u001b[0;32m    953\u001b[0m         \u001b[1;31m#Then vsini and instrument using _update_vsini\u001b[0m\u001b[1;33m\u001b[0m\u001b[1;33m\u001b[0m\u001b[0m\n\u001b[0;32m    954\u001b[0m         \u001b[1;31m#self._update_vsini_and_instrument(params['vsini'])\u001b[0m\u001b[1;33m\u001b[0m\u001b[1;33m\u001b[0m\u001b[0m\n\u001b[1;32m--> 955\u001b[1;33m         \u001b[0mself\u001b[0m\u001b[1;33m.\u001b[0m\u001b[0m_update_vsini\u001b[0m\u001b[1;33m(\u001b[0m\u001b[0mparams\u001b[0m\u001b[1;33m[\u001b[0m\u001b[1;34m'vsini'\u001b[0m\u001b[1;33m]\u001b[0m\u001b[1;33m)\u001b[0m\u001b[1;33m\u001b[0m\u001b[0m\n\u001b[0m\u001b[0;32m    956\u001b[0m \u001b[1;33m\u001b[0m\u001b[0m\n\u001b[0;32m    957\u001b[0m         \u001b[1;31m#Then vz, logOmega, and Av using public methods\u001b[0m\u001b[1;33m\u001b[0m\u001b[1;33m\u001b[0m\u001b[0m\n",
        "\u001b[1;32m/home/ian/Grad/Research/Disks/StellarSpectra/StellarSpectra/spectrum.py\u001b[0m in \u001b[0;36m_update_vsini\u001b[1;34m(self, vsini)\u001b[0m\n\u001b[0;32m    879\u001b[0m         \u001b[1;31m#institute velocity and instrumental taper\u001b[0m\u001b[1;33m\u001b[0m\u001b[1;33m\u001b[0m\u001b[0m\n\u001b[0;32m    880\u001b[0m         \u001b[1;31m# self.FF *= sb\u001b[0m\u001b[1;33m\u001b[0m\u001b[1;33m\u001b[0m\u001b[0m\n\u001b[1;32m--> 881\u001b[1;33m         \u001b[0mFF_tap\u001b[0m \u001b[1;33m=\u001b[0m \u001b[0mFF\u001b[0m \u001b[1;33m*\u001b[0m \u001b[0msb\u001b[0m\u001b[1;33m\u001b[0m\u001b[0m\n\u001b[0m\u001b[0;32m    882\u001b[0m \u001b[1;33m\u001b[0m\u001b[0m\n\u001b[0;32m    883\u001b[0m         \u001b[1;31m#do ifft\u001b[0m\u001b[1;33m\u001b[0m\u001b[1;33m\u001b[0m\u001b[0m\n",
        "\u001b[1;31mValueError\u001b[0m: operands could not be broadcast together with shapes (2755,) (65537,) "
       ]
      }
     ],
     "prompt_number": 5
    },
    {
     "cell_type": "code",
     "collapsed": false,
     "input": [
      "params = {\"temp\":2310, \"logg\":4.0, \"Z\":0.0, \"vsini\":0., \"vz\":0, \"logOmega\":0.}\n",
      "myModel.update_Model(params)\n",
      "model_flux1 = myOrderModel.get_spectrum()"
     ],
     "language": "python",
     "metadata": {},
     "outputs": [],
     "prompt_number": 122
    },
    {
     "cell_type": "code",
     "collapsed": false,
     "input": [
      "plot_diff_spec(wl, model_flux0, model_flux1, abs_err=True)"
     ],
     "language": "python",
     "metadata": {},
     "outputs": [],
     "prompt_number": 123
    },
    {
     "cell_type": "markdown",
     "metadata": {},
     "source": [
      "# logg"
     ]
    },
    {
     "cell_type": "code",
     "collapsed": false,
     "input": [
      "params = {\"temp\":2300, \"logg\":4.05, \"Z\":0.0, \"vsini\":0., \"vz\":0, \"logOmega\":0.}\n",
      "myModel.update_Model(params)\n",
      "model_flux2 = myOrderModel.get_spectrum()"
     ],
     "language": "python",
     "metadata": {},
     "outputs": [],
     "prompt_number": 124
    },
    {
     "cell_type": "code",
     "collapsed": false,
     "input": [
      "plot_diff_spec(wl, model_flux0, model_flux2, abs_err=True)"
     ],
     "language": "python",
     "metadata": {},
     "outputs": [],
     "prompt_number": 127
    },
    {
     "cell_type": "code",
     "collapsed": false,
     "input": [
      "plot_diff_spec(wl, model_flux0, model_flux1, model_flux2, abs_err=True)"
     ],
     "language": "python",
     "metadata": {},
     "outputs": [],
     "prompt_number": 126
    },
    {
     "cell_type": "markdown",
     "metadata": {},
     "source": [
      "## Metallicity"
     ]
    },
    {
     "cell_type": "code",
     "collapsed": false,
     "input": [
      "params = {\"temp\":2300, \"logg\":4.00, \"Z\":-0.05, \"vsini\":0., \"vz\":0, \"logOmega\":0.}\n",
      "myModel.update_Model(params)\n",
      "model_flux3 = myOrderModel.get_spectrum()"
     ],
     "language": "python",
     "metadata": {},
     "outputs": [],
     "prompt_number": 128
    },
    {
     "cell_type": "code",
     "collapsed": false,
     "input": [
      "plot_diff_spec(wl, model_flux0, model_flux3, abs_err=True)"
     ],
     "language": "python",
     "metadata": {},
     "outputs": [],
     "prompt_number": 130
    },
    {
     "cell_type": "code",
     "collapsed": false,
     "input": [
      "plot_diff_spec(wl, model_flux0, model_flux2, model_flux3, abs_err=True)"
     ],
     "language": "python",
     "metadata": {},
     "outputs": [],
     "prompt_number": 95
    },
    {
     "cell_type": "markdown",
     "metadata": {},
     "source": [
      "# Using TRES spectra\n",
      "\n",
      "## Perturbations about T=6000, logg=4.0, Z = 0.00\n",
      "\n",
      "Measured in order 23\n",
      "\n",
      "It seems like at this stage, with the Mg b lines, that metallicity contributes to the greatest change in the spectrum. \n",
      "\n",
      "* Temperature is 0.7%\n",
      "* logg is 1.8%\n",
      "* Metallicity is 3.7% \n",
      "\n",
      "So this is interesting, a 1.5% change in flux level corresponds to a 0.05 dex change in metallicity.\n",
      "\n",
      "## Perturbations about T=4000, logg=4.0, Z= 0.0\n",
      "\n",
      "Measured in order 23\n",
      "\n",
      "* Temperature change is about 2.0%\n",
      "* Logg change is 2.5%\n",
      "* Metallicity change is 5%\n",
      "\n",
      "## Perturbations about T=2300, logg=4.0, Z= 0.0\n",
      "\n",
      "Measured in order 23\n",
      "\n",
      "* Temperature change is 10%\n",
      "* Logg change is 7%\n",
      "* Metallicity change is 10%\n",
      "\n",
      "Measured in order 41\n",
      "\n",
      "* Temperature change is 4%\n",
      "* Logg change is 5%\n",
      "* Metallicity change is 5%"
     ]
    },
    {
     "cell_type": "markdown",
     "metadata": {},
     "source": [
      "# Checking that approximate schemes still work\n",
      "\n",
      "The previous difference spectra were determined using our most accurate implementation of the spectrum modifier yet, that means using the full-resolution PHOENIX grids and k=5 polynomials, such that the spectra are accurate to within floating point precision. Since we have interpolated near a grid point, this also means that any linear approximation to the spline interpolation should be accurate enough.\n",
      "\n",
      "To test any new approximate scheme for generating spectra, we want to see whether the residual spectrum will be **bounded** by the **smallest** spectrum in the {temp, logg, Z} trio, meaning that any error in the approximation will **at most** contribute to 10% error in any of {temp, logg, Z}. We can increase this threshold if it makes sense."
     ]
    },
    {
     "cell_type": "code",
     "collapsed": false,
     "input": [],
     "language": "python",
     "metadata": {},
     "outputs": []
    }
   ],
   "metadata": {}
  }
 ]
}