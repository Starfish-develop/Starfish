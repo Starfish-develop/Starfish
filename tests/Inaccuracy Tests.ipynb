{
 "metadata": {
  "name": "",
  "signature": "sha256:4a1a8e2331d361434126471f44f953ef68a5771db5a1bd3e49823e64d5e99309"
 },
 "nbformat": 3,
 "nbformat_minor": 0,
 "worksheets": [
  {
   "cells": [
    {
     "cell_type": "markdown",
     "metadata": {},
     "source": [
      "# Inaccuracy tests\n",
      "\n",
      "Basically, how bad of an approximation can we do to the interpolation and still get away with 10% accuracy to the grid points? 10K, 0.05 dex in logg and [Fe/H] ?\n",
      "\n",
      "As a comparison we need a high quality spectrum generated using our normal interpolation methods."
     ]
    },
    {
     "cell_type": "code",
     "collapsed": false,
     "input": [
      "%matplotlib\n",
      "import matplotlib.pyplot as plt\n",
      "import numpy as np\n",
      "from IPython.html import widgets # Widget definitions\n",
      "from IPython.display import display, clear_output, HTML # Used to display widgets in the notebook\n",
      "from IPython.html.widgets import interact, interactive, fixed"
     ],
     "language": "python",
     "metadata": {},
     "outputs": [
      {
       "output_type": "stream",
       "stream": "stdout",
       "text": [
        "Using matplotlib backend: Qt4Agg\n"
       ]
      }
     ],
     "prompt_number": 58
    },
    {
     "cell_type": "code",
     "collapsed": false,
     "input": [
      "from StellarSpectra.model import Model\n",
      "from StellarSpectra.spectrum import DataSpectrum\n",
      "from StellarSpectra.grid_tools import TRES, HDF5Interface\n",
      "import scipy.sparse as sp\n",
      "import numpy as np\n",
      "\n",
      "myDataSpectrum = DataSpectrum.open(\"../data/WASP14/WASP14-2009-06-14.hdf5\", orders=np.array([22]))\n",
      "myInstrument = TRES()\n",
      "#myHDF5Interface = HDF5Interface(\"../libraries/PHOENIX_submaster.hdf5\")\n",
      "myHDF5Interface = HDF5Interface(\"../libraries/PHOENIX_LkCa15.hdf5\")\n",
      "\n",
      "myModel = Model(myDataSpectrum, myInstrument, myHDF5Interface, stellar_tuple=(\"temp\", \"logg\", \"Z\", \"vsini\", \"vz\", \"logOmega\"), \n",
      "                cheb_tuple=(\"c1\", \"c2\", \"c3\"), cov_tuple=(\"sigAmp\", \"logAmp\", \"l\"), region_tuple=(\"h\", \"loga\", \"mu\", \"sigma\"))\n",
      "myOrderModel = myModel.OrderModels[0]"
     ],
     "language": "python",
     "metadata": {},
     "outputs": [
      {
       "output_type": "stream",
       "stream": "stdout",
       "text": [
        "Grid stretches from 5134.978696599707 to 5235.9293774845055\n",
        "wl_FFT is 0.0480588375883031 km/s\n",
        "Creating OrderModel 0\n",
        "Deallocating Covariance Matrix\n",
        "Deallocating GlobalCovarianceMatrix\n",
        "Deallocating Common\n"
       ]
      }
     ],
     "prompt_number": 59
    },
    {
     "cell_type": "code",
     "collapsed": false,
     "input": [
      "myHDF5Interface.bounds"
     ],
     "language": "python",
     "metadata": {},
     "outputs": [
      {
       "metadata": {},
       "output_type": "pyout",
       "prompt_number": 60,
       "text": [
        "{'logg': (2.5, 5.5),\n",
        " 'Z': (-1.0, 0.5),\n",
        " 'alpha': (0.0, 0.0),\n",
        " 'temp': (4000, 6000)}"
       ]
      }
     ],
     "prompt_number": 60
    },
    {
     "cell_type": "code",
     "collapsed": false,
     "input": [
      "spec = myModel.get_data()\n",
      "wl = spec.wls[0]\n",
      "fl = spec.fls[0]"
     ],
     "language": "python",
     "metadata": {},
     "outputs": [],
     "prompt_number": 61
    },
    {
     "cell_type": "code",
     "collapsed": false,
     "input": [
      "def plot_diff_spec(wl, spec0, spec1, spec2=None, norm=True, abs_err=False):\n",
      "    '''\n",
      "    Plot the difference between two spectra, if normalize, divide each by their mean.\n",
      "    '''\n",
      "    \n",
      "    if norm:\n",
      "        spec0 = spec0/np.mean(spec0)\n",
      "        spec1 = spec1/np.mean(spec1)\n",
      "        if np.all(spec2) is not None:\n",
      "            spec2 = spec2/np.mean(spec2)\n",
      "        \n",
      "    fig, ax = plt.subplots(nrows=2, figsize=(11,8), sharex=True)\n",
      "    ax[0].plot(wl, spec0, \"b\", label=\"spec0\")\n",
      "    ax[0].plot(wl, spec1, \"r\", label=\"spec1\")\n",
      "    if np.any(spec2):\n",
      "        ax[0].plot(wl, spec2, \"g\", label=\"spec2\")\n",
      "    ax[0].legend()\n",
      "    ax[0].set_ylabel(\"spectra\")\n",
      "    \n",
      "    resid1 = spec0 - spec1\n",
      "    if abs_err:\n",
      "        resid1 = np.abs(resid1)\n",
      "    ax[1].plot(wl, resid1, \"k\", label=\"spec0 - spec1\")\n",
      "    if np.any(spec2):\n",
      "        resid2 = spec0 - spec2\n",
      "        if abs_err:\n",
      "            resid2 = np.abs(resid2)\n",
      "        ax[1].plot(wl, resid2, \"b\", label=\"spec0 - spec2\")\n",
      "    ax[1].legend()\n",
      "    ax[1].set_xlabel(r\"$\\lambda$\\AA\")\n",
      "    ax[1].set_ylabel(\"residuals\")\n",
      "\n",
      "    plt.show()"
     ],
     "language": "python",
     "metadata": {},
     "outputs": [],
     "prompt_number": 47
    },
    {
     "cell_type": "markdown",
     "metadata": {},
     "source": [
      "## Temperature"
     ]
    },
    {
     "cell_type": "code",
     "collapsed": false,
     "input": [
      "params = {\"temp\":4000, \"logg\":4.0, \"Z\":0.0, \"vsini\":0., \"vz\":0, \"logOmega\":0.}\n",
      "myModel.update_Model(params)\n",
      "model_flux0 = myOrderModel.get_spectrum()"
     ],
     "language": "python",
     "metadata": {},
     "outputs": [],
     "prompt_number": 62
    },
    {
     "cell_type": "code",
     "collapsed": false,
     "input": [
      "params = {\"temp\":4010, \"logg\":4.0, \"Z\":0.0, \"vsini\":0., \"vz\":0, \"logOmega\":0.}\n",
      "myModel.update_Model(params)\n",
      "model_flux1 = myOrderModel.get_spectrum()"
     ],
     "language": "python",
     "metadata": {},
     "outputs": [],
     "prompt_number": 63
    },
    {
     "cell_type": "code",
     "collapsed": false,
     "input": [
      "plot_diff_spec(wl, model_flux0, model_flux1, abs_err=True)"
     ],
     "language": "python",
     "metadata": {},
     "outputs": [],
     "prompt_number": 64
    },
    {
     "cell_type": "markdown",
     "metadata": {},
     "source": [
      "# logg"
     ]
    },
    {
     "cell_type": "code",
     "collapsed": false,
     "input": [
      "params = {\"temp\":4000, \"logg\":4.05, \"Z\":0.0, \"vsini\":0., \"vz\":0, \"logOmega\":0.}\n",
      "myModel.update_Model(params)\n",
      "model_flux2 = myOrderModel.get_spectrum()"
     ],
     "language": "python",
     "metadata": {},
     "outputs": [],
     "prompt_number": 65
    },
    {
     "cell_type": "code",
     "collapsed": false,
     "input": [
      "plot_diff_spec(wl, model_flux0, model_flux2, abs_err=True)"
     ],
     "language": "python",
     "metadata": {},
     "outputs": [],
     "prompt_number": 66
    },
    {
     "cell_type": "code",
     "collapsed": false,
     "input": [
      "plot_diff_spec(wl, model_flux0, model_flux1, model_flux2, abs_err=True)"
     ],
     "language": "python",
     "metadata": {},
     "outputs": [],
     "prompt_number": 67
    },
    {
     "cell_type": "markdown",
     "metadata": {},
     "source": [
      "## Metallicity"
     ]
    },
    {
     "cell_type": "code",
     "collapsed": false,
     "input": [
      "params = {\"temp\":4000, \"logg\":4.00, \"Z\":-0.05, \"vsini\":0., \"vz\":0, \"logOmega\":0.}\n",
      "myModel.update_Model(params)\n",
      "model_flux3 = myOrderModel.get_spectrum()"
     ],
     "language": "python",
     "metadata": {},
     "outputs": [],
     "prompt_number": 68
    },
    {
     "cell_type": "code",
     "collapsed": false,
     "input": [
      "plot_diff_spec(wl, model_flux0, model_flux3, abs_err=True)"
     ],
     "language": "python",
     "metadata": {},
     "outputs": [],
     "prompt_number": 69
    },
    {
     "cell_type": "code",
     "collapsed": false,
     "input": [
      "plot_diff_spec(wl, model_flux0, model_flux2, model_flux3, abs_err=True)"
     ],
     "language": "python",
     "metadata": {},
     "outputs": [],
     "prompt_number": 70
    },
    {
     "cell_type": "markdown",
     "metadata": {},
     "source": [
      "## Perturbations about T=6000, logg=4.0, Z = 0.00\n",
      "\n",
      "It seems like at this stage, with the Mg b lines, that metallicity contributes to the greatest change in the spectrum. \n",
      "\n",
      "* Temperature is 0.05%\n",
      "* logg is 1%\n",
      "* Metallicity is 1.5% \n",
      "\n",
      "So this is interesting, a 1.5% change in flux level corresponds to a 0.05 dex change in metallicity."
     ]
    },
    {
     "cell_type": "markdown",
     "metadata": {},
     "source": [
      "## Perturbations about T=4000, logg=4.0, Z= 0.0\n",
      "\n",
      "* Temperature change is about 2.5%\n",
      "* Logg change is 1.2%\n",
      "* Metallicity change is 4%"
     ]
    },
    {
     "cell_type": "code",
     "collapsed": false,
     "input": [],
     "language": "python",
     "metadata": {},
     "outputs": []
    }
   ],
   "metadata": {}
  }
 ]
}