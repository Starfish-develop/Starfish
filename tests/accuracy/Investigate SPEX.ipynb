{
 "metadata": {
  "name": "",
  "signature": "sha256:182215c9a03fdabb110bbe95cbd712ac34e16ce8a1ad89a84f1b1a1d27eb6786"
 },
 "nbformat": 3,
 "nbformat_minor": 0,
 "worksheets": [
  {
   "cells": [
    {
     "cell_type": "code",
     "collapsed": false,
     "input": [
      "%matplotlib\n",
      "import matplotlib.pyplot as plt\n",
      "import numpy as np\n",
      "\n",
      "from StellarSpectra.grid_tools import HDF5Interface\n",
      "import h5py"
     ],
     "language": "python",
     "metadata": {},
     "outputs": [
      {
       "output_type": "stream",
       "stream": "stdout",
       "text": [
        "Using matplotlib backend: Qt4Agg\n"
       ]
      }
     ],
     "prompt_number": 1
    },
    {
     "cell_type": "markdown",
     "metadata": {},
     "source": [
      "# Loading M dwarf spectra"
     ]
    },
    {
     "cell_type": "code",
     "collapsed": false,
     "input": [
      "hdf5 = h5py.File(\"../../data/Gl51/Gl51.hdf5\", \"r\")\n",
      "wl = hdf5[\"wls\"][:]\n",
      "fl = hdf5[\"fls\"][:]\n",
      "hdf5.close()"
     ],
     "language": "python",
     "metadata": {},
     "outputs": [],
     "prompt_number": 8
    },
    {
     "cell_type": "code",
     "collapsed": false,
     "input": [
      "ind = (fl >= 0)"
     ],
     "language": "python",
     "metadata": {},
     "outputs": [],
     "prompt_number": 12
    },
    {
     "cell_type": "code",
     "collapsed": false,
     "input": [
      "plt.plot(wl[ind],fl[ind])\n",
      "plt.show()"
     ],
     "language": "python",
     "metadata": {},
     "outputs": [],
     "prompt_number": 13
    },
    {
     "cell_type": "code",
     "collapsed": false,
     "input": [],
     "language": "python",
     "metadata": {},
     "outputs": [
      {
       "metadata": {},
       "output_type": "pyout",
       "prompt_number": 4,
       "text": [
        "<Closed HDF5 dataset>"
       ]
      }
     ],
     "prompt_number": 4
    },
    {
     "cell_type": "markdown",
     "metadata": {},
     "source": [
      "# Plotting synthetic M dwarf spectra"
     ]
    },
    {
     "cell_type": "code",
     "collapsed": false,
     "input": [
      "myInterface = HDF5Interface(\"../../libraries/PHOENIX_SPEX_2300.hdf5\")\n",
      "\n",
      "wl = myInterface.wl\n",
      "fl = myInterface.load_flux({\"temp\":2300, \"logg\":4.5, \"Z\":-0.5, \"alpha\":0.0})"
     ],
     "language": "python",
     "metadata": {},
     "outputs": [],
     "prompt_number": 76
    },
    {
     "cell_type": "code",
     "collapsed": false,
     "input": [
      "plt.plot(wl, fl)\n",
      "plt.show()"
     ],
     "language": "python",
     "metadata": {},
     "outputs": [],
     "prompt_number": 77
    },
    {
     "cell_type": "code",
     "collapsed": false,
     "input": [],
     "language": "python",
     "metadata": {},
     "outputs": []
    }
   ],
   "metadata": {}
  }
 ]
}