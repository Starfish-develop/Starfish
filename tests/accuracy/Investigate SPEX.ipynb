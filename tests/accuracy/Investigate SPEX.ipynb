{
 "metadata": {
  "name": "",
  "signature": "sha256:01236521f2b4d685d70ce09179f1a47d471d9fa6e54906258c00b102341891bf"
 },
 "nbformat": 3,
 "nbformat_minor": 0,
 "worksheets": [
  {
   "cells": [
    {
     "cell_type": "code",
     "collapsed": false,
     "input": [
      "%matplotlib\n",
      "import matplotlib.pyplot as plt\n",
      "import numpy as np\n",
      "\n",
      "from StellarSpectra.grid_tools import HDF5Interface\n",
      "import h5py"
     ],
     "language": "python",
     "metadata": {},
     "outputs": [
      {
       "output_type": "stream",
       "stream": "stdout",
       "text": [
        "Using matplotlib backend: Qt4Agg\n"
       ]
      }
     ],
     "prompt_number": 1
    },
    {
     "cell_type": "markdown",
     "metadata": {},
     "source": [
      "# Loading M dwarf spectra"
     ]
    },
    {
     "cell_type": "code",
     "collapsed": false,
     "input": [
      "hdf5 = h5py.File(\"../../data/Gl51/Gl51.hdf5\", \"r\")\n",
      "\n",
      "fl = hdf5[\"fls\"][:]\n",
      "#ind = (fl >= 0)\n",
      "\n",
      "wl = hdf5[\"wls\"][:]\n",
      "sigma = hdf5[\"sigmas\"][:]\n",
      "masks = hdf5[\"masks\"][:]\n",
      "\n",
      "#low = fl - sigma\n",
      "#high = fl + sigma\n",
      "hdf5.close()"
     ],
     "language": "python",
     "metadata": {},
     "outputs": [],
     "prompt_number": 5
    },
    {
     "cell_type": "code",
     "collapsed": false,
     "input": [
      "masks"
     ],
     "language": "python",
     "metadata": {},
     "outputs": [
      {
       "metadata": {},
       "output_type": "pyout",
       "prompt_number": 4,
       "text": [
        "array([1, 1, 1, ..., 1, 1, 1], dtype=int8)"
       ]
      }
     ],
     "prompt_number": 4
    },
    {
     "cell_type": "code",
     "collapsed": false,
     "input": [
      "plt.fill_between(wl, low, high)\n",
      "#plt.plot(wl,fl)\n",
      "\n",
      "plt.show()"
     ],
     "language": "python",
     "metadata": {},
     "outputs": [],
     "prompt_number": 15
    },
    {
     "cell_type": "markdown",
     "metadata": {},
     "source": [
      "# Loading M dwarf with DataSpectrum"
     ]
    },
    {
     "cell_type": "code",
     "collapsed": false,
     "input": [
      "from StellarSpectra.spectrum import DataSpectrum"
     ],
     "language": "python",
     "metadata": {},
     "outputs": [],
     "prompt_number": 2
    },
    {
     "cell_type": "code",
     "collapsed": false,
     "input": [
      "myDataSpectrum = DataSpectrum.open(\"../../data/Gl51/Gl51.hdf5\")"
     ],
     "language": "python",
     "metadata": {},
     "outputs": [],
     "prompt_number": 14
    },
    {
     "cell_type": "code",
     "collapsed": false,
     "input": [
      "print(myDataSpectrum.wls)\n",
      "print(myDataSpectrum.masks)\n",
      "\n",
      "myDataSpectrum.wls[myDataSpectrum.masks]"
     ],
     "language": "python",
     "metadata": {},
     "outputs": [
      {
       "output_type": "stream",
       "stream": "stdout",
       "text": [
        "[[  8051.96   8053.99   8056.01 ...,  24986.38  24991.42  24996.46]]\n",
        "[[ True  True  True ...,  True  True  True]]\n"
       ]
      },
      {
       "metadata": {},
       "output_type": "pyout",
       "prompt_number": 15,
       "text": [
        "array([  8051.96,   8053.99,   8056.01, ...,  24986.38,  24991.42,\n",
        "        24996.46])"
       ]
      }
     ],
     "prompt_number": 15
    },
    {
     "cell_type": "code",
     "collapsed": false,
     "input": [
      "plt.plot(myDataSpectrum.wls[0], myDataSpectrum.fls[0])\n",
      "#plt.ylim(0, 2e-13)\n",
      "plt.show()"
     ],
     "language": "python",
     "metadata": {},
     "outputs": [],
     "prompt_number": 16
    },
    {
     "cell_type": "markdown",
     "metadata": {},
     "source": [
      "# Plotting synthetic M dwarf spectra"
     ]
    },
    {
     "cell_type": "code",
     "collapsed": false,
     "input": [
      "myInterface = HDF5Interface(\"../../libraries/PHOENIX_SPEX_2300.hdf5\")\n",
      "\n",
      "wl = myInterface.wl\n",
      "fl = myInterface.load_flux({\"temp\":2300, \"logg\":4.5, \"Z\":-0.5, \"alpha\":0.0})"
     ],
     "language": "python",
     "metadata": {},
     "outputs": [],
     "prompt_number": 76
    },
    {
     "cell_type": "code",
     "collapsed": false,
     "input": [
      "plt.plot(wl, fl)\n",
      "plt.show()"
     ],
     "language": "python",
     "metadata": {},
     "outputs": [],
     "prompt_number": 77
    },
    {
     "cell_type": "code",
     "collapsed": false,
     "input": [],
     "language": "python",
     "metadata": {},
     "outputs": []
    },
    {
     "cell_type": "markdown",
     "metadata": {},
     "source": [
      "# Playing with model"
     ]
    },
    {
     "cell_type": "code",
     "collapsed": false,
     "input": [
      "HDF5InterfaceLA = HDF5Interface(\"../../libraries/PHOENIX_SPEX_2300.hdf5\")\n",
      "fullModelLA = Model(myDataSpectrum, myInstrument, HDF5InterfaceLA, stellar_tuple=(\"temp\",\n",
      "            \"logg\", \"Z\", \"vsini\", \"vz\", \"logOmega\"), cheb_tuple=(\"c1\", \"c2\", \"c3\"), cov_tuple=(\"sigAmp\",\n",
      "            \"logAmp\", \"l\"), region_tuple=(\"loga\", \"mu\", \"sigma\"))\n",
      "modelLA = fullModelLA.OrderModels[0]\n",
      "\n",
      "wl = myDataSpectrum.wls[0]\n",
      "print(wl[3118:3125])\n",
      "print(base[3118:3125])"
     ],
     "language": "python",
     "metadata": {},
     "outputs": []
    },
    {
     "cell_type": "code",
     "collapsed": false,
     "input": [
      "params = {\"temp\":3000, \"logg\":4.5, \"Z\":-0.5, \"vsini\":0., \"vz\":0, \"logOmega\":0.}\n",
      "fullModelLA.update_Model(params)\n",
      "\n",
      "base = modelLA.get_spectrum()"
     ],
     "language": "python",
     "metadata": {},
     "outputs": []
    },
    {
     "cell_type": "code",
     "collapsed": false,
     "input": [
      "fl = HDF5InterfaceLA.load_flux({\"temp\":3000, \"logg\":4.5, \"Z\":-0.5, \"alpha\":0.0})\n",
      "wl_inter = HDF5InterfaceLA.wl\n",
      "plt.plot(wl_inter, fl)\n",
      "plt.show()\n"
     ],
     "language": "python",
     "metadata": {},
     "outputs": []
    }
   ],
   "metadata": {}
  }
 ]
}