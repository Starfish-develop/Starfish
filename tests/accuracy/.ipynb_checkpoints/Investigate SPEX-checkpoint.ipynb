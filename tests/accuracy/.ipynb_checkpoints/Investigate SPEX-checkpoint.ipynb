{
 "metadata": {
  "name": "",
  "signature": "sha256:4c505c5545c261e85486cf26a72aa0ea659a185f13ef15f7e478cecc9323f783"
 },
 "nbformat": 3,
 "nbformat_minor": 0,
 "worksheets": [
  {
   "cells": [
    {
     "cell_type": "code",
     "collapsed": false,
     "input": [
      "%matplotlib\n",
      "import matplotlib.pyplot as plt\n",
      "import numpy as np\n",
      "\n",
      "from StellarSpectra.grid_tools import HDF5Interface\n",
      "import h5py"
     ],
     "language": "python",
     "metadata": {},
     "outputs": [
      {
       "output_type": "stream",
       "stream": "stdout",
       "text": [
        "Using matplotlib backend: Qt4Agg\n"
       ]
      }
     ],
     "prompt_number": 1
    },
    {
     "cell_type": "markdown",
     "metadata": {},
     "source": [
      "# Loading M dwarf spectra"
     ]
    },
    {
     "cell_type": "code",
     "collapsed": false,
     "input": [
      "hdf5 = h5py.File(\"../../data/Gl51/Gl51.hdf5\", \"r\")\n",
      "\n",
      "fl = hdf5[\"fls\"][:]\n",
      "#ind = (fl >= 0)\n",
      "\n",
      "wl = hdf5[\"wls\"][:]\n",
      "sigma = hdf5[\"sigmas\"][:]\n",
      "masks = hdf5[\"masks\"][:]\n",
      "\n",
      "#low = fl - sigma\n",
      "#high = fl + sigma\n",
      "hdf5.close()"
     ],
     "language": "python",
     "metadata": {},
     "outputs": [],
     "prompt_number": 5
    },
    {
     "cell_type": "code",
     "collapsed": false,
     "input": [
      "masks"
     ],
     "language": "python",
     "metadata": {},
     "outputs": [
      {
       "metadata": {},
       "output_type": "pyout",
       "prompt_number": 4,
       "text": [
        "array([1, 1, 1, ..., 1, 1, 1], dtype=int8)"
       ]
      }
     ],
     "prompt_number": 4
    },
    {
     "cell_type": "code",
     "collapsed": false,
     "input": [
      "plt.fill_between(wl, low, high)\n",
      "#plt.plot(wl,fl)\n",
      "\n",
      "plt.show()"
     ],
     "language": "python",
     "metadata": {},
     "outputs": [],
     "prompt_number": 15
    },
    {
     "cell_type": "markdown",
     "metadata": {},
     "source": [
      "# Loading M dwarf with DataSpectrum"
     ]
    },
    {
     "cell_type": "code",
     "collapsed": false,
     "input": [
      "from StellarSpectra.spectrum import DataSpectrum"
     ],
     "language": "python",
     "metadata": {},
     "outputs": [],
     "prompt_number": 6
    },
    {
     "cell_type": "code",
     "collapsed": false,
     "input": [
      "myDataSpectrum = DataSpectrum.open(\"../../data/Gl51/Gl51.hdf5\")"
     ],
     "language": "python",
     "metadata": {},
     "outputs": [],
     "prompt_number": 7
    },
    {
     "cell_type": "code",
     "collapsed": false,
     "input": [
      "print(myDataSpectrum.wls)\n",
      "print(myDataSpectrum.masks)\n",
      "\n",
      "myDataSpectrum.wls[myDataSpectrum.masks]"
     ],
     "language": "python",
     "metadata": {},
     "outputs": [
      {
       "output_type": "stream",
       "stream": "stdout",
       "text": [
        "[[  8051.96   8053.99   8056.01 ...,  24986.38  24991.42  24996.46]]\n",
        "[[ True  True  True ...,  True  True  True]]\n"
       ]
      },
      {
       "metadata": {},
       "output_type": "pyout",
       "prompt_number": 12,
       "text": [
        "array([  8051.96,   8053.99,   8056.01, ...,  24986.38,  24991.42,\n",
        "        24996.46])"
       ]
      }
     ],
     "prompt_number": 12
    },
    {
     "cell_type": "code",
     "collapsed": false,
     "input": [
      "a = np.arange(4)"
     ],
     "language": "python",
     "metadata": {},
     "outputs": [],
     "prompt_number": 16
    },
    {
     "cell_type": "code",
     "collapsed": false,
     "input": [
      "a.shape = (2,2)\n",
      "a"
     ],
     "language": "python",
     "metadata": {},
     "outputs": [
      {
       "metadata": {},
       "output_type": "pyout",
       "prompt_number": 17,
       "text": [
        "array([[0, 1],\n",
        "       [2, 3]])"
       ]
      }
     ],
     "prompt_number": 17
    },
    {
     "cell_type": "code",
     "collapsed": false,
     "input": [
      "b = np.array([[True, False], [True, False]])\n",
      "b"
     ],
     "language": "python",
     "metadata": {},
     "outputs": [
      {
       "metadata": {},
       "output_type": "pyout",
       "prompt_number": 20,
       "text": [
        "array([[ True, False],\n",
        "       [ True, False]], dtype=bool)"
       ]
      }
     ],
     "prompt_number": 20
    },
    {
     "cell_type": "code",
     "collapsed": false,
     "input": [
      "a[b]"
     ],
     "language": "python",
     "metadata": {},
     "outputs": [
      {
       "metadata": {},
       "output_type": "pyout",
       "prompt_number": 21,
       "text": [
        "array([0, 2])"
       ]
      }
     ],
     "prompt_number": 21
    },
    {
     "cell_type": "markdown",
     "metadata": {},
     "source": [
      "When masking, it always returns a 1d array."
     ]
    },
    {
     "cell_type": "code",
     "collapsed": false,
     "input": [],
     "language": "python",
     "metadata": {},
     "outputs": []
    },
    {
     "cell_type": "markdown",
     "metadata": {},
     "source": [
      "# Plotting synthetic M dwarf spectra"
     ]
    },
    {
     "cell_type": "code",
     "collapsed": false,
     "input": [
      "myInterface = HDF5Interface(\"../../libraries/PHOENIX_SPEX_2300.hdf5\")\n",
      "\n",
      "wl = myInterface.wl\n",
      "fl = myInterface.load_flux({\"temp\":2300, \"logg\":4.5, \"Z\":-0.5, \"alpha\":0.0})"
     ],
     "language": "python",
     "metadata": {},
     "outputs": [],
     "prompt_number": 76
    },
    {
     "cell_type": "code",
     "collapsed": false,
     "input": [
      "plt.plot(wl, fl)\n",
      "plt.show()"
     ],
     "language": "python",
     "metadata": {},
     "outputs": [],
     "prompt_number": 77
    },
    {
     "cell_type": "code",
     "collapsed": false,
     "input": [],
     "language": "python",
     "metadata": {},
     "outputs": []
    }
   ],
   "metadata": {}
  }
 ]
}