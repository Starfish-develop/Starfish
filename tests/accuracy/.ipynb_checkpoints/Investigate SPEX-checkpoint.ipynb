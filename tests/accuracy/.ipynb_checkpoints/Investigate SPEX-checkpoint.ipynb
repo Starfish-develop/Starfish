{
 "metadata": {
  "name": "",
  "signature": "sha256:6f43ed372f88583d27dcdae999bee6a6ed1f86d6db0af926f33f808c9498178e"
 },
 "nbformat": 3,
 "nbformat_minor": 0,
 "worksheets": [
  {
   "cells": [
    {
     "cell_type": "code",
     "collapsed": false,
     "input": [
      "%matplotlib\n",
      "import matplotlib.pyplot as plt\n",
      "import numpy as np\n",
      "\n",
      "from StellarSpectra.grid_tools import HDF5Interface\n",
      "import h5py"
     ],
     "language": "python",
     "metadata": {},
     "outputs": [
      {
       "output_type": "stream",
       "stream": "stdout",
       "text": [
        "Using matplotlib backend: Qt4Agg\n"
       ]
      }
     ],
     "prompt_number": 1
    },
    {
     "cell_type": "markdown",
     "metadata": {},
     "source": [
      "# Loading M dwarf spectra"
     ]
    },
    {
     "cell_type": "code",
     "collapsed": false,
     "input": [],
     "language": "python",
     "metadata": {},
     "outputs": []
    },
    {
     "cell_type": "markdown",
     "metadata": {},
     "source": [
      "# Plotting synthetic M dwarf spectra"
     ]
    },
    {
     "cell_type": "code",
     "collapsed": false,
     "input": [
      "myInterface = HDF5Interface(\"../../libraries/PHOENIX_SPEX_2300.hdf5\")\n",
      "\n",
      "wl = myInterface.wl\n",
      "fl = myInterface.load_flux({\"temp\":2300, \"logg\":4.5, \"Z\":-0.5, \"alpha\":0.0})"
     ],
     "language": "python",
     "metadata": {},
     "outputs": [],
     "prompt_number": 76
    },
    {
     "cell_type": "code",
     "collapsed": false,
     "input": [
      "plt.plot(wl, fl)\n",
      "plt.show()"
     ],
     "language": "python",
     "metadata": {},
     "outputs": [],
     "prompt_number": 77
    },
    {
     "cell_type": "code",
     "collapsed": false,
     "input": [],
     "language": "python",
     "metadata": {},
     "outputs": []
    }
   ],
   "metadata": {}
  }
 ]
}