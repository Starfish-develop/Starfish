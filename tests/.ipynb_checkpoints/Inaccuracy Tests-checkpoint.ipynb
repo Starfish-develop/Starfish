{
 "metadata": {
  "name": "",
  "signature": "sha256:f4f61f1e66f441b519b943400990104c3fdf49abc180fa4c73192c4f81b46553"
 },
 "nbformat": 3,
 "nbformat_minor": 0,
 "worksheets": [
  {
   "cells": [
    {
     "cell_type": "markdown",
     "metadata": {},
     "source": [
      "# Inaccuracy tests\n",
      "\n",
      "Basically, how bad of an approximation can we do to the interpolation and still get away with 10% accuracy to the grid points? 10K, 0.05 dex in logg and [Fe/H] ?\n",
      "\n",
      "As a comparison we need a high quality spectrum generated using our normal interpolation methods."
     ]
    },
    {
     "cell_type": "code",
     "collapsed": false,
     "input": [
      "%matplotlib\n",
      "import matplotlib.pyplot as plt\n",
      "import numpy as np\n",
      "import scipy.sparse as sp\n",
      "from IPython.html import widgets # Widget definitions\n",
      "from IPython.display import display, clear_output, HTML # Used to display widgets in the notebook\n",
      "from IPython.html.widgets import interact, interactive, fixed"
     ],
     "language": "python",
     "metadata": {},
     "outputs": [
      {
       "output_type": "stream",
       "stream": "stdout",
       "text": [
        "Using matplotlib backend: Qt4Agg\n"
       ]
      }
     ],
     "prompt_number": 1
    },
    {
     "cell_type": "code",
     "collapsed": false,
     "input": [
      "from StellarSpectra.model import Model\n",
      "from StellarSpectra.spectrum import DataSpectrum\n",
      "from StellarSpectra.grid_tools import TRES, HDF5Interface\n",
      "\n",
      "myDataSpectrum = DataSpectrum.open(\"../data/WASP14/WASP14-2009-06-14.hdf5\", orders=np.array([22]))\n",
      "myInstrument = TRES()\n",
      "\n",
      "#myHDF5Interface = HDF5Interface(\"../libraries/PHOENIX_objgrid6000.hdf5\")\n",
      "myHDF5Interface = HDF5Interface(\"../libraries/PHOENIX_objgrid4000.hdf5\")\n",
      "\n",
      "myModel = Model(myDataSpectrum, myInstrument, myHDF5Interface, stellar_tuple=(\"temp\", \"logg\", \"Z\", \"vsini\", \"vz\", \"logOmega\"), \n",
      "                cheb_tuple=(\"c1\", \"c2\", \"c3\"), cov_tuple=(\"sigAmp\", \"logAmp\", \"l\"), region_tuple=(\"h\", \"loga\", \"mu\", \"sigma\"))\n",
      "myOrderModel = myModel.OrderModels[0]"
     ],
     "language": "python",
     "metadata": {},
     "outputs": [
      {
       "output_type": "stream",
       "stream": "stdout",
       "text": [
        "ss is len 2755\n",
        "Creating OrderModel 0\n"
       ]
      }
     ],
     "prompt_number": 2
    },
    {
     "cell_type": "code",
     "collapsed": false,
     "input": [
      "from StellarSpectra.model import ModelHighAccuracy\n",
      "\n",
      "#myHDF5InterfaceHighAccuracy = HDF5Interface(\"../libraries/PHOENIX_submaster.hdf5\")\n",
      "myHDF5InterfaceHighAccuracy = HDF5Interface(\"../libraries/PHOENIX_LkCa15.hdf5\")\n",
      "#myHDF5Interface = HDF5Interface(\"../libraries/PHOENIX_M.hdf5\")\n",
      "\n",
      "myModelHA = ModelHighAccuracy(myDataSpectrum, myInstrument, myHDF5InterfaceHighAccuracy, stellar_tuple=(\"temp\", \"logg\", \"Z\", \"vsini\", \"vz\", \"logOmega\"), \n",
      "                cheb_tuple=(\"c1\", \"c2\", \"c3\"), cov_tuple=(\"sigAmp\", \"logAmp\", \"l\"), region_tuple=(\"h\", \"loga\", \"mu\", \"sigma\"))\n",
      "myOrderModelHA = myModelHA.OrderModels[0]"
     ],
     "language": "python",
     "metadata": {},
     "outputs": [
      {
       "output_type": "stream",
       "stream": "stdout",
       "text": [
        "Grid stretches from 5134.978696599707 to 5235.9293774845055\n",
        "wl_FFT is 0.0480588375883031 km/s\n",
        "Creating OrderModel 0\n"
       ]
      }
     ],
     "prompt_number": 5
    },
    {
     "cell_type": "code",
     "collapsed": false,
     "input": [
      "myHDF5Interface.bounds"
     ],
     "language": "python",
     "metadata": {},
     "outputs": [
      {
       "metadata": {},
       "output_type": "pyout",
       "prompt_number": 3,
       "text": [
        "{'alpha': (0.0, 0.0),\n",
        " 'temp': (5900, 6100),\n",
        " 'logg': (4.0, 5.0),\n",
        " 'Z': (-0.5, 0.0)}"
       ]
      }
     ],
     "prompt_number": 3
    },
    {
     "cell_type": "code",
     "collapsed": false,
     "input": [
      "spec = myModel.get_data()\n",
      "wl = spec.wls[0]\n",
      "fl = spec.fls[0]"
     ],
     "language": "python",
     "metadata": {},
     "outputs": [],
     "prompt_number": 6
    },
    {
     "cell_type": "code",
     "collapsed": false,
     "input": [
      "def plot_diff_spec(wl, spec0, spec1, spec2=None, norm=True, abs_err=False):\n",
      "    '''\n",
      "    Plot the difference between two spectra, if normalize, divide each by their mean.\n",
      "    '''\n",
      "    \n",
      "    if norm:\n",
      "        spec0 = spec0/np.mean(spec0)\n",
      "        spec1 = spec1/np.mean(spec1)\n",
      "        if np.all(spec2) is not None:\n",
      "            spec2 = spec2/np.mean(spec2)\n",
      "        \n",
      "    fig, ax = plt.subplots(nrows=2, figsize=(11,8), sharex=True)\n",
      "    ax[0].plot(wl, spec0, \"b\", label=\"spec0\")\n",
      "    ax[0].plot(wl, spec1, \"r\", label=\"spec1\")\n",
      "    if np.any(spec2):\n",
      "        ax[0].plot(wl, spec2, \"g\", label=\"spec2\")\n",
      "    ax[0].legend()\n",
      "    ax[0].set_ylabel(\"spectra\")\n",
      "    \n",
      "    resid1 = spec0 - spec1\n",
      "    if abs_err:\n",
      "        resid1 = np.abs(resid1/spec0)\n",
      "    ax[1].plot(wl, resid1 * 100, \"k\", label=\"spec0 - spec1\")\n",
      "    if np.any(spec2):\n",
      "        resid2 = spec0 - spec2\n",
      "        if abs_err:\n",
      "            resid2 = np.abs(resid2/spec0)\n",
      "        ax[1].plot(wl, resid2 * 100, \"b\", label=\"spec0 - spec2\")\n",
      "    ax[1].legend()\n",
      "    ax[1].set_xlabel(r\"$\\lambda$\\AA\")\n",
      "    ax[1].set_ylabel(\"residuals (\\%)\")\n",
      "\n",
      "    plt.show()"
     ],
     "language": "python",
     "metadata": {},
     "outputs": [],
     "prompt_number": 7
    },
    {
     "cell_type": "code",
     "collapsed": false,
     "input": [
      "def create_resid_spec(spec0, spec1):\n",
      "    '''\n",
      "    Given a base spectrum and a spectrum slightly offset, return the residual spectrum between the two\n",
      "    '''\n",
      "    #Normalize both spectra\n",
      "    spec0 = spec0/np.mean(spec0)\n",
      "    spec1 = spec1/np.mean(spec1)\n",
      "       \n",
      "    resid = np.abs((spec0 - spec1)/spec0)\n",
      "    return resid"
     ],
     "language": "python",
     "metadata": {},
     "outputs": [],
     "prompt_number": 8
    },
    {
     "cell_type": "code",
     "collapsed": false,
     "input": [
      "def create_min_spec(base, temp_spec, logg_spec, Z_spec):\n",
      "    '''\n",
      "    Given a base spectrum and three perturbing spectra, determine for each pixel the minimum offset so that we can use \n",
      "    this as an error envelope in the approximate spectra.\n",
      "    '''\n",
      "    #Normalize all three spectra\n",
      "    base = base/np.mean(base)\n",
      "    temp_spec = temp_spec/np.mean(temp_spec)\n",
      "    logg_spec = logg_spec/np.mean(logg_spec)\n",
      "    Z_spec = temp_spec/np.mean(Z_spec)\n",
      "    \n",
      "    #Calculate the residual spectrum for each\n",
      "    resid_temp = np.abs((base - temp_spec)/base)\n",
      "    resid_logg = np.abs((base - logg_spec)/base)\n",
      "    resid_Z = np.abs((base - Z_spec)/base)\n",
      "    \n",
      "    #For each pixel, take the smallest value\n",
      "    #Vstack the arrays and take the min along axis=1\n",
      "    arr = np.vstack((resid_temp, resid_logg, resid_Z))\n",
      "    resid_min = np.min(arr, axis=0)\n",
      "    \n",
      "    return resid_min"
     ],
     "language": "python",
     "metadata": {},
     "outputs": [],
     "prompt_number": 9
    },
    {
     "cell_type": "code",
     "collapsed": false,
     "input": [
      "myModelHA.update_Model({\"temp\":4000, \"logg\":4.0, \"Z\":0.0, \"vsini\":0., \"vz\":0, \"logOmega\":0.})\n",
      "base = myOrderModelHA.get_spectrum()\n",
      "\n",
      "myModelHA.update_Model({\"temp\":4010, \"logg\":4.0, \"Z\":0.0, \"vsini\":0., \"vz\":0, \"logOmega\":0.})\n",
      "temp_spec = myOrderModelHA.get_spectrum()\n",
      "\n",
      "myModelHA.update_Model({\"temp\":4000, \"logg\":4.05, \"Z\":0.0, \"vsini\":0., \"vz\":0, \"logOmega\":0.})\n",
      "logg_spec = myOrderModelHA.get_spectrum()\n",
      "\n",
      "myModelHA.update_Model({\"temp\":4000, \"logg\":4.00, \"Z\":-0.05, \"vsini\":0., \"vz\":0, \"logOmega\":0.})\n",
      "Z_spec = myOrderModelHA.get_spectrum()"
     ],
     "language": "python",
     "metadata": {},
     "outputs": [],
     "prompt_number": 10
    },
    {
     "cell_type": "code",
     "collapsed": false,
     "input": [
      "min_spec = create_min_spec(base, temp_spec, logg_spec, Z_spec)"
     ],
     "language": "python",
     "metadata": {},
     "outputs": [],
     "prompt_number": 12
    },
    {
     "cell_type": "code",
     "collapsed": false,
     "input": [
      "plt.plot(wl, min_spec * 100)\n",
      "plt.show()"
     ],
     "language": "python",
     "metadata": {},
     "outputs": [],
     "prompt_number": 13
    },
    {
     "cell_type": "markdown",
     "metadata": {},
     "source": [
      "## Temperature"
     ]
    },
    {
     "cell_type": "code",
     "collapsed": false,
     "input": [
      "params = {\"temp\":4000, \"logg\":4.0, \"Z\":0.0, \"vsini\":0., \"vz\":0, \"logOmega\":0.}\n",
      "myModel.update_Model(params)\n",
      "model_flux0 = myOrderModel.get_spectrum()"
     ],
     "language": "python",
     "metadata": {},
     "outputs": [
      {
       "output_type": "stream",
       "stream": "stdout",
       "text": [
        "interpolated fl is len 5509\n"
       ]
      }
     ],
     "prompt_number": 14
    },
    {
     "cell_type": "code",
     "collapsed": false,
     "input": [
      "acc_spec = create_resid_spec(base, model_flux0)"
     ],
     "language": "python",
     "metadata": {},
     "outputs": [],
     "prompt_number": 15
    },
    {
     "cell_type": "code",
     "collapsed": false,
     "input": [
      "fig, ax = plt.subplots(nrows=2, figsize=(11,8), sharex=True)\n",
      "\n",
      "ax[0].plot(wl, base, \"b\", label=\"base\")\n",
      "ax[0].plot(wl, model_flux0, \"r\", label=\"approx\")\n",
      "ax[0].legend()\n",
      "    \n",
      "ax[1].plot(wl, acc_spec, \"r\", label=\"approx\")\n",
      "ax[1].plot(wl, min_spec, \"k\", label=\"errenvelope\")\n",
      "ax[1].legend()\n",
      "plt.show()"
     ],
     "language": "python",
     "metadata": {},
     "outputs": [],
     "prompt_number": 16
    },
    {
     "cell_type": "code",
     "collapsed": false,
     "input": [
      "params = {\"temp\":6010, \"logg\":4.0, \"Z\":0.0, \"vsini\":0., \"vz\":0, \"logOmega\":0.}\n",
      "myModel.update_Model(params)\n",
      "model_flux1 = myOrderModel.get_spectrum()"
     ],
     "language": "python",
     "metadata": {},
     "outputs": [
      {
       "output_type": "stream",
       "stream": "stdout",
       "text": [
        "interpolated fl is len 5509\n",
        "before vsini\n",
        "fl len 5509\n",
        "5509\n",
        "self.wl is len 5509\n",
        "[ 5129.98582119  5130.00574617  5130.02567122 ...,  5240.8739723\n",
        "  5240.89432797  5240.91468371]\n",
        "[ 10206524.4374997   10211517.12499971  10205949.31249968 ...,\n",
        "   9740877.31249984   9782042.81249979   9828856.49999984]\n",
        "5509 5509\n"
       ]
      }
     ],
     "prompt_number": 7
    },
    {
     "cell_type": "code",
     "collapsed": false,
     "input": [
      "params = {\"temp\":6000, \"logg\":4.0, \"Z\":0.0, \"vsini\":0., \"vz\":0, \"logOmega\":0.}\n",
      "myModelHA.update_Model(params)\n",
      "model_flux0HA = myOrderModelHA.get_spectrum()"
     ],
     "language": "python",
     "metadata": {},
     "outputs": [],
     "prompt_number": 8
    },
    {
     "cell_type": "code",
     "collapsed": false,
     "input": [
      "plot_diff_spec(wl, model_flux0, model_flux0HA, abs_err=True)"
     ],
     "language": "python",
     "metadata": {},
     "outputs": [],
     "prompt_number": 31
    },
    {
     "cell_type": "code",
     "collapsed": false,
     "input": [
      "plot_diff_spec(wl, base, model_flux0, abs_err=True)"
     ],
     "language": "python",
     "metadata": {},
     "outputs": [],
     "prompt_number": 24
    },
    {
     "cell_type": "code",
     "collapsed": false,
     "input": [],
     "language": "python",
     "metadata": {},
     "outputs": []
    },
    {
     "cell_type": "markdown",
     "metadata": {},
     "source": [
      "# logg"
     ]
    },
    {
     "cell_type": "code",
     "collapsed": false,
     "input": [
      "params = {\"temp\":2300, \"logg\":4.05, \"Z\":0.0, \"vsini\":0., \"vz\":0, \"logOmega\":0.}\n",
      "myModel.update_Model(params)\n",
      "model_flux2 = myOrderModel.get_spectrum()"
     ],
     "language": "python",
     "metadata": {},
     "outputs": [],
     "prompt_number": 124
    },
    {
     "cell_type": "code",
     "collapsed": false,
     "input": [
      "plot_diff_spec(wl, model_flux0, model_flux2, abs_err=True)"
     ],
     "language": "python",
     "metadata": {},
     "outputs": [],
     "prompt_number": 127
    },
    {
     "cell_type": "code",
     "collapsed": false,
     "input": [
      "plot_diff_spec(wl, model_flux0, model_flux1, model_flux2, abs_err=True)"
     ],
     "language": "python",
     "metadata": {},
     "outputs": [],
     "prompt_number": 126
    },
    {
     "cell_type": "markdown",
     "metadata": {},
     "source": [
      "## Metallicity"
     ]
    },
    {
     "cell_type": "code",
     "collapsed": false,
     "input": [
      "params = {\"temp\":2300, \"logg\":4.00, \"Z\":-0.05, \"vsini\":0., \"vz\":0, \"logOmega\":0.}\n",
      "myModel.update_Model(params)\n",
      "model_flux3 = myOrderModel.get_spectrum()"
     ],
     "language": "python",
     "metadata": {},
     "outputs": [],
     "prompt_number": 128
    },
    {
     "cell_type": "code",
     "collapsed": false,
     "input": [
      "plot_diff_spec(wl, model_flux0, model_flux3, abs_err=True)"
     ],
     "language": "python",
     "metadata": {},
     "outputs": [],
     "prompt_number": 130
    },
    {
     "cell_type": "code",
     "collapsed": false,
     "input": [
      "plot_diff_spec(wl, model_flux0, model_flux2, model_flux3, abs_err=True)"
     ],
     "language": "python",
     "metadata": {},
     "outputs": [],
     "prompt_number": 95
    },
    {
     "cell_type": "markdown",
     "metadata": {},
     "source": [
      "# Using TRES spectra\n",
      "\n",
      "## Perturbations about T=6000, logg=4.0, Z = 0.00\n",
      "\n",
      "Measured in order 23\n",
      "\n",
      "It seems like at this stage, with the Mg b lines, that metallicity contributes to the greatest change in the spectrum. \n",
      "\n",
      "* Temperature is 0.7%\n",
      "* logg is 1.8%\n",
      "* Metallicity is 3.7% \n",
      "\n",
      "So this is interesting, a 1.5% change in flux level corresponds to a 0.05 dex change in metallicity.\n",
      "\n",
      "## Perturbations about T=4000, logg=4.0, Z= 0.0\n",
      "\n",
      "Measured in order 23\n",
      "\n",
      "* Temperature change is about 2.0%\n",
      "* Logg change is 2.5%\n",
      "* Metallicity change is 5%\n",
      "\n",
      "## Perturbations about T=2300, logg=4.0, Z= 0.0\n",
      "\n",
      "Measured in order 23\n",
      "\n",
      "* Temperature change is 10%\n",
      "* Logg change is 7%\n",
      "* Metallicity change is 10%\n",
      "\n",
      "Measured in order 41\n",
      "\n",
      "* Temperature change is 4%\n",
      "* Logg change is 5%\n",
      "* Metallicity change is 5%"
     ]
    },
    {
     "cell_type": "markdown",
     "metadata": {},
     "source": [
      "# Checking that approximate schemes still work\n",
      "\n",
      "The previous difference spectra were determined using our most accurate implementation of the spectrum modifier yet, that means using the full-resolution PHOENIX grids and k=5 polynomials, such that the spectra are accurate to within floating point precision. Since we have interpolated near a grid point, this also means that any linear approximation to the spline interpolation should be accurate enough.\n",
      "\n",
      "To test any new approximate scheme for generating spectra, we want to see whether the residual spectrum will be **bounded** by the **smallest** spectrum in the {temp, logg, Z} trio, meaning that any error in the approximation will **at most** contribute to 10% error in any of {temp, logg, Z}. We can increase this threshold if it makes sense."
     ]
    },
    {
     "cell_type": "code",
     "collapsed": false,
     "input": [],
     "language": "python",
     "metadata": {},
     "outputs": []
    }
   ],
   "metadata": {}
  }
 ]
}