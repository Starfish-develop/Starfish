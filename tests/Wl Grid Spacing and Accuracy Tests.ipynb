{
 "metadata": {
  "name": "",
  "signature": "sha256:12c01cbca9dc9763bb4ac1f02e41ac5f128b492725ca9a209879b6c6948e7a03"
 },
 "nbformat": 3,
 "nbformat_minor": 0,
 "worksheets": [
  {
   "cells": [
    {
     "cell_type": "code",
     "collapsed": false,
     "input": [
      "#Odyssey\n",
      "from StellarSpectra import grid_tools\n",
      "from StellarSpectra import constants as C\n",
      "import numpy as np\n",
      "from scipy.interpolate import InterpolatedUnivariateSpline\n",
      "\n",
      "from StellarSpectra.grid_tools import TRES\n",
      "\n",
      "raw_library_path = \"/home/ian/Grad/Research/Disks/StellarSpectra/libraries/raw/PHOENIX/\"\n",
      "mygrid = grid_tools.PHOENIXGridInterface(base=raw_library_path)"
     ],
     "language": "python",
     "metadata": {},
     "outputs": [],
     "prompt_number": 6
    },
    {
     "cell_type": "code",
     "collapsed": false,
     "input": [
      "spec = mygrid.load_file({\"temp\":5000, \"logg\":3.5, \"Z\":0.0,\"alpha\":0.0})\n",
      "wl_dict_t = spec.calculate_log_lam_grid(min=True)\n",
      "wl_t = wl_dict_t[\"wl\"]\n",
      "wl_dict_f = spec.calculate_log_lam_grid(min=False)\n",
      "wl_f = wl_dict_f[\"wl\"]"
     ],
     "language": "python",
     "metadata": {},
     "outputs": [
      {
       "output_type": "stream",
       "stream": "stdout",
       "text": [
        "0.00599840565155 4998.56753007\n",
        "0.0199945805343"
       ]
      },
      {
       "output_type": "stream",
       "stream": "stdout",
       "text": [
        " 9997.27908473\n"
       ]
      }
     ],
     "prompt_number": 2
    },
    {
     "cell_type": "code",
     "collapsed": false,
     "input": [
      "def calculate_min_v(wl_dict):\n",
      "    CDELT1 = wl_dict[\"CDELT1\"]\n",
      "    min_v = C.c_kms * (10**CDELT1 - 1)\n",
      "    return min_v"
     ],
     "language": "python",
     "metadata": {},
     "outputs": [],
     "prompt_number": 5
    },
    {
     "cell_type": "code",
     "collapsed": false,
     "input": [
      "print(calculate_min_v(wl_dict_t), \"km/s\")\n",
      "print(calculate_min_v(wl_dict_f), \"km/s\")"
     ],
     "language": "python",
     "metadata": {},
     "outputs": [
      {
       "output_type": "stream",
       "stream": "stdout",
       "text": [
        "0.209616021043 km/s\n",
        "0.419232388502 km/s\n"
       ]
      }
     ],
     "prompt_number": 7
    },
    {
     "cell_type": "markdown",
     "metadata": {},
     "source": [
      "What is the smallest velocity spacing of the spectra? Presumably this would be set by the macroturbulence (is it measured as FWHM? or as sigma). Look this up in the paper.\n",
      "\n",
      "# Spline interpolation tests\n",
      "\n",
      "Let's compare the different kinds of interpolation to make sure that we are properly capturing all of the \"information\" contained in the spectrum. Try spline interpolation on three different grids to a single common grid, and then use ``np.allclose`` to determine if we lost anything.\n",
      "\n",
      "1. Interpolate from the raw wl grid to the ``log_lam_grid(min=True)``\n",
      "2. Interpolate from the raw wl grid to the ``log_lam_grid(min=False)``\n",
      "3. Interpolate from ``log_lam_grid(min=True)`` grid to ``log_lam_grid(min=False)`` grid\n",
      "4. Interpolate from ``log_lam_grid(min=False)`` grid to ``log_lam_grid(min=True)`` grid\n",
      "\n",
      "Compare all using ``np.allclose`` to see if any information has been lost."
     ]
    },
    {
     "cell_type": "code",
     "collapsed": false,
     "input": [
      "#Create a finely spaced grid, say 0.1kms\n",
      "wl_dict_fine = grid_tools.create_log_lam_grid(wl_start=3000, wl_end=13000, min_vc=0.06/C.c_kms)\n",
      "wl_fine = wl_dict_fine['wl']\n",
      "print(calculate_min_v(wl_dict_fine), \"km/s\") #note, this grid will be a power of 2, so min_vc might be what you specify"
     ],
     "language": "python",
     "metadata": {},
     "outputs": [
      {
       "output_type": "stream",
       "stream": "stdout",
       "text": [
        "0.052404032337 km/s\n"
       ]
      }
     ],
     "prompt_number": 60
    },
    {
     "cell_type": "markdown",
     "metadata": {},
     "source": [
      "How can we be sure that using a 0.2 km/s grid and k=5 spline that we are not loosing any information? Basically, what if we interpolate to this grid, then use it to interpolate back to the *original*, linearly spaced grid? If this test passes, then we know that we are doing OK. However, how does using a larger wavelength grid like this slow down the FFT?"
     ]
    },
    {
     "cell_type": "code",
     "collapsed": false,
     "input": [
      "interp = InterpolatedUnivariateSpline(spec.wl, spec.fl, k=5) #This higher power is needed to go from the raw grid to evenly spaced\n",
      "fl_fine = interp(wl_fine)\n",
      "#now try interpolating *back* to the original grid\n",
      "interp_back = InterpolatedUnivariateSpline(wl_fine, fl_fine, k=5)\n",
      "fl_back = interp_back(spec.wl)\n",
      "np.allclose(spec.fl, fl_back)"
     ],
     "language": "python",
     "metadata": {},
     "outputs": [
      {
       "metadata": {},
       "output_type": "pyout",
       "prompt_number": 59,
       "text": [
        "True"
       ]
      }
     ],
     "prompt_number": 59
    },
    {
     "cell_type": "code",
     "collapsed": false,
     "input": [
      "interp = InterpolatedUnivariateSpline(spec.wl, spec.fl, k=5) #This higher power is needed to go from the raw grid to evenly spaced\n",
      "fl_fine = interp(wl_fine)\n",
      "fl_t = interp(wl_t)\n",
      "interp_fine = InterpolatedUnivariateSpline(wl_fine,fl_fine, k=3)\n",
      "fl_fine_t = interp_fine(wl_t)\n",
      "np.allclose(fl_t, fl_fine_t)"
     ],
     "language": "python",
     "metadata": {},
     "outputs": [
      {
       "metadata": {},
       "output_type": "pyout",
       "prompt_number": 58,
       "text": [
        "True"
       ]
      }
     ],
     "prompt_number": 58
    },
    {
     "cell_type": "markdown",
     "metadata": {},
     "source": [
      "The closest we can get away with is min_v = 0.5 km/s and spline k=4 that still satisfies np.allclose = True. So, because the grid actually contains information in the irregularly spaced pixels, we need to go to a very high oversampling (X4) to preserve this.\n",
      "\n",
      "A grid that is spaced at 0.1 km/s will not work."
     ]
    },
    {
     "cell_type": "code",
     "collapsed": false,
     "input": [
      "timeit fl_fine_t = interp_fine(wl_t)"
     ],
     "language": "python",
     "metadata": {},
     "outputs": [
      {
       "output_type": "stream",
       "stream": "stdout",
       "text": [
        "10 loops, best of 3: 185 ms per loop\n"
       ]
      }
     ],
     "prompt_number": 46
    },
    {
     "cell_type": "code",
     "collapsed": false,
     "input": [
      "fig, ax = plt.subplots(nrows=2, sharex=True)\n",
      "ax[0].plot(wl_t, fl_t)\n",
      "ax[0].plot(wl_t, fl_fine_t)\n",
      "ax[1].plot(wl_t, fl_t - fl_fine_t)\n",
      "plt.show()"
     ],
     "language": "python",
     "metadata": {},
     "outputs": [],
     "prompt_number": 27
    },
    {
     "cell_type": "markdown",
     "metadata": {},
     "source": [
      "This is only bad at the 1e-6 level. "
     ]
    },
    {
     "cell_type": "code",
     "collapsed": false,
     "input": [
      "interp = InterpolatedUnivariateSpline(spec.wl, spec.fl, k=5)\n",
      "fl_t = interp(wl_t)\n",
      "fl_f = interp(wl_f)\n",
      "\n",
      "fl_t_f = InterpolatedUnivariateSpline(wl_t,fl_t, k=5)(wl_f)\n",
      "\n",
      "np.allclose(fl_f, fl_t_f)"
     ],
     "language": "python",
     "metadata": {},
     "outputs": [
      {
       "metadata": {},
       "output_type": "pyout",
       "prompt_number": 29,
       "text": [
        "False"
       ]
      }
     ],
     "prompt_number": 29
    },
    {
     "cell_type": "code",
     "collapsed": false,
     "input": [
      "import matplotlib.pyplot as plt"
     ],
     "language": "python",
     "metadata": {},
     "outputs": [],
     "prompt_number": 15
    },
    {
     "cell_type": "code",
     "collapsed": false,
     "input": [
      "fig, ax = plt.subplots(nrows=2, sharex=True)\n",
      "ax[0].plot(wl_f, fl_f)\n",
      "ax[0].plot(wl_f, fl_t_f)\n",
      "ax[1].plot(wl_f, fl_f - fl_t_f)\n",
      "plt.show()"
     ],
     "language": "python",
     "metadata": {},
     "outputs": [],
     "prompt_number": 19
    },
    {
     "cell_type": "markdown",
     "metadata": {},
     "source": [
      "The result is that some informaiton around spectra lines is lost at the 1e-3 level. I think this isn't the best...\n",
      "\n",
      "By eye, it looks like the lines that have a semi-circular bottom are the worst performing (at the edges), while the Gaussian lines don't do so badly.\n",
      "\n",
      "\n",
      "What are some other tests that we could try? What about interpolating to a fine (0.1 km/s) grid, and THEN interpolating to a minimum spaced grid (0.2 km/s), and then comparing this to interpolating directly from the natural grid to 0.2 km/s?"
     ]
    },
    {
     "cell_type": "markdown",
     "metadata": {},
     "source": [
      "#Timing tests"
     ]
    },
    {
     "cell_type": "code",
     "collapsed": false,
     "input": [
      "wl_dict = grid_tools.create_log_lam_grid(wl_start=3000, wl_end=13000, min_vc=0.06/C.c_kms)\n",
      "wl = wl_dict.pop(\"wl\")\n",
      "wl_dict.update({\"type\":\"test spectrum\"})\n",
      "spec = grid_tools.LogLambdaSpectrum(wl, np.ones_like(wl), metadata=wl_dict)\n",
      "\n",
      "instrument = TRES()"
     ],
     "language": "python",
     "metadata": {},
     "outputs": [],
     "prompt_number": 16
    },
    {
     "cell_type": "code",
     "collapsed": false,
     "input": [
      "timeit -n 1 -r 1 spec.instrument_and_stellar_convolve(instrument, 10.)"
     ],
     "language": "python",
     "metadata": {},
     "outputs": [
      {
       "output_type": "stream",
       "stream": "stdout",
       "text": [
        "1 loops, best of 1: 10.5 s per loop\n"
       ]
      }
     ],
     "prompt_number": 17
    },
    {
     "cell_type": "code",
     "collapsed": false,
     "input": [],
     "language": "python",
     "metadata": {},
     "outputs": []
    }
   ],
   "metadata": {}
  }
 ]
}